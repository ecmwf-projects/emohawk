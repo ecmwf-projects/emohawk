{
 "cells": [
  {
   "cell_type": "markdown",
   "id": "efcec08c-c3b1-476c-adbf-44dfe53acd2d",
   "metadata": {},
   "source": [
    "## S3 bucket access"
   ]
  },
  {
   "cell_type": "markdown",
   "id": "0da9d2a6-bfc1-4b47-bca4-5a8984ef2e5a",
   "metadata": {},
   "source": [
    "The [s3 source](../guide/sources.rst#s3) provides access to [Amazon S3](https://aws.amazon.com/s3/) buckets.\n",
    "\n",
    "In this example we will use a publicly available bucket containing ECMWF forecast data in GRIB format."
   ]
  },
  {
   "cell_type": "code",
   "execution_count": 1,
   "id": "f57ac889-6357-40bf-8c2d-1f36fe3db892",
   "metadata": {},
   "outputs": [],
   "source": [
    "import earthkit.data\n",
    "\n",
    "bucket_name = \"ecmwf-forecasts\""
   ]
  },
  {
   "cell_type": "markdown",
   "id": "8e100440-5873-4186-a7fd-cc776fb251a3",
   "metadata": {},
   "source": [
    "### Getting a whole object"
   ]
  },
  {
   "cell_type": "markdown",
   "id": "5ea0d5fe-ba8e-42f9-996e-90bcf3fc6b0c",
   "metadata": {},
   "source": [
    "#### Read as stream"
   ]
  },
  {
   "cell_type": "markdown",
   "id": "dc0cbd34-5cb9-4818-999a-6313d75259c9",
   "metadata": {},
   "source": [
    "By default the [s3 source](../guide/sources.rst#s3) returns a stream iterator, which we can consume field by field."
   ]
  },
  {
   "cell_type": "code",
   "execution_count": 2,
   "id": "994738a9-2452-407c-a57c-c5c8f64f9a67",
   "metadata": {},
   "outputs": [
    {
     "data": {
      "text/plain": [
       "83"
      ]
     },
     "execution_count": 2,
     "metadata": {},
     "output_type": "execute_result"
    }
   ],
   "source": [
    "key = \"20240111/00z/0p4-beta/oper/20240111000000-0h-oper-fc.grib2\"\n",
    "r = {\"bucket\": bucket_name, \n",
    "     \"objects\": [\n",
    "         {\"object\":  key} \n",
    "          ],\n",
    "   }\n",
    "\n",
    "ds = earthkit.data.from_source(\"s3\", r)\n",
    "\n",
    "cnt = 0\n",
    "for f in ds:\n",
    "    cnt += 1\n",
    "\n",
    "cnt"
   ]
  },
  {
   "cell_type": "markdown",
   "id": "924dacb7-ec41-46d3-8dfc-0d45283216af",
   "metadata": {},
   "source": [
    "Options [batch_size](../guide/sources.rst#s3) and [group_by](../guide/sources.rst#s3) control how the stream data is handled. E.g. with [batch_size](../guide/sources.rst#s3)=0 we can load the whole object into memory. "
   ]
  },
  {
   "cell_type": "code",
   "execution_count": 3,
   "id": "8ce9bae9-de9f-4409-a355-93761ceb7c4f",
   "metadata": {},
   "outputs": [
    {
     "name": "stdout",
     "output_type": "stream",
     "text": [
      "len=83\n"
     ]
    },
    {
     "data": {
      "text/html": [
       "<div>\n",
       "<style scoped>\n",
       "    .dataframe tbody tr th:only-of-type {\n",
       "        vertical-align: middle;\n",
       "    }\n",
       "\n",
       "    .dataframe tbody tr th {\n",
       "        vertical-align: top;\n",
       "    }\n",
       "\n",
       "    .dataframe thead th {\n",
       "        text-align: right;\n",
       "    }\n",
       "</style>\n",
       "<table border=\"1\" class=\"dataframe\">\n",
       "  <thead>\n",
       "    <tr style=\"text-align: right;\">\n",
       "      <th></th>\n",
       "      <th>centre</th>\n",
       "      <th>shortName</th>\n",
       "      <th>typeOfLevel</th>\n",
       "      <th>level</th>\n",
       "      <th>dataDate</th>\n",
       "      <th>dataTime</th>\n",
       "      <th>stepRange</th>\n",
       "      <th>dataType</th>\n",
       "      <th>number</th>\n",
       "      <th>gridType</th>\n",
       "    </tr>\n",
       "  </thead>\n",
       "  <tbody>\n",
       "    <tr>\n",
       "      <th>0</th>\n",
       "      <td>ecmf</td>\n",
       "      <td>gh</td>\n",
       "      <td>isobaricInhPa</td>\n",
       "      <td>200</td>\n",
       "      <td>20240111</td>\n",
       "      <td>0</td>\n",
       "      <td>0</td>\n",
       "      <td>fc</td>\n",
       "      <td>None</td>\n",
       "      <td>regular_ll</td>\n",
       "    </tr>\n",
       "    <tr>\n",
       "      <th>1</th>\n",
       "      <td>ecmf</td>\n",
       "      <td>gh</td>\n",
       "      <td>isobaricInhPa</td>\n",
       "      <td>925</td>\n",
       "      <td>20240111</td>\n",
       "      <td>0</td>\n",
       "      <td>0</td>\n",
       "      <td>fc</td>\n",
       "      <td>None</td>\n",
       "      <td>regular_ll</td>\n",
       "    </tr>\n",
       "    <tr>\n",
       "      <th>2</th>\n",
       "      <td>ecmf</td>\n",
       "      <td>gh</td>\n",
       "      <td>isobaricInhPa</td>\n",
       "      <td>500</td>\n",
       "      <td>20240111</td>\n",
       "      <td>0</td>\n",
       "      <td>0</td>\n",
       "      <td>fc</td>\n",
       "      <td>None</td>\n",
       "      <td>regular_ll</td>\n",
       "    </tr>\n",
       "    <tr>\n",
       "      <th>3</th>\n",
       "      <td>ecmf</td>\n",
       "      <td>r</td>\n",
       "      <td>isobaricInhPa</td>\n",
       "      <td>925</td>\n",
       "      <td>20240111</td>\n",
       "      <td>0</td>\n",
       "      <td>0</td>\n",
       "      <td>fc</td>\n",
       "      <td>None</td>\n",
       "      <td>regular_ll</td>\n",
       "    </tr>\n",
       "    <tr>\n",
       "      <th>4</th>\n",
       "      <td>ecmf</td>\n",
       "      <td>gh</td>\n",
       "      <td>isobaricInhPa</td>\n",
       "      <td>250</td>\n",
       "      <td>20240111</td>\n",
       "      <td>0</td>\n",
       "      <td>0</td>\n",
       "      <td>fc</td>\n",
       "      <td>None</td>\n",
       "      <td>regular_ll</td>\n",
       "    </tr>\n",
       "  </tbody>\n",
       "</table>\n",
       "</div>"
      ],
      "text/plain": [
       "  centre shortName    typeOfLevel  level  dataDate  dataTime stepRange  \\\n",
       "0   ecmf        gh  isobaricInhPa    200  20240111         0         0   \n",
       "1   ecmf        gh  isobaricInhPa    925  20240111         0         0   \n",
       "2   ecmf        gh  isobaricInhPa    500  20240111         0         0   \n",
       "3   ecmf         r  isobaricInhPa    925  20240111         0         0   \n",
       "4   ecmf        gh  isobaricInhPa    250  20240111         0         0   \n",
       "\n",
       "  dataType number    gridType  \n",
       "0       fc   None  regular_ll  \n",
       "1       fc   None  regular_ll  \n",
       "2       fc   None  regular_ll  \n",
       "3       fc   None  regular_ll  \n",
       "4       fc   None  regular_ll  "
      ]
     },
     "execution_count": 3,
     "metadata": {},
     "output_type": "execute_result"
    }
   ],
   "source": [
    "ds = earthkit.data.from_source(\"s3\", r, batch_size=0)\n",
    "\n",
    "# ds is a FieldList stored entirely in memory\n",
    "print(f\"len={len(ds)}\")\n",
    "ds.head()"
   ]
  },
  {
   "cell_type": "markdown",
   "id": "d2044e95-6775-4f60-afae-c9bb15278af0",
   "metadata": {},
   "source": [
    "#### Disk based access"
   ]
  },
  {
   "cell_type": "markdown",
   "id": "5700bd82-9fe8-4f99-b8cf-c8a48492262e",
   "metadata": {},
   "source": [
    "Data can be read from a file downloaded and stored in the earthkit-data cache/tmp area."
   ]
  },
  {
   "cell_type": "code",
   "execution_count": 4,
   "id": "f26aeda6-6154-49d5-b919-9711f93763d8",
   "metadata": {},
   "outputs": [
    {
     "name": "stdout",
     "output_type": "stream",
     "text": [
      "len=83\n"
     ]
    },
    {
     "data": {
      "text/html": [
       "<div>\n",
       "<style scoped>\n",
       "    .dataframe tbody tr th:only-of-type {\n",
       "        vertical-align: middle;\n",
       "    }\n",
       "\n",
       "    .dataframe tbody tr th {\n",
       "        vertical-align: top;\n",
       "    }\n",
       "\n",
       "    .dataframe thead th {\n",
       "        text-align: right;\n",
       "    }\n",
       "</style>\n",
       "<table border=\"1\" class=\"dataframe\">\n",
       "  <thead>\n",
       "    <tr style=\"text-align: right;\">\n",
       "      <th></th>\n",
       "      <th>centre</th>\n",
       "      <th>shortName</th>\n",
       "      <th>typeOfLevel</th>\n",
       "      <th>level</th>\n",
       "      <th>dataDate</th>\n",
       "      <th>dataTime</th>\n",
       "      <th>stepRange</th>\n",
       "      <th>dataType</th>\n",
       "      <th>number</th>\n",
       "      <th>gridType</th>\n",
       "    </tr>\n",
       "  </thead>\n",
       "  <tbody>\n",
       "    <tr>\n",
       "      <th>0</th>\n",
       "      <td>ecmf</td>\n",
       "      <td>gh</td>\n",
       "      <td>isobaricInhPa</td>\n",
       "      <td>200</td>\n",
       "      <td>20240111</td>\n",
       "      <td>0</td>\n",
       "      <td>0</td>\n",
       "      <td>fc</td>\n",
       "      <td>None</td>\n",
       "      <td>regular_ll</td>\n",
       "    </tr>\n",
       "    <tr>\n",
       "      <th>1</th>\n",
       "      <td>ecmf</td>\n",
       "      <td>gh</td>\n",
       "      <td>isobaricInhPa</td>\n",
       "      <td>925</td>\n",
       "      <td>20240111</td>\n",
       "      <td>0</td>\n",
       "      <td>0</td>\n",
       "      <td>fc</td>\n",
       "      <td>None</td>\n",
       "      <td>regular_ll</td>\n",
       "    </tr>\n",
       "    <tr>\n",
       "      <th>2</th>\n",
       "      <td>ecmf</td>\n",
       "      <td>gh</td>\n",
       "      <td>isobaricInhPa</td>\n",
       "      <td>500</td>\n",
       "      <td>20240111</td>\n",
       "      <td>0</td>\n",
       "      <td>0</td>\n",
       "      <td>fc</td>\n",
       "      <td>None</td>\n",
       "      <td>regular_ll</td>\n",
       "    </tr>\n",
       "    <tr>\n",
       "      <th>3</th>\n",
       "      <td>ecmf</td>\n",
       "      <td>r</td>\n",
       "      <td>isobaricInhPa</td>\n",
       "      <td>925</td>\n",
       "      <td>20240111</td>\n",
       "      <td>0</td>\n",
       "      <td>0</td>\n",
       "      <td>fc</td>\n",
       "      <td>None</td>\n",
       "      <td>regular_ll</td>\n",
       "    </tr>\n",
       "    <tr>\n",
       "      <th>4</th>\n",
       "      <td>ecmf</td>\n",
       "      <td>gh</td>\n",
       "      <td>isobaricInhPa</td>\n",
       "      <td>250</td>\n",
       "      <td>20240111</td>\n",
       "      <td>0</td>\n",
       "      <td>0</td>\n",
       "      <td>fc</td>\n",
       "      <td>None</td>\n",
       "      <td>regular_ll</td>\n",
       "    </tr>\n",
       "  </tbody>\n",
       "</table>\n",
       "</div>"
      ],
      "text/plain": [
       "  centre shortName    typeOfLevel  level  dataDate  dataTime stepRange  \\\n",
       "0   ecmf        gh  isobaricInhPa    200  20240111         0         0   \n",
       "1   ecmf        gh  isobaricInhPa    925  20240111         0         0   \n",
       "2   ecmf        gh  isobaricInhPa    500  20240111         0         0   \n",
       "3   ecmf         r  isobaricInhPa    925  20240111         0         0   \n",
       "4   ecmf        gh  isobaricInhPa    250  20240111         0         0   \n",
       "\n",
       "  dataType number    gridType  \n",
       "0       fc   None  regular_ll  \n",
       "1       fc   None  regular_ll  \n",
       "2       fc   None  regular_ll  \n",
       "3       fc   None  regular_ll  \n",
       "4       fc   None  regular_ll  "
      ]
     },
     "execution_count": 4,
     "metadata": {},
     "output_type": "execute_result"
    }
   ],
   "source": [
    "ds = earthkit.data.from_source(\"s3\", r, stream=False)\n",
    "\n",
    "# ds is a FieldList read from a grib file on disk\n",
    "print(f\"len={len(ds)}\")\n",
    "ds.head()"
   ]
  },
  {
   "cell_type": "markdown",
   "id": "82fa6c6a-ce80-4057-a843-7208383f9030",
   "metadata": {},
   "source": [
    "### Getting multiple objects"
   ]
  },
  {
   "cell_type": "code",
   "execution_count": 5,
   "id": "f6c8f92c-39a4-4c41-9795-75b81ecc6a0f",
   "metadata": {},
   "outputs": [
    {
     "name": "stderr",
     "output_type": "stream",
     "text": [
      "                                                                                                                                                                                          \r"
     ]
    },
    {
     "data": {
      "text/plain": [
       "(166, [0, 12])"
      ]
     },
     "execution_count": 5,
     "metadata": {},
     "output_type": "execute_result"
    }
   ],
   "source": [
    "# getting 2 forecats steps (0 and 12 h)\n",
    "key1 = \"20240111/00z/0p4-beta/oper/20240111000000-0h-oper-fc.grib2\"\n",
    "key2 = \"20240111/00z/0p4-beta/oper/20240111000000-12h-oper-fc.grib2\"\n",
    "r = {\"bucket\": bucket_name, \n",
    "     \"objects\": [\n",
    "         {\"object\": key1} , \n",
    "         {\"object\": key2}\n",
    "     ],\n",
    "   }\n",
    "\n",
    "ds = earthkit.data.from_source(\"s3\", r, stream=False)\n",
    "\n",
    "# ds is a FieldList read from a grib file on disk\n",
    "len(ds), ds.index(\"step\")"
   ]
  },
  {
   "cell_type": "markdown",
   "id": "468c632a-5eec-4b45-a41a-fb01ee8e58c3",
   "metadata": {},
   "source": [
    "### Getting part of an object¶"
   ]
  },
  {
   "cell_type": "markdown",
   "id": "2301ca35-f2b0-4e50-b5d6-b40548600cdf",
   "metadata": {},
   "source": [
    "A single byte range can be specified for each object."
   ]
  },
  {
   "cell_type": "code",
   "execution_count": 6,
   "id": "a76b35a4-39b3-497f-b2b3-e20437e222e1",
   "metadata": {},
   "outputs": [
    {
     "data": {
      "text/html": [
       "<div>\n",
       "<style scoped>\n",
       "    .dataframe tbody tr th:only-of-type {\n",
       "        vertical-align: middle;\n",
       "    }\n",
       "\n",
       "    .dataframe tbody tr th {\n",
       "        vertical-align: top;\n",
       "    }\n",
       "\n",
       "    .dataframe thead th {\n",
       "        text-align: right;\n",
       "    }\n",
       "</style>\n",
       "<table border=\"1\" class=\"dataframe\">\n",
       "  <thead>\n",
       "    <tr style=\"text-align: right;\">\n",
       "      <th></th>\n",
       "      <th>centre</th>\n",
       "      <th>shortName</th>\n",
       "      <th>typeOfLevel</th>\n",
       "      <th>level</th>\n",
       "      <th>dataDate</th>\n",
       "      <th>dataTime</th>\n",
       "      <th>stepRange</th>\n",
       "      <th>dataType</th>\n",
       "      <th>number</th>\n",
       "      <th>gridType</th>\n",
       "    </tr>\n",
       "  </thead>\n",
       "  <tbody>\n",
       "    <tr>\n",
       "      <th>0</th>\n",
       "      <td>ecmf</td>\n",
       "      <td>gh</td>\n",
       "      <td>isobaricInhPa</td>\n",
       "      <td>200</td>\n",
       "      <td>20240111</td>\n",
       "      <td>0</td>\n",
       "      <td>0</td>\n",
       "      <td>fc</td>\n",
       "      <td>None</td>\n",
       "      <td>regular_ll</td>\n",
       "    </tr>\n",
       "    <tr>\n",
       "      <th>1</th>\n",
       "      <td>ecmf</td>\n",
       "      <td>gh</td>\n",
       "      <td>isobaricInhPa</td>\n",
       "      <td>925</td>\n",
       "      <td>20240111</td>\n",
       "      <td>0</td>\n",
       "      <td>0</td>\n",
       "      <td>fc</td>\n",
       "      <td>None</td>\n",
       "      <td>regular_ll</td>\n",
       "    </tr>\n",
       "  </tbody>\n",
       "</table>\n",
       "</div>"
      ],
      "text/plain": [
       "  centre shortName    typeOfLevel  level  dataDate  dataTime stepRange  \\\n",
       "0   ecmf        gh  isobaricInhPa    200  20240111         0         0   \n",
       "1   ecmf        gh  isobaricInhPa    925  20240111         0         0   \n",
       "\n",
       "  dataType number    gridType  \n",
       "0       fc   None  regular_ll  \n",
       "1       fc   None  regular_ll  "
      ]
     },
     "execution_count": 6,
     "metadata": {},
     "output_type": "execute_result"
    }
   ],
   "source": [
    "key = \"20240111/00z/0p4-beta/oper/20240111000000-0h-oper-fc.grib2\"\n",
    "r = {\"bucket\": bucket_name, \n",
    "     \"objects\": [\n",
    "         {\"object\": key, \"start\": 0, \"range\": 438714} \n",
    "          ],\n",
    "   }\n",
    "\n",
    "# ds is a FieldList read from a grib file on disk\n",
    "ds = earthkit.data.from_source(\"s3\", r, stream=False)\n",
    "ds.ls()"
   ]
  },
  {
   "cell_type": "markdown",
   "id": "78c4cf87-289d-4f00-82f0-ace146d6c53c",
   "metadata": {},
   "source": [
    "### Getting parts of multiple objects"
   ]
  },
  {
   "cell_type": "code",
   "execution_count": 7,
   "id": "f2b7f708-2b69-4a0f-80a9-2724b5ab19f9",
   "metadata": {},
   "outputs": [
    {
     "name": "stderr",
     "output_type": "stream",
     "text": [
      "                                                                                                                                                                                          \r"
     ]
    },
    {
     "data": {
      "text/html": [
       "<div>\n",
       "<style scoped>\n",
       "    .dataframe tbody tr th:only-of-type {\n",
       "        vertical-align: middle;\n",
       "    }\n",
       "\n",
       "    .dataframe tbody tr th {\n",
       "        vertical-align: top;\n",
       "    }\n",
       "\n",
       "    .dataframe thead th {\n",
       "        text-align: right;\n",
       "    }\n",
       "</style>\n",
       "<table border=\"1\" class=\"dataframe\">\n",
       "  <thead>\n",
       "    <tr style=\"text-align: right;\">\n",
       "      <th></th>\n",
       "      <th>centre</th>\n",
       "      <th>shortName</th>\n",
       "      <th>typeOfLevel</th>\n",
       "      <th>level</th>\n",
       "      <th>dataDate</th>\n",
       "      <th>dataTime</th>\n",
       "      <th>stepRange</th>\n",
       "      <th>dataType</th>\n",
       "      <th>number</th>\n",
       "      <th>gridType</th>\n",
       "    </tr>\n",
       "  </thead>\n",
       "  <tbody>\n",
       "    <tr>\n",
       "      <th>0</th>\n",
       "      <td>ecmf</td>\n",
       "      <td>gh</td>\n",
       "      <td>isobaricInhPa</td>\n",
       "      <td>200</td>\n",
       "      <td>20240111</td>\n",
       "      <td>0</td>\n",
       "      <td>0</td>\n",
       "      <td>fc</td>\n",
       "      <td>None</td>\n",
       "      <td>regular_ll</td>\n",
       "    </tr>\n",
       "    <tr>\n",
       "      <th>1</th>\n",
       "      <td>ecmf</td>\n",
       "      <td>gh</td>\n",
       "      <td>isobaricInhPa</td>\n",
       "      <td>925</td>\n",
       "      <td>20240111</td>\n",
       "      <td>0</td>\n",
       "      <td>0</td>\n",
       "      <td>fc</td>\n",
       "      <td>None</td>\n",
       "      <td>regular_ll</td>\n",
       "    </tr>\n",
       "    <tr>\n",
       "      <th>2</th>\n",
       "      <td>ecmf</td>\n",
       "      <td>gh</td>\n",
       "      <td>isobaricInhPa</td>\n",
       "      <td>200</td>\n",
       "      <td>20240111</td>\n",
       "      <td>0</td>\n",
       "      <td>12</td>\n",
       "      <td>fc</td>\n",
       "      <td>None</td>\n",
       "      <td>regular_ll</td>\n",
       "    </tr>\n",
       "    <tr>\n",
       "      <th>3</th>\n",
       "      <td>ecmf</td>\n",
       "      <td>gh</td>\n",
       "      <td>isobaricInhPa</td>\n",
       "      <td>1000</td>\n",
       "      <td>20240111</td>\n",
       "      <td>0</td>\n",
       "      <td>12</td>\n",
       "      <td>fc</td>\n",
       "      <td>None</td>\n",
       "      <td>regular_ll</td>\n",
       "    </tr>\n",
       "  </tbody>\n",
       "</table>\n",
       "</div>"
      ],
      "text/plain": [
       "  centre shortName    typeOfLevel  level  dataDate  dataTime stepRange  \\\n",
       "0   ecmf        gh  isobaricInhPa    200  20240111         0         0   \n",
       "1   ecmf        gh  isobaricInhPa    925  20240111         0         0   \n",
       "2   ecmf        gh  isobaricInhPa    200  20240111         0        12   \n",
       "3   ecmf        gh  isobaricInhPa   1000  20240111         0        12   \n",
       "\n",
       "  dataType number    gridType  \n",
       "0       fc   None  regular_ll  \n",
       "1       fc   None  regular_ll  \n",
       "2       fc   None  regular_ll  \n",
       "3       fc   None  regular_ll  "
      ]
     },
     "execution_count": 7,
     "metadata": {},
     "output_type": "execute_result"
    }
   ],
   "source": [
    "key1 = \"20240111/00z/0p4-beta/oper/20240111000000-0h-oper-fc.grib2\"\n",
    "key2 = \"20240111/00z/0p4-beta/oper/20240111000000-12h-oper-fc.grib2\"\n",
    "r = {\"bucket\": bucket_name, \n",
    "     \"objects\": [\n",
    "         {\"object\": key1, \"start\": 0, \"range\": 438714},\n",
    "         {\"object\": key2, \"start\": 0, \"range\": 451531} \n",
    "     ],\n",
    "   }\n",
    "\n",
    "# ds is a FieldList read from a grib file on disk\n",
    "ds = earthkit.data.from_source(\"s3\", r, stream=False)\n",
    "ds.ls()"
   ]
  },
  {
   "cell_type": "code",
   "execution_count": null,
   "id": "042aad13-672a-4a50-a874-cf7d2341cea7",
   "metadata": {},
   "outputs": [],
   "source": []
  }
 ],
 "metadata": {
  "kernelspec": {
   "display_name": "dev",
   "language": "python",
   "name": "dev"
  },
  "language_info": {
   "codemirror_mode": {
    "name": "ipython",
    "version": 3
   },
   "file_extension": ".py",
   "mimetype": "text/x-python",
   "name": "python",
   "nbconvert_exporter": "python",
   "pygments_lexer": "ipython3",
   "version": "3.10.13"
  }
 },
 "nbformat": 4,
 "nbformat_minor": 5
}
