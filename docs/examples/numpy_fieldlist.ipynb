{
 "cells": [
  {
   "cell_type": "markdown",
   "id": "8f1994c5-bb2a-4c52-8405-fd240cf965ba",
   "metadata": {},
   "source": [
    "## FieldList from numpy array and metadata"
   ]
  },
  {
   "cell_type": "code",
   "execution_count": 1,
   "id": "348564d3-1e60-455f-9081-499ce083d27c",
   "metadata": {},
   "outputs": [],
   "source": [
    "import earthkit.data\n",
    "from earthkit.data.core.fieldlist import FieldList\n",
    "import numpy as np\n",
    "\n",
    "earthkit.data.download_example_file(\"test6.grib\")\n",
    "ds = earthkit.data.from_source(\"file\", \"test6.grib\")"
   ]
  },
  {
   "cell_type": "code",
   "execution_count": 2,
   "id": "cad28702-8622-4aad-94e6-ea08347c28fe",
   "metadata": {},
   "outputs": [
    {
     "data": {
      "text/plain": [
       "array([272.56417847, 272.56417847, 272.56417847, 272.56417847,\n",
       "       272.56417847, 272.56417847, 272.56417847, 272.56417847,\n",
       "       272.56417847, 272.56417847, 272.56417847, 272.56417847,\n",
       "       288.56417847, 296.56417847, 288.56417847, 288.56417847,\n",
       "       288.56417847, 288.56417847, 280.56417847, 288.56417847,\n",
       "       296.56417847, 288.56417847, 280.56417847, 280.56417847,\n",
       "       312.56417847, 304.56417847, 320.56417847, 296.56417847,\n",
       "       304.56417847, 296.56417847, 296.56417847, 296.56417847,\n",
       "       288.56417847, 296.56417847, 296.56417847, 296.56417847,\n",
       "       296.56417847, 304.56417847, 296.56417847, 304.56417847,\n",
       "       296.56417847, 296.56417847, 296.56417847, 296.56417847,\n",
       "       296.56417847, 296.56417847, 296.56417847, 296.56417847,\n",
       "       288.56417847, 296.56417847, 288.56417847, 288.56417847,\n",
       "       280.56417847, 288.56417847, 288.56417847, 288.56417847,\n",
       "       288.56417847, 288.56417847, 280.56417847, 288.56417847,\n",
       "       272.56417847, 264.56417847, 264.56417847, 272.56417847,\n",
       "       272.56417847, 272.56417847, 280.56417847, 272.56417847,\n",
       "       264.56417847, 264.56417847, 272.56417847, 272.56417847,\n",
       "       240.56417847, 240.56417847, 240.56417847, 240.56417847,\n",
       "       240.56417847, 240.56417847, 240.56417847, 240.56417847,\n",
       "       240.56417847, 240.56417847, 240.56417847, 240.56417847])"
      ]
     },
     "execution_count": 2,
     "metadata": {},
     "output_type": "execute_result"
    }
   ],
   "source": [
    "ds[0].values"
   ]
  },
  {
   "cell_type": "code",
   "execution_count": 3,
   "id": "60db0219-044d-4977-abf5-e30065400a8f",
   "metadata": {},
   "outputs": [
    {
     "data": {
      "text/plain": [
       "(1, 84)"
      ]
     },
     "execution_count": 3,
     "metadata": {},
     "output_type": "execute_result"
    }
   ],
   "source": [
    "v = ds[0].values\n",
    "v = v * 0 + 1\n",
    "v = np.array([v])\n",
    "v.shape"
   ]
  },
  {
   "cell_type": "code",
   "execution_count": 4,
   "id": "f8dcc33c-6818-415d-8088-6a01666ca87f",
   "metadata": {},
   "outputs": [],
   "source": [
    "r = FieldList.from_numpy(v, ds[0].metadata())"
   ]
  },
  {
   "cell_type": "code",
   "execution_count": 5,
   "id": "5a2557a6-091c-4345-a792-d3bfa7876c77",
   "metadata": {},
   "outputs": [
    {
     "data": {
      "text/html": [
       "<div>\n",
       "<style scoped>\n",
       "    .dataframe tbody tr th:only-of-type {\n",
       "        vertical-align: middle;\n",
       "    }\n",
       "\n",
       "    .dataframe tbody tr th {\n",
       "        vertical-align: top;\n",
       "    }\n",
       "\n",
       "    .dataframe thead th {\n",
       "        text-align: right;\n",
       "    }\n",
       "</style>\n",
       "<table border=\"1\" class=\"dataframe\">\n",
       "  <thead>\n",
       "    <tr style=\"text-align: right;\">\n",
       "      <th></th>\n",
       "      <th>centre</th>\n",
       "      <th>shortName</th>\n",
       "      <th>typeOfLevel</th>\n",
       "      <th>level</th>\n",
       "      <th>dataDate</th>\n",
       "      <th>dataTime</th>\n",
       "      <th>stepRange</th>\n",
       "      <th>dataType</th>\n",
       "      <th>number</th>\n",
       "      <th>gridType</th>\n",
       "    </tr>\n",
       "  </thead>\n",
       "  <tbody>\n",
       "    <tr>\n",
       "      <th>0</th>\n",
       "      <td>ecmf</td>\n",
       "      <td>t</td>\n",
       "      <td>isobaricInhPa</td>\n",
       "      <td>1000</td>\n",
       "      <td>20180801</td>\n",
       "      <td>1200</td>\n",
       "      <td>0</td>\n",
       "      <td>an</td>\n",
       "      <td>0</td>\n",
       "      <td>regular_ll</td>\n",
       "    </tr>\n",
       "  </tbody>\n",
       "</table>\n",
       "</div>"
      ],
      "text/plain": [
       "  centre shortName    typeOfLevel  level  dataDate  dataTime stepRange  \\\n",
       "0   ecmf         t  isobaricInhPa   1000  20180801      1200         0   \n",
       "\n",
       "  dataType  number    gridType  \n",
       "0       an       0  regular_ll  "
      ]
     },
     "execution_count": 5,
     "metadata": {},
     "output_type": "execute_result"
    }
   ],
   "source": [
    "r.ls()"
   ]
  },
  {
   "cell_type": "code",
   "execution_count": 6,
   "id": "4113f204-dd96-422d-acb5-e2e0901cfb7a",
   "metadata": {},
   "outputs": [
    {
     "data": {
      "text/plain": [
       "array([[1., 1., 1., 1., 1., 1., 1., 1., 1., 1., 1., 1., 1., 1., 1., 1.,\n",
       "        1., 1., 1., 1., 1., 1., 1., 1., 1., 1., 1., 1., 1., 1., 1., 1.,\n",
       "        1., 1., 1., 1., 1., 1., 1., 1., 1., 1., 1., 1., 1., 1., 1., 1.,\n",
       "        1., 1., 1., 1., 1., 1., 1., 1., 1., 1., 1., 1., 1., 1., 1., 1.,\n",
       "        1., 1., 1., 1., 1., 1., 1., 1., 1., 1., 1., 1., 1., 1., 1., 1.,\n",
       "        1., 1., 1., 1.]])"
      ]
     },
     "execution_count": 6,
     "metadata": {},
     "output_type": "execute_result"
    }
   ],
   "source": [
    "r.values"
   ]
  },
  {
   "cell_type": "code",
   "execution_count": null,
   "id": "cee91d37-2444-477d-b43f-fbd2b58c4519",
   "metadata": {},
   "outputs": [],
   "source": []
  }
 ],
 "metadata": {
  "kernelspec": {
   "display_name": "dev",
   "language": "python",
   "name": "dev"
  },
  "language_info": {
   "codemirror_mode": {
    "name": "ipython",
    "version": 3
   },
   "file_extension": ".py",
   "mimetype": "text/x-python",
   "name": "python",
   "nbconvert_exporter": "python",
   "pygments_lexer": "ipython3",
   "version": "3.10.11"
  }
 },
 "nbformat": 4,
 "nbformat_minor": 5
}
