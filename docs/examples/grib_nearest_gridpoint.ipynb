{
 "cells": [
  {
   "cell_type": "markdown",
   "id": "570a34d8-7958-4de7-b4b1-76d369ce4146",
   "metadata": {},
   "source": [
    "### GRIB nearest gridpoint"
   ]
  },
  {
   "cell_type": "markdown",
   "id": "ddb547b2-1d39-4c50-9777-19591bd0f6fa",
   "metadata": {},
   "source": [
    "First we ensure the example file is available."
   ]
  },
  {
   "cell_type": "code",
   "execution_count": 6,
   "id": "87e4f240-b145-4c4d-9906-38db9a7b3a99",
   "metadata": {},
   "outputs": [],
   "source": [
    "from earthkit.data import download_example_file, from_source\n",
    "from earthkit.data.geo import nearest_point_haversine"
   ]
  },
  {
   "cell_type": "code",
   "execution_count": 7,
   "id": "8ff42074-f9af-4f1b-a7c3-3d19ae54cf43",
   "metadata": {},
   "outputs": [],
   "source": [
    "ds = from_source(\"file\", \"test.grib\")"
   ]
  },
  {
   "cell_type": "markdown",
   "id": "e35f59b4-586c-42b5-a24f-5a8c50db98aa",
   "metadata": {},
   "source": [
    "#### Single refrence point"
   ]
  },
  {
   "cell_type": "markdown",
   "id": "24fd9b22-becd-404d-a240-0bde0d952d16",
   "metadata": {},
   "source": [
    "We define a **reference point** and get the index of the nearest gridpoint from the first field."
   ]
  },
  {
   "cell_type": "code",
   "execution_count": 8,
   "id": "2578089a-c895-44a0-be5d-e6f5d6f30998",
   "metadata": {},
   "outputs": [
    {
     "data": {
      "text/plain": [
       "(array([102]), array([218417.94491761]))"
      ]
     },
     "execution_count": 8,
     "metadata": {},
     "output_type": "execute_result"
    }
   ],
   "source": [
    "latlon = ds[0].to_latlon()\n",
    "lat = latlon[\"lat\"]\n",
    "lon = latlon[\"lon\"]\n",
    "\n",
    "p_ref = (51.45, -0.97)\n",
    "# distance is in m\n",
    "idx, distance = nearest_point_haversine(p_ref, (lat, lon))\n",
    "idx, distance"
   ]
  },
  {
   "cell_type": "markdown",
   "id": "a5f1d0e8-41da-4a8a-b3a6-ea8e0c50b420",
   "metadata": {},
   "source": [
    "With the resulting index we can get the value at the nearest gridpoint."
   ]
  },
  {
   "cell_type": "code",
   "execution_count": 9,
   "id": "e8b8cc37-efab-4870-bc54-20ebb6c8faa7",
   "metadata": {},
   "outputs": [
    {
     "data": {
      "text/plain": [
       "array([280.68066406])"
      ]
     },
     "execution_count": 9,
     "metadata": {},
     "output_type": "execute_result"
    }
   ],
   "source": [
    "v = ds[0].values[idx]\n",
    "v"
   ]
  },
  {
   "cell_type": "markdown",
   "id": "dbd95f5f-1720-49a4-9beb-67a28718178c",
   "metadata": {},
   "source": [
    "#### Multiple reference points"
   ]
  },
  {
   "cell_type": "markdown",
   "id": "68f4738a-48f7-488d-8534-631c6422ae27",
   "metadata": {},
   "source": [
    "This time we use 3 reference points. "
   ]
  },
  {
   "cell_type": "code",
   "execution_count": 10,
   "id": "4809ecd5-837e-4d36-b411-cced61c306f6",
   "metadata": {},
   "outputs": [
    {
     "data": {
      "text/plain": [
       "array([102, 144, 116])"
      ]
     },
     "execution_count": 10,
     "metadata": {},
     "output_type": "execute_result"
    }
   ],
   "source": [
    "p_ref = [\n",
    "    [51.45, 44.49, 50.73], \n",
    "    [-0.97, 18.34, -17.1]\n",
    "]\n",
    "idx, dist = nearest_point_haversine(p_ref, (lat, lon))\n",
    "idx"
   ]
  },
  {
   "cell_type": "code",
   "execution_count": 11,
   "id": "eb68fa7b-dc43-4b71-a843-8454ced5b4cb",
   "metadata": {},
   "outputs": [
    {
     "data": {
      "text/plain": [
       "array([280.68066406, 296.4765625 , 285.05761719])"
      ]
     },
     "execution_count": 11,
     "metadata": {},
     "output_type": "execute_result"
    }
   ],
   "source": [
    "v = ds[0].values[idx]\n",
    "v"
   ]
  },
  {
   "cell_type": "markdown",
   "id": "bb92e03b-3ab7-4470-a423-ad3fca9262cb",
   "metadata": {},
   "source": [
    "### "
   ]
  }
 ],
 "metadata": {
  "kernelspec": {
   "display_name": "dev",
   "language": "python",
   "name": "dev"
  },
  "language_info": {
   "codemirror_mode": {
    "name": "ipython",
    "version": 3
   },
   "file_extension": ".py",
   "mimetype": "text/x-python",
   "name": "python",
   "nbconvert_exporter": "python",
   "pygments_lexer": "ipython3",
   "version": "3.10.12"
  }
 },
 "nbformat": 4,
 "nbformat_minor": 5
}
