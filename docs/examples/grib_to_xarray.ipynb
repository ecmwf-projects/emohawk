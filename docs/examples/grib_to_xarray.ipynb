{
 "cells": [
  {
   "cell_type": "markdown",
   "id": "9c53d7c8-7f38-4a5f-93d0-e05919408b6e",
   "metadata": {},
   "source": [
    "## Converting GRIB to NetCDF"
   ]
  },
  {
   "cell_type": "code",
   "execution_count": null,
   "id": "ac96b959",
   "metadata": {},
   "outputs": [],
   "source": [
    "import xarray as xr\n",
    "\n",
    "ds = xr.open_dataset('tuv_pl.grib', engine='earthkit') #, engine='earthkit')'cfgrib'\n",
    "ds.t  # .to_netcdf('temp.nc')"
   ]
  },
  {
   "cell_type": "code",
   "execution_count": null,
   "id": "bb3bdb35",
   "metadata": {},
   "outputs": [],
   "source": [
    "ds = xr.open_dataset('tuv_pl.grib', engine='earthkit', variable_metadata_keys=[]) #, engine='earthkit')'cfgrib'\n",
    "ds.t"
   ]
  },
  {
   "cell_type": "code",
   "execution_count": null,
   "id": "12995f62",
   "metadata": {},
   "outputs": [],
   "source": [
    "ds = xr.open_dataset('tuv_pl.grib', engine='earthkit', variable_metadata_keys=[\"shortName\"]) #, engine='earthkit')'cfgrib'\n",
    "ds.t"
   ]
  },
  {
   "cell_type": "code",
   "execution_count": null,
   "id": "cc72c4ca",
   "metadata": {},
   "outputs": [],
   "source": [
    "ds = xr.open_dataset('tuv_pl.grib', engine='earthkit', variable_metadata_keys=\"describe\") # 'CF'\n",
    "ds.t"
   ]
  },
  {
   "cell_type": "code",
   "execution_count": null,
   "id": "f879530d",
   "metadata": {},
   "outputs": [],
   "source": [
    "from earthkit.data import from_object\n",
    "ek_xr = from_object(ds.t)\n",
    "ek_xr"
   ]
  },
  {
   "cell_type": "code",
   "execution_count": null,
   "id": "e969ac26",
   "metadata": {},
   "outputs": [],
   "source": [
    "ds"
   ]
  },
  {
   "cell_type": "code",
   "execution_count": null,
   "id": "950b9aa8-6b76-47f8-b470-17476f99a733",
   "metadata": {},
   "outputs": [],
   "source": [
    "import earthkit.data\n",
    "earthkit.data.download_example_file(\"tuv_pl.grib\")"
   ]
  },
  {
   "cell_type": "code",
   "execution_count": null,
   "id": "96b640fd-0039-4061-8cb4-70cfc751cb9c",
   "metadata": {},
   "outputs": [],
   "source": [
    "fs = earthkit.data.from_source(\"file\", \"tuv_pl.grib\")\n",
    "print(fs)"
   ]
  },
  {
   "cell_type": "code",
   "execution_count": null,
   "id": "0efd9676-6c4f-4e07-a14a-a5337de50461",
   "metadata": {},
   "outputs": [],
   "source": [
    "fs_xr = fs.to_xarray(variable_metadata_keys=[])\n",
    "fs_xr"
   ]
  },
  {
   "cell_type": "code",
   "execution_count": null,
   "id": "0d057acf",
   "metadata": {},
   "outputs": [],
   "source": [
    "fs_xr.t"
   ]
  },
  {
   "cell_type": "code",
   "execution_count": null,
   "id": "fbebbd90",
   "metadata": {},
   "outputs": [],
   "source": [
    "# dir(fs_xr.t.attrs['metadata'])\n",
    "# fs_xr.t.attrs['metadata']._handle\n",
    "# for k in fs_xr.t.attrs['metadata'].keys():\n",
    "#     print(k)\n",
    "fsm = fs.metadata()[0]\n",
    "fsm.describe_keys()"
   ]
  },
  {
   "cell_type": "code",
   "execution_count": null,
   "id": "13d65abc",
   "metadata": {},
   "outputs": [],
   "source": [
    "fs_xr.to_netcdf('_tuv_pl.nc')"
   ]
  },
  {
   "cell_type": "code",
   "execution_count": null,
   "id": "4426618a",
   "metadata": {},
   "outputs": [],
   "source": [
    "fs_xr.t._data"
   ]
  },
  {
   "cell_type": "code",
   "execution_count": null,
   "id": "a45aa289-8c85-42bd-a637-8999d8720fcf",
   "metadata": {},
   "outputs": [],
   "source": [
    "try:\n",
    "    from netCDF4 import Dataset\n",
    "    r = Dataset(\"_tuv_pl.nc\", \"r\")\n",
    "    print(r.dimensions)\n",
    "except ImportError:\n",
    "    pass"
   ]
  },
  {
   "cell_type": "code",
   "execution_count": null,
   "id": "8bd59c3f-5a6b-4930-8d49-9d948f640da7",
   "metadata": {},
   "outputs": [],
   "source": [
    "from earthkit import aggregate"
   ]
  },
  {
   "cell_type": "code",
   "execution_count": null,
   "id": "8db99b05",
   "metadata": {},
   "outputs": [],
   "source": []
  }
 ],
 "metadata": {
  "kernelspec": {
   "display_name": "earthkit",
   "language": "python",
   "name": "earthkit"
  },
  "language_info": {
   "codemirror_mode": {
    "name": "ipython",
    "version": 3
   },
   "file_extension": ".py",
   "mimetype": "text/x-python",
   "name": "python",
   "nbconvert_exporter": "python",
   "pygments_lexer": "ipython3",
   "version": "3.10.0"
  }
 },
 "nbformat": 4,
 "nbformat_minor": 5
}
