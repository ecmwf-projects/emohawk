{
 "cells": [
  {
   "cell_type": "markdown",
   "id": "27b6a52e-956c-4305-8526-cfcb502452a3",
   "metadata": {},
   "source": [
    "Import section and define compute function"
   ]
  },
  {
   "cell_type": "code",
   "execution_count": null,
   "id": "88d92357-6fe4-43b7-90b2-58358d586acc",
   "metadata": {},
   "outputs": [],
   "source": [
    "import xarray as xr\n",
    "import numpy\n",
    "import cupy\n",
    "from contexttimer import Timer\n",
    "from earthkit.data import from_source\n",
    "\n",
    "def do_something(da):\n",
    "    print(f\"Multiplying array of shape {da.shape} by 100.\")\n",
    "    with Timer() as time:\n",
    "        da *= 100\n",
    "    print(f\"... took {time.elapsed*1000:.2f} ms.\")\n",
    "\n",
    "    print(f\"Computing the ensemble mean of array of shape {da.shape}.\")\n",
    "    with Timer() as time:\n",
    "        da.mean(dim=\"number\")\n",
    "    print(f\"... took {time.elapsed*1000:.2f} ms.\")\n",
    "\n",
    "    print(f\"Computing the temporal mean of array of shape {da.shape}.\")\n",
    "    with Timer() as time:\n",
    "        da.mean(dim=\"step\")\n",
    "    print(f\"... took {time.elapsed*1000:.2f} ms.\")\n",
    "\n",
    "    print(f\"Adding array to array of shape {da.shape}.\")\n",
    "    with Timer() as time:\n",
    "        da_2 = da+da\n",
    "    print(f\"... took {time.elapsed*1000:.2f} ms.\")"
   ]
  },
  {
   "cell_type": "markdown",
   "id": "6716ad3f",
   "metadata": {},
   "source": [
    "Create the Xarray Dataset from a FieldList object. At this point, the data is NOT in memory, lazy-loading."
   ]
  },
  {
   "cell_type": "code",
   "execution_count": null,
   "id": "747be076-2f6e-4a03-97df-622a6c1ee3b8",
   "metadata": {},
   "outputs": [],
   "source": [
    "%%time\n",
    "fl = from_source(\"file\", \"~/data_ens.grib\")\n",
    "xa = fl.to_xarray()\n",
    "xa"
   ]
  },
  {
   "cell_type": "markdown",
   "id": "0174cd50-779e-4dab-a281-cfbfed36431d",
   "metadata": {},
   "source": [
    "Let's use a custom order for the dimensions (tensor object behind the scene)"
   ]
  },
  {
   "cell_type": "code",
   "execution_count": null,
   "id": "16ecb5c4-3c91-4a16-b4b4-4b8e98c1046a",
   "metadata": {},
   "outputs": [],
   "source": [
    "%%time\n",
    "ds = fl.to_xarray(xarray_open_dataset_kwargs={\"dims_order\": ['step', 'number']})\n",
    "print(ds[\"2t\"].earthkit.metadata)\n",
    "ds"
   ]
  },
  {
   "cell_type": "markdown",
   "id": "b484d074-de14-4275-a29a-7edf94d5dc08",
   "metadata": {},
   "source": [
    "Now we can load the dataset on the memory through standard xarray load function, we can see that the type of the data array is numpy by default."
   ]
  },
  {
   "cell_type": "code",
   "execution_count": null,
   "id": "178dc27d-bae0-4945-ab4f-ec8613c2d51d",
   "metadata": {},
   "outputs": [],
   "source": [
    "%%time\n",
    "da = ds[\"2t\"].load()\n",
    "print(f\"Array type is ««{type(da.data).__module__}»»\")"
   ]
  },
  {
   "cell_type": "markdown",
   "id": "60d662cc",
   "metadata": {},
   "source": [
    "Load a second time to show it's already there and that we actually did something in the previous step"
   ]
  },
  {
   "cell_type": "code",
   "execution_count": null,
   "id": "ccb69d6d",
   "metadata": {},
   "outputs": [],
   "source": [
    "%time da = ds[\"2t\"].load()"
   ]
  },
  {
   "cell_type": "markdown",
   "id": "4870043f-f89a-41c3-b462-cce77e6ee72c",
   "metadata": {},
   "source": [
    "Let's do the same, but with cupy as the array module"
   ]
  },
  {
   "cell_type": "code",
   "execution_count": null,
   "id": "6b1b1592-2a00-4863-bfcc-0c060214b806",
   "metadata": {},
   "outputs": [],
   "source": [
    "%%time\n",
    "fl_other = from_source(\"file\", \"~/data_ens.grib\")\n",
    "ds_cp = fl_other.to_xarray(xarray_open_dataset_kwargs={\"array_module\": cupy})\n",
    "ds_cp"
   ]
  },
  {
   "cell_type": "markdown",
   "id": "8bd516de-69d4-4b38-bc5d-ec4be0f50ff7",
   "metadata": {},
   "source": [
    "Again, we can load it in memory but this time we see that the data array is a cupy array, meaning the data is on the GPU"
   ]
  },
  {
   "cell_type": "code",
   "execution_count": null,
   "id": "628966e0-a43d-4cc3-8221-2b519a8703fd",
   "metadata": {},
   "outputs": [],
   "source": [
    "%%time\n",
    "da_cp = ds_cp[\"2t\"].load()\n",
    "print(f\"Array type is ««{type(da_cp.data).__module__}»»\")"
   ]
  },
  {
   "cell_type": "markdown",
   "id": "24829816-c610-44e6-8770-527b4ebc42cb",
   "metadata": {},
   "source": [
    "Now let's compute something and compare timings, starting with the numpy Xarray object:"
   ]
  },
  {
   "cell_type": "code",
   "execution_count": null,
   "id": "c1050cf2-9773-40be-a35c-e0cd105daae4",
   "metadata": {},
   "outputs": [],
   "source": [
    "%time do_something(da)"
   ]
  },
  {
   "cell_type": "markdown",
   "id": "dc80cc30-7472-4169-8975-eeb72f2d2f8e",
   "metadata": {},
   "source": [
    "And we compute the same thing wit the cupy object"
   ]
  },
  {
   "cell_type": "code",
   "execution_count": null,
   "id": "8f759515-3bc9-45e8-b178-7eedb8146687",
   "metadata": {},
   "outputs": [],
   "source": [
    "%time do_something(da_cp)"
   ]
  },
  {
   "cell_type": "markdown",
   "id": "85c2d08f-01ba-4b15-9132-072c9d37ac93",
   "metadata": {},
   "source": [
    "Let's do it twice... :-O"
   ]
  },
  {
   "cell_type": "code",
   "execution_count": null,
   "id": "f118e5db-7605-4957-a323-53722655a54d",
   "metadata": {},
   "outputs": [],
   "source": [
    "%time do_something(da_cp)"
   ]
  },
  {
   "cell_type": "raw",
   "id": "804463f3-6c41-4bc1-96da-ea79774af0e2",
   "metadata": {},
   "source": [
    "A practical case: compute the average in time and return a FieldList object through the earthkit accessor"
   ]
  },
  {
   "cell_type": "code",
   "execution_count": null,
   "id": "e7544a82-725a-43b1-a2e6-4150b6741af4",
   "metadata": {
    "tags": []
   },
   "outputs": [],
   "source": [
    "da_mean = da.mean(dim=\"step\")\n",
    "da_mean.earthkit.metadata = da.earthkit.metadata.override(timeRangeIndicator=2, stepRange=f\"{int(da.step[0])}-{int(da.step[-1])}\")\n",
    "fl_mean = da_mean.earthkit.to_fieldlist()\n",
    "fl_mean.head()"
   ]
  },
  {
   "cell_type": "markdown",
   "id": "7b0bae2f-5b94-4b01-99e7-ddaccc15e9f1",
   "metadata": {},
   "source": [
    "We can also save it to grib through the earthkit accessor"
   ]
  },
  {
   "cell_type": "code",
   "execution_count": null,
   "id": "ce6203ba-6c66-4f57-a659-83d08ec5ad75",
   "metadata": {},
   "outputs": [],
   "source": [
    "da_mean.earthkit.to_grib(\"test_mean.grib\")\n",
    "fl_mean = from_source(\"file\", \"test_mean.grib\")\n",
    "fl_mean.head()"
   ]
  },
  {
   "cell_type": "markdown",
   "id": "bb3260c9-3f0a-46c1-b837-7ebd02a90787",
   "metadata": {},
   "source": [
    "Now we can even use the xarray earthkit engine.\n",
    "No need to import earhtkit, the engine is registered when installing earthkit."
   ]
  },
  {
   "cell_type": "code",
   "execution_count": null,
   "id": "ce86bca4",
   "metadata": {},
   "outputs": [],
   "source": [
    "%%time\n",
    "ds = xr.open_dataset(\"~/data_ens.grib\", engine=\"earthkit\", array_module=cupy)\n",
    "print(ds)"
   ]
  },
  {
   "cell_type": "code",
   "execution_count": null,
   "id": "91ef9438-b6de-4568-a092-eaf00b70e39c",
   "metadata": {},
   "outputs": [],
   "source": []
  }
 ],
 "metadata": {
  "kernelspec": {
   "display_name": "earthkit",
   "language": "python",
   "name": "earthkit"
  },
  "language_info": {
   "codemirror_mode": {
    "name": "ipython",
    "version": 3
   },
   "file_extension": ".py",
   "mimetype": "text/x-python",
   "name": "python",
   "nbconvert_exporter": "python",
   "pygments_lexer": "ipython3",
   "version": "3.10.0"
  }
 },
 "nbformat": 4,
 "nbformat_minor": 5
}
