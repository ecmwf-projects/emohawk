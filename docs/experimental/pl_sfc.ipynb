{
 "cells": [
  {
   "cell_type": "markdown",
   "id": "9997ba6f-2c4a-4a4a-929c-c810aa107891",
   "metadata": {},
   "source": [
    "## Pressure and surface level"
   ]
  },
  {
   "cell_type": "code",
   "execution_count": 1,
   "id": "b9cd1d75-3fdc-4c8b-8deb-d22b43be8b03",
   "metadata": {},
   "outputs": [],
   "source": [
    "import earthkit.data\n",
    "\n",
    "fname = \"pl_sfc_regular_ll.grib\"\n",
    "earthkit.data.download_example_file(fname, remote_dir=\"test-data/xr_engine/level\")\n",
    "ds_ek = earthkit.data.from_source(\"file\", fname)"
   ]
  },
  {
   "cell_type": "code",
   "execution_count": 2,
   "id": "41a20218-b6a7-490d-9b9a-ecd3f93fc341",
   "metadata": {},
   "outputs": [
    {
     "data": {
      "application/vnd.jupyter.widget-view+json": {
       "model_id": "",
       "version_major": 2,
       "version_minor": 0
      },
      "text/plain": [
       "Finding coords in dataset for ('forecast_reference_time', 'step'):   0%|          | 0.00/8.00 [00:00<?, ?B/s]"
      ]
     },
     "metadata": {},
     "output_type": "display_data"
    },
    {
     "data": {
      "application/vnd.jupyter.widget-view+json": {
       "model_id": "",
       "version_major": 2,
       "version_minor": 0
      },
      "text/plain": [
       "Finding coords in dataset for ('forecast_reference_time', 'step'):   0%|          | 0.00/8.00 [00:00<?, ?B/s]"
      ]
     },
     "metadata": {},
     "output_type": "display_data"
    },
    {
     "data": {
      "application/vnd.jupyter.widget-view+json": {
       "model_id": "",
       "version_major": 2,
       "version_minor": 0
      },
      "text/plain": [
       "Finding coords in dataset for ('forecast_reference_time', 'step', 'levelist'):   0%|          | 0.00/48.0 [00:…"
      ]
     },
     "metadata": {},
     "output_type": "display_data"
    },
    {
     "data": {
      "application/vnd.jupyter.widget-view+json": {
       "model_id": "",
       "version_major": 2,
       "version_minor": 0
      },
      "text/plain": [
       "Finding coords in dataset for ('forecast_reference_time', 'step', 'levelist'):   0%|          | 0.00/48.0 [00:…"
      ]
     },
     "metadata": {},
     "output_type": "display_data"
    },
    {
     "data": {
      "application/vnd.jupyter.widget-view+json": {
       "model_id": "",
       "version_major": 2,
       "version_minor": 0
      },
      "text/plain": [
       "Finding coords in dataset for ('forecast_reference_time', 'step', 'levelist'):   0%|          | 0.00/48.0 [00:…"
      ]
     },
     "metadata": {},
     "output_type": "display_data"
    },
    {
     "data": {
      "application/vnd.jupyter.widget-view+json": {
       "model_id": "",
       "version_major": 2,
       "version_minor": 0
      },
      "text/plain": [
       "Finding coords in dataset for ('forecast_reference_time', 'step', 'levelist'):   0%|          | 0.00/48.0 [00:…"
      ]
     },
     "metadata": {},
     "output_type": "display_data"
    },
    {
     "data": {
      "application/vnd.jupyter.widget-view+json": {
       "model_id": "",
       "version_major": 2,
       "version_minor": 0
      },
      "text/plain": [
       "Finding coords in dataset for ('forecast_reference_time', 'step', 'levelist'):   0%|          | 0.00/48.0 [00:…"
      ]
     },
     "metadata": {},
     "output_type": "display_data"
    },
    {
     "data": {
      "text/html": [
       "<div><svg style=\"position: absolute; width: 0; height: 0; overflow: hidden\">\n",
       "<defs>\n",
       "<symbol id=\"icon-database\" viewBox=\"0 0 32 32\">\n",
       "<path d=\"M16 0c-8.837 0-16 2.239-16 5v4c0 2.761 7.163 5 16 5s16-2.239 16-5v-4c0-2.761-7.163-5-16-5z\"></path>\n",
       "<path d=\"M16 17c-8.837 0-16-2.239-16-5v6c0 2.761 7.163 5 16 5s16-2.239 16-5v-6c0 2.761-7.163 5-16 5z\"></path>\n",
       "<path d=\"M16 26c-8.837 0-16-2.239-16-5v6c0 2.761 7.163 5 16 5s16-2.239 16-5v-6c0 2.761-7.163 5-16 5z\"></path>\n",
       "</symbol>\n",
       "<symbol id=\"icon-file-text2\" viewBox=\"0 0 32 32\">\n",
       "<path d=\"M28.681 7.159c-0.694-0.947-1.662-2.053-2.724-3.116s-2.169-2.030-3.116-2.724c-1.612-1.182-2.393-1.319-2.841-1.319h-15.5c-1.378 0-2.5 1.121-2.5 2.5v27c0 1.378 1.122 2.5 2.5 2.5h23c1.378 0 2.5-1.122 2.5-2.5v-19.5c0-0.448-0.137-1.23-1.319-2.841zM24.543 5.457c0.959 0.959 1.712 1.825 2.268 2.543h-4.811v-4.811c0.718 0.556 1.584 1.309 2.543 2.268zM28 29.5c0 0.271-0.229 0.5-0.5 0.5h-23c-0.271 0-0.5-0.229-0.5-0.5v-27c0-0.271 0.229-0.5 0.5-0.5 0 0 15.499-0 15.5 0v7c0 0.552 0.448 1 1 1h7v19.5z\"></path>\n",
       "<path d=\"M23 26h-14c-0.552 0-1-0.448-1-1s0.448-1 1-1h14c0.552 0 1 0.448 1 1s-0.448 1-1 1z\"></path>\n",
       "<path d=\"M23 22h-14c-0.552 0-1-0.448-1-1s0.448-1 1-1h14c0.552 0 1 0.448 1 1s-0.448 1-1 1z\"></path>\n",
       "<path d=\"M23 18h-14c-0.552 0-1-0.448-1-1s0.448-1 1-1h14c0.552 0 1 0.448 1 1s-0.448 1-1 1z\"></path>\n",
       "</symbol>\n",
       "</defs>\n",
       "</svg>\n",
       "<style>/* CSS stylesheet for displaying xarray objects in jupyterlab.\n",
       " *\n",
       " */\n",
       "\n",
       ":root {\n",
       "  --xr-font-color0: var(--jp-content-font-color0, rgba(0, 0, 0, 1));\n",
       "  --xr-font-color2: var(--jp-content-font-color2, rgba(0, 0, 0, 0.54));\n",
       "  --xr-font-color3: var(--jp-content-font-color3, rgba(0, 0, 0, 0.38));\n",
       "  --xr-border-color: var(--jp-border-color2, #e0e0e0);\n",
       "  --xr-disabled-color: var(--jp-layout-color3, #bdbdbd);\n",
       "  --xr-background-color: var(--jp-layout-color0, white);\n",
       "  --xr-background-color-row-even: var(--jp-layout-color1, white);\n",
       "  --xr-background-color-row-odd: var(--jp-layout-color2, #eeeeee);\n",
       "}\n",
       "\n",
       "html[theme=dark],\n",
       "html[data-theme=dark],\n",
       "body[data-theme=dark],\n",
       "body.vscode-dark {\n",
       "  --xr-font-color0: rgba(255, 255, 255, 1);\n",
       "  --xr-font-color2: rgba(255, 255, 255, 0.54);\n",
       "  --xr-font-color3: rgba(255, 255, 255, 0.38);\n",
       "  --xr-border-color: #1F1F1F;\n",
       "  --xr-disabled-color: #515151;\n",
       "  --xr-background-color: #111111;\n",
       "  --xr-background-color-row-even: #111111;\n",
       "  --xr-background-color-row-odd: #313131;\n",
       "}\n",
       "\n",
       ".xr-wrap {\n",
       "  display: block !important;\n",
       "  min-width: 300px;\n",
       "  max-width: 700px;\n",
       "}\n",
       "\n",
       ".xr-text-repr-fallback {\n",
       "  /* fallback to plain text repr when CSS is not injected (untrusted notebook) */\n",
       "  display: none;\n",
       "}\n",
       "\n",
       ".xr-header {\n",
       "  padding-top: 6px;\n",
       "  padding-bottom: 6px;\n",
       "  margin-bottom: 4px;\n",
       "  border-bottom: solid 1px var(--xr-border-color);\n",
       "}\n",
       "\n",
       ".xr-header > div,\n",
       ".xr-header > ul {\n",
       "  display: inline;\n",
       "  margin-top: 0;\n",
       "  margin-bottom: 0;\n",
       "}\n",
       "\n",
       ".xr-obj-type,\n",
       ".xr-array-name {\n",
       "  margin-left: 2px;\n",
       "  margin-right: 10px;\n",
       "}\n",
       "\n",
       ".xr-obj-type {\n",
       "  color: var(--xr-font-color2);\n",
       "}\n",
       "\n",
       ".xr-sections {\n",
       "  padding-left: 0 !important;\n",
       "  display: grid;\n",
       "  grid-template-columns: 150px auto auto 1fr 20px 20px;\n",
       "}\n",
       "\n",
       ".xr-section-item {\n",
       "  display: contents;\n",
       "}\n",
       "\n",
       ".xr-section-item input {\n",
       "  display: none;\n",
       "}\n",
       "\n",
       ".xr-section-item input + label {\n",
       "  color: var(--xr-disabled-color);\n",
       "}\n",
       "\n",
       ".xr-section-item input:enabled + label {\n",
       "  cursor: pointer;\n",
       "  color: var(--xr-font-color2);\n",
       "}\n",
       "\n",
       ".xr-section-item input:enabled + label:hover {\n",
       "  color: var(--xr-font-color0);\n",
       "}\n",
       "\n",
       ".xr-section-summary {\n",
       "  grid-column: 1;\n",
       "  color: var(--xr-font-color2);\n",
       "  font-weight: 500;\n",
       "}\n",
       "\n",
       ".xr-section-summary > span {\n",
       "  display: inline-block;\n",
       "  padding-left: 0.5em;\n",
       "}\n",
       "\n",
       ".xr-section-summary-in:disabled + label {\n",
       "  color: var(--xr-font-color2);\n",
       "}\n",
       "\n",
       ".xr-section-summary-in + label:before {\n",
       "  display: inline-block;\n",
       "  content: '►';\n",
       "  font-size: 11px;\n",
       "  width: 15px;\n",
       "  text-align: center;\n",
       "}\n",
       "\n",
       ".xr-section-summary-in:disabled + label:before {\n",
       "  color: var(--xr-disabled-color);\n",
       "}\n",
       "\n",
       ".xr-section-summary-in:checked + label:before {\n",
       "  content: '▼';\n",
       "}\n",
       "\n",
       ".xr-section-summary-in:checked + label > span {\n",
       "  display: none;\n",
       "}\n",
       "\n",
       ".xr-section-summary,\n",
       ".xr-section-inline-details {\n",
       "  padding-top: 4px;\n",
       "  padding-bottom: 4px;\n",
       "}\n",
       "\n",
       ".xr-section-inline-details {\n",
       "  grid-column: 2 / -1;\n",
       "}\n",
       "\n",
       ".xr-section-details {\n",
       "  display: none;\n",
       "  grid-column: 1 / -1;\n",
       "  margin-bottom: 5px;\n",
       "}\n",
       "\n",
       ".xr-section-summary-in:checked ~ .xr-section-details {\n",
       "  display: contents;\n",
       "}\n",
       "\n",
       ".xr-array-wrap {\n",
       "  grid-column: 1 / -1;\n",
       "  display: grid;\n",
       "  grid-template-columns: 20px auto;\n",
       "}\n",
       "\n",
       ".xr-array-wrap > label {\n",
       "  grid-column: 1;\n",
       "  vertical-align: top;\n",
       "}\n",
       "\n",
       ".xr-preview {\n",
       "  color: var(--xr-font-color3);\n",
       "}\n",
       "\n",
       ".xr-array-preview,\n",
       ".xr-array-data {\n",
       "  padding: 0 5px !important;\n",
       "  grid-column: 2;\n",
       "}\n",
       "\n",
       ".xr-array-data,\n",
       ".xr-array-in:checked ~ .xr-array-preview {\n",
       "  display: none;\n",
       "}\n",
       "\n",
       ".xr-array-in:checked ~ .xr-array-data,\n",
       ".xr-array-preview {\n",
       "  display: inline-block;\n",
       "}\n",
       "\n",
       ".xr-dim-list {\n",
       "  display: inline-block !important;\n",
       "  list-style: none;\n",
       "  padding: 0 !important;\n",
       "  margin: 0;\n",
       "}\n",
       "\n",
       ".xr-dim-list li {\n",
       "  display: inline-block;\n",
       "  padding: 0;\n",
       "  margin: 0;\n",
       "}\n",
       "\n",
       ".xr-dim-list:before {\n",
       "  content: '(';\n",
       "}\n",
       "\n",
       ".xr-dim-list:after {\n",
       "  content: ')';\n",
       "}\n",
       "\n",
       ".xr-dim-list li:not(:last-child):after {\n",
       "  content: ',';\n",
       "  padding-right: 5px;\n",
       "}\n",
       "\n",
       ".xr-has-index {\n",
       "  font-weight: bold;\n",
       "}\n",
       "\n",
       ".xr-var-list,\n",
       ".xr-var-item {\n",
       "  display: contents;\n",
       "}\n",
       "\n",
       ".xr-var-item > div,\n",
       ".xr-var-item label,\n",
       ".xr-var-item > .xr-var-name span {\n",
       "  background-color: var(--xr-background-color-row-even);\n",
       "  margin-bottom: 0;\n",
       "}\n",
       "\n",
       ".xr-var-item > .xr-var-name:hover span {\n",
       "  padding-right: 5px;\n",
       "}\n",
       "\n",
       ".xr-var-list > li:nth-child(odd) > div,\n",
       ".xr-var-list > li:nth-child(odd) > label,\n",
       ".xr-var-list > li:nth-child(odd) > .xr-var-name span {\n",
       "  background-color: var(--xr-background-color-row-odd);\n",
       "}\n",
       "\n",
       ".xr-var-name {\n",
       "  grid-column: 1;\n",
       "}\n",
       "\n",
       ".xr-var-dims {\n",
       "  grid-column: 2;\n",
       "}\n",
       "\n",
       ".xr-var-dtype {\n",
       "  grid-column: 3;\n",
       "  text-align: right;\n",
       "  color: var(--xr-font-color2);\n",
       "}\n",
       "\n",
       ".xr-var-preview {\n",
       "  grid-column: 4;\n",
       "}\n",
       "\n",
       ".xr-index-preview {\n",
       "  grid-column: 2 / 5;\n",
       "  color: var(--xr-font-color2);\n",
       "}\n",
       "\n",
       ".xr-var-name,\n",
       ".xr-var-dims,\n",
       ".xr-var-dtype,\n",
       ".xr-preview,\n",
       ".xr-attrs dt {\n",
       "  white-space: nowrap;\n",
       "  overflow: hidden;\n",
       "  text-overflow: ellipsis;\n",
       "  padding-right: 10px;\n",
       "}\n",
       "\n",
       ".xr-var-name:hover,\n",
       ".xr-var-dims:hover,\n",
       ".xr-var-dtype:hover,\n",
       ".xr-attrs dt:hover {\n",
       "  overflow: visible;\n",
       "  width: auto;\n",
       "  z-index: 1;\n",
       "}\n",
       "\n",
       ".xr-var-attrs,\n",
       ".xr-var-data,\n",
       ".xr-index-data {\n",
       "  display: none;\n",
       "  background-color: var(--xr-background-color) !important;\n",
       "  padding-bottom: 5px !important;\n",
       "}\n",
       "\n",
       ".xr-var-attrs-in:checked ~ .xr-var-attrs,\n",
       ".xr-var-data-in:checked ~ .xr-var-data,\n",
       ".xr-index-data-in:checked ~ .xr-index-data {\n",
       "  display: block;\n",
       "}\n",
       "\n",
       ".xr-var-data > table {\n",
       "  float: right;\n",
       "}\n",
       "\n",
       ".xr-var-name span,\n",
       ".xr-var-data,\n",
       ".xr-index-name div,\n",
       ".xr-index-data,\n",
       ".xr-attrs {\n",
       "  padding-left: 25px !important;\n",
       "}\n",
       "\n",
       ".xr-attrs,\n",
       ".xr-var-attrs,\n",
       ".xr-var-data,\n",
       ".xr-index-data {\n",
       "  grid-column: 1 / -1;\n",
       "}\n",
       "\n",
       "dl.xr-attrs {\n",
       "  padding: 0;\n",
       "  margin: 0;\n",
       "  display: grid;\n",
       "  grid-template-columns: 125px auto;\n",
       "}\n",
       "\n",
       ".xr-attrs dt,\n",
       ".xr-attrs dd {\n",
       "  padding: 0;\n",
       "  margin: 0;\n",
       "  float: left;\n",
       "  padding-right: 10px;\n",
       "  width: auto;\n",
       "}\n",
       "\n",
       ".xr-attrs dt {\n",
       "  font-weight: normal;\n",
       "  grid-column: 1;\n",
       "}\n",
       "\n",
       ".xr-attrs dt:hover span {\n",
       "  display: inline-block;\n",
       "  background: var(--xr-background-color);\n",
       "  padding-right: 10px;\n",
       "}\n",
       "\n",
       ".xr-attrs dd {\n",
       "  grid-column: 2;\n",
       "  white-space: pre-wrap;\n",
       "  word-break: break-all;\n",
       "}\n",
       "\n",
       ".xr-icon-database,\n",
       ".xr-icon-file-text2,\n",
       ".xr-no-icon {\n",
       "  display: inline-block;\n",
       "  vertical-align: middle;\n",
       "  width: 1em;\n",
       "  height: 1.5em !important;\n",
       "  stroke-width: 0;\n",
       "  stroke: currentColor;\n",
       "  fill: currentColor;\n",
       "}\n",
       "</style><pre class='xr-text-repr-fallback'>&lt;xarray.Dataset&gt; Size: 1MB\n",
       "Dimensions:                  (forecast_reference_time: 4, step: 2,\n",
       "                              latitude: 19, longitude: 36, levelist: 6)\n",
       "Coordinates:\n",
       "  * forecast_reference_time  (forecast_reference_time) datetime64[ns] 32B 202...\n",
       "  * step                     (step) timedelta64[ns] 16B 00:00:00 06:00:00\n",
       "  * levelist                 (levelist) int64 48B 300 400 500 700 850 1000\n",
       "  * latitude                 (latitude) float64 152B 90.0 80.0 ... -80.0 -90.0\n",
       "  * longitude                (longitude) float64 288B 0.0 10.0 ... 340.0 350.0\n",
       "Data variables:\n",
       "    2t                       (forecast_reference_time, step, latitude, longitude) float64 44kB ...\n",
       "    msl                      (forecast_reference_time, step, latitude, longitude) float64 44kB ...\n",
       "    r                        (forecast_reference_time, step, levelist, latitude, longitude) float64 263kB ...\n",
       "    t                        (forecast_reference_time, step, levelist, latitude, longitude) float64 263kB ...\n",
       "    u                        (forecast_reference_time, step, levelist, latitude, longitude) float64 263kB ...\n",
       "    v                        (forecast_reference_time, step, levelist, latitude, longitude) float64 263kB ...\n",
       "    z                        (forecast_reference_time, step, levelist, latitude, longitude) float64 263kB ...\n",
       "Attributes:\n",
       "    class:        od\n",
       "    stream:       oper\n",
       "    type:         fc\n",
       "    expver:       0001\n",
       "    domain:       g\n",
       "    number:       0\n",
       "    Conventions:  CF-1.8\n",
       "    institution:  ECMWF</pre><div class='xr-wrap' style='display:none'><div class='xr-header'><div class='xr-obj-type'>xarray.Dataset</div></div><ul class='xr-sections'><li class='xr-section-item'><input id='section-e211989a-b8e6-41b8-a00d-602250b5250a' class='xr-section-summary-in' type='checkbox' disabled ><label for='section-e211989a-b8e6-41b8-a00d-602250b5250a' class='xr-section-summary'  title='Expand/collapse section'>Dimensions:</label><div class='xr-section-inline-details'><ul class='xr-dim-list'><li><span class='xr-has-index'>forecast_reference_time</span>: 4</li><li><span class='xr-has-index'>step</span>: 2</li><li><span class='xr-has-index'>latitude</span>: 19</li><li><span class='xr-has-index'>longitude</span>: 36</li><li><span class='xr-has-index'>levelist</span>: 6</li></ul></div><div class='xr-section-details'></div></li><li class='xr-section-item'><input id='section-36a6e4c6-3e83-4ddb-8266-3bd9f462eb61' class='xr-section-summary-in' type='checkbox'  checked><label for='section-36a6e4c6-3e83-4ddb-8266-3bd9f462eb61' class='xr-section-summary' >Coordinates: <span>(5)</span></label><div class='xr-section-inline-details'></div><div class='xr-section-details'><ul class='xr-var-list'><li class='xr-var-item'><div class='xr-var-name'><span class='xr-has-index'>forecast_reference_time</span></div><div class='xr-var-dims'>(forecast_reference_time)</div><div class='xr-var-dtype'>datetime64[ns]</div><div class='xr-var-preview xr-preview'>2024-06-03 ... 2024-06-04T12:00:00</div><input id='attrs-c57aa316-c3c5-439c-922a-bff8e693e516' class='xr-var-attrs-in' type='checkbox' ><label for='attrs-c57aa316-c3c5-439c-922a-bff8e693e516' title='Show/Hide attributes'><svg class='icon xr-icon-file-text2'><use xlink:href='#icon-file-text2'></use></svg></label><input id='data-45386e98-3b65-4500-89e6-281fe2d53b44' class='xr-var-data-in' type='checkbox'><label for='data-45386e98-3b65-4500-89e6-281fe2d53b44' title='Show/Hide data repr'><svg class='icon xr-icon-database'><use xlink:href='#icon-database'></use></svg></label><div class='xr-var-attrs'><dl class='xr-attrs'><dt><span>standard_name :</span></dt><dd>forecast_reference_time</dd><dt><span>long_name :</span></dt><dd>initial time of forecast</dd></dl></div><div class='xr-var-data'><pre>array([&#x27;2024-06-03T00:00:00.000000000&#x27;, &#x27;2024-06-03T12:00:00.000000000&#x27;,\n",
       "       &#x27;2024-06-04T00:00:00.000000000&#x27;, &#x27;2024-06-04T12:00:00.000000000&#x27;],\n",
       "      dtype=&#x27;datetime64[ns]&#x27;)</pre></div></li><li class='xr-var-item'><div class='xr-var-name'><span class='xr-has-index'>step</span></div><div class='xr-var-dims'>(step)</div><div class='xr-var-dtype'>timedelta64[ns]</div><div class='xr-var-preview xr-preview'>00:00:00 06:00:00</div><input id='attrs-279357e5-cf94-49bd-bb9d-5b6c935cab66' class='xr-var-attrs-in' type='checkbox' ><label for='attrs-279357e5-cf94-49bd-bb9d-5b6c935cab66' title='Show/Hide attributes'><svg class='icon xr-icon-file-text2'><use xlink:href='#icon-file-text2'></use></svg></label><input id='data-24706129-4998-401b-98a2-fdf565f01561' class='xr-var-data-in' type='checkbox'><label for='data-24706129-4998-401b-98a2-fdf565f01561' title='Show/Hide data repr'><svg class='icon xr-icon-database'><use xlink:href='#icon-database'></use></svg></label><div class='xr-var-attrs'><dl class='xr-attrs'><dt><span>standard_name :</span></dt><dd>forecast_period</dd><dt><span>long_name :</span></dt><dd>time since forecast_reference_time</dd></dl></div><div class='xr-var-data'><pre>array([             0, 21600000000000], dtype=&#x27;timedelta64[ns]&#x27;)</pre></div></li><li class='xr-var-item'><div class='xr-var-name'><span class='xr-has-index'>levelist</span></div><div class='xr-var-dims'>(levelist)</div><div class='xr-var-dtype'>int64</div><div class='xr-var-preview xr-preview'>300 400 500 700 850 1000</div><input id='attrs-72ed2313-330b-489c-b466-83a5dce26b0a' class='xr-var-attrs-in' type='checkbox' ><label for='attrs-72ed2313-330b-489c-b466-83a5dce26b0a' title='Show/Hide attributes'><svg class='icon xr-icon-file-text2'><use xlink:href='#icon-file-text2'></use></svg></label><input id='data-d7504e37-4704-4c7b-8538-7f0727a8d95e' class='xr-var-data-in' type='checkbox'><label for='data-d7504e37-4704-4c7b-8538-7f0727a8d95e' title='Show/Hide data repr'><svg class='icon xr-icon-database'><use xlink:href='#icon-database'></use></svg></label><div class='xr-var-attrs'><dl class='xr-attrs'><dt><span>units :</span></dt><dd>hPa</dd><dt><span>positive :</span></dt><dd>down</dd><dt><span>stored_direction :</span></dt><dd>decreasing</dd><dt><span>standard_name :</span></dt><dd>air_pressure</dd><dt><span>long_name :</span></dt><dd>pressure</dd></dl></div><div class='xr-var-data'><pre>array([ 300,  400,  500,  700,  850, 1000])</pre></div></li><li class='xr-var-item'><div class='xr-var-name'><span class='xr-has-index'>latitude</span></div><div class='xr-var-dims'>(latitude)</div><div class='xr-var-dtype'>float64</div><div class='xr-var-preview xr-preview'>90.0 80.0 70.0 ... -80.0 -90.0</div><input id='attrs-3c1ab862-67a2-4429-80f4-a3639301ef9f' class='xr-var-attrs-in' type='checkbox' ><label for='attrs-3c1ab862-67a2-4429-80f4-a3639301ef9f' title='Show/Hide attributes'><svg class='icon xr-icon-file-text2'><use xlink:href='#icon-file-text2'></use></svg></label><input id='data-439ba051-b62a-4aed-b747-ac29a6f1ef48' class='xr-var-data-in' type='checkbox'><label for='data-439ba051-b62a-4aed-b747-ac29a6f1ef48' title='Show/Hide data repr'><svg class='icon xr-icon-database'><use xlink:href='#icon-database'></use></svg></label><div class='xr-var-attrs'><dl class='xr-attrs'><dt><span>units :</span></dt><dd>degrees_north</dd><dt><span>standard_name :</span></dt><dd>latitude</dd><dt><span>long_name :</span></dt><dd>latitude</dd></dl></div><div class='xr-var-data'><pre>array([ 90.,  80.,  70.,  60.,  50.,  40.,  30.,  20.,  10.,   0., -10., -20.,\n",
       "       -30., -40., -50., -60., -70., -80., -90.])</pre></div></li><li class='xr-var-item'><div class='xr-var-name'><span class='xr-has-index'>longitude</span></div><div class='xr-var-dims'>(longitude)</div><div class='xr-var-dtype'>float64</div><div class='xr-var-preview xr-preview'>0.0 10.0 20.0 ... 330.0 340.0 350.0</div><input id='attrs-2987b2ab-8685-45e4-8f6b-40d242474038' class='xr-var-attrs-in' type='checkbox' ><label for='attrs-2987b2ab-8685-45e4-8f6b-40d242474038' title='Show/Hide attributes'><svg class='icon xr-icon-file-text2'><use xlink:href='#icon-file-text2'></use></svg></label><input id='data-37bad10d-9558-4b30-8913-2a6103848b93' class='xr-var-data-in' type='checkbox'><label for='data-37bad10d-9558-4b30-8913-2a6103848b93' title='Show/Hide data repr'><svg class='icon xr-icon-database'><use xlink:href='#icon-database'></use></svg></label><div class='xr-var-attrs'><dl class='xr-attrs'><dt><span>units :</span></dt><dd>degrees_east</dd><dt><span>standard_name :</span></dt><dd>longitude</dd><dt><span>long_name :</span></dt><dd>longitude</dd></dl></div><div class='xr-var-data'><pre>array([  0.,  10.,  20.,  30.,  40.,  50.,  60.,  70.,  80.,  90., 100., 110.,\n",
       "       120., 130., 140., 150., 160., 170., 180., 190., 200., 210., 220., 230.,\n",
       "       240., 250., 260., 270., 280., 290., 300., 310., 320., 330., 340., 350.])</pre></div></li></ul></div></li><li class='xr-section-item'><input id='section-7fab7fb5-d5b7-4d4e-8744-5dafb5ddefd4' class='xr-section-summary-in' type='checkbox'  checked><label for='section-7fab7fb5-d5b7-4d4e-8744-5dafb5ddefd4' class='xr-section-summary' >Data variables: <span>(7)</span></label><div class='xr-section-inline-details'></div><div class='xr-section-details'><ul class='xr-var-list'><li class='xr-var-item'><div class='xr-var-name'><span>2t</span></div><div class='xr-var-dims'>(forecast_reference_time, step, latitude, longitude)</div><div class='xr-var-dtype'>float64</div><div class='xr-var-preview xr-preview'>...</div><input id='attrs-1dc73507-d38d-449a-a0a6-0ba7b1dd4b6c' class='xr-var-attrs-in' type='checkbox' ><label for='attrs-1dc73507-d38d-449a-a0a6-0ba7b1dd4b6c' title='Show/Hide attributes'><svg class='icon xr-icon-file-text2'><use xlink:href='#icon-file-text2'></use></svg></label><input id='data-ff350295-cbd9-41bb-9024-a49f5be24458' class='xr-var-data-in' type='checkbox'><label for='data-ff350295-cbd9-41bb-9024-a49f5be24458' title='Show/Hide data repr'><svg class='icon xr-icon-database'><use xlink:href='#icon-database'></use></svg></label><div class='xr-var-attrs'><dl class='xr-attrs'><dt><span>param :</span></dt><dd>2t</dd><dt><span>standard_name :</span></dt><dd>unknown</dd><dt><span>long_name :</span></dt><dd>2 metre temperature</dd><dt><span>paramId :</span></dt><dd>167</dd><dt><span>units :</span></dt><dd>K</dd><dt><span>levtype :</span></dt><dd>sfc</dd></dl></div><div class='xr-var-data'><pre>[5472 values with dtype=float64]</pre></div></li><li class='xr-var-item'><div class='xr-var-name'><span>msl</span></div><div class='xr-var-dims'>(forecast_reference_time, step, latitude, longitude)</div><div class='xr-var-dtype'>float64</div><div class='xr-var-preview xr-preview'>...</div><input id='attrs-2f0e2584-7b26-4f29-a5be-c8adbaec2baa' class='xr-var-attrs-in' type='checkbox' ><label for='attrs-2f0e2584-7b26-4f29-a5be-c8adbaec2baa' title='Show/Hide attributes'><svg class='icon xr-icon-file-text2'><use xlink:href='#icon-file-text2'></use></svg></label><input id='data-50b462c6-ff14-465e-aac0-9efa3cbd2021' class='xr-var-data-in' type='checkbox'><label for='data-50b462c6-ff14-465e-aac0-9efa3cbd2021' title='Show/Hide data repr'><svg class='icon xr-icon-database'><use xlink:href='#icon-database'></use></svg></label><div class='xr-var-attrs'><dl class='xr-attrs'><dt><span>param :</span></dt><dd>msl</dd><dt><span>standard_name :</span></dt><dd>air_pressure_at_mean_sea_level</dd><dt><span>long_name :</span></dt><dd>Mean sea level pressure</dd><dt><span>paramId :</span></dt><dd>151</dd><dt><span>units :</span></dt><dd>Pa</dd><dt><span>levtype :</span></dt><dd>sfc</dd></dl></div><div class='xr-var-data'><pre>[5472 values with dtype=float64]</pre></div></li><li class='xr-var-item'><div class='xr-var-name'><span>r</span></div><div class='xr-var-dims'>(forecast_reference_time, step, levelist, latitude, longitude)</div><div class='xr-var-dtype'>float64</div><div class='xr-var-preview xr-preview'>...</div><input id='attrs-ae28d632-ca72-47ee-846a-48f1fcac4e00' class='xr-var-attrs-in' type='checkbox' ><label for='attrs-ae28d632-ca72-47ee-846a-48f1fcac4e00' title='Show/Hide attributes'><svg class='icon xr-icon-file-text2'><use xlink:href='#icon-file-text2'></use></svg></label><input id='data-953ae566-ba34-47b3-94ec-50f32f91cef7' class='xr-var-data-in' type='checkbox'><label for='data-953ae566-ba34-47b3-94ec-50f32f91cef7' title='Show/Hide data repr'><svg class='icon xr-icon-database'><use xlink:href='#icon-database'></use></svg></label><div class='xr-var-attrs'><dl class='xr-attrs'><dt><span>param :</span></dt><dd>r</dd><dt><span>standard_name :</span></dt><dd>relative_humidity</dd><dt><span>long_name :</span></dt><dd>Relative humidity</dd><dt><span>paramId :</span></dt><dd>157</dd><dt><span>units :</span></dt><dd>%</dd><dt><span>levtype :</span></dt><dd>pl</dd></dl></div><div class='xr-var-data'><pre>[32832 values with dtype=float64]</pre></div></li><li class='xr-var-item'><div class='xr-var-name'><span>t</span></div><div class='xr-var-dims'>(forecast_reference_time, step, levelist, latitude, longitude)</div><div class='xr-var-dtype'>float64</div><div class='xr-var-preview xr-preview'>...</div><input id='attrs-d8fd74dd-d798-41d9-88d3-e5fff3922626' class='xr-var-attrs-in' type='checkbox' ><label for='attrs-d8fd74dd-d798-41d9-88d3-e5fff3922626' title='Show/Hide attributes'><svg class='icon xr-icon-file-text2'><use xlink:href='#icon-file-text2'></use></svg></label><input id='data-95737bed-0f7a-4994-b104-20a6e34a3311' class='xr-var-data-in' type='checkbox'><label for='data-95737bed-0f7a-4994-b104-20a6e34a3311' title='Show/Hide data repr'><svg class='icon xr-icon-database'><use xlink:href='#icon-database'></use></svg></label><div class='xr-var-attrs'><dl class='xr-attrs'><dt><span>param :</span></dt><dd>t</dd><dt><span>standard_name :</span></dt><dd>air_temperature</dd><dt><span>long_name :</span></dt><dd>Temperature</dd><dt><span>paramId :</span></dt><dd>130</dd><dt><span>units :</span></dt><dd>K</dd><dt><span>levtype :</span></dt><dd>pl</dd></dl></div><div class='xr-var-data'><pre>[32832 values with dtype=float64]</pre></div></li><li class='xr-var-item'><div class='xr-var-name'><span>u</span></div><div class='xr-var-dims'>(forecast_reference_time, step, levelist, latitude, longitude)</div><div class='xr-var-dtype'>float64</div><div class='xr-var-preview xr-preview'>...</div><input id='attrs-e03974fb-f265-4f5b-a7b0-c3eda0fd4e70' class='xr-var-attrs-in' type='checkbox' ><label for='attrs-e03974fb-f265-4f5b-a7b0-c3eda0fd4e70' title='Show/Hide attributes'><svg class='icon xr-icon-file-text2'><use xlink:href='#icon-file-text2'></use></svg></label><input id='data-3b6a41eb-d199-4fc6-96e9-358724dfbc27' class='xr-var-data-in' type='checkbox'><label for='data-3b6a41eb-d199-4fc6-96e9-358724dfbc27' title='Show/Hide data repr'><svg class='icon xr-icon-database'><use xlink:href='#icon-database'></use></svg></label><div class='xr-var-attrs'><dl class='xr-attrs'><dt><span>param :</span></dt><dd>u</dd><dt><span>standard_name :</span></dt><dd>eastward_wind</dd><dt><span>long_name :</span></dt><dd>U component of wind</dd><dt><span>paramId :</span></dt><dd>131</dd><dt><span>units :</span></dt><dd>m s**-1</dd><dt><span>levtype :</span></dt><dd>pl</dd></dl></div><div class='xr-var-data'><pre>[32832 values with dtype=float64]</pre></div></li><li class='xr-var-item'><div class='xr-var-name'><span>v</span></div><div class='xr-var-dims'>(forecast_reference_time, step, levelist, latitude, longitude)</div><div class='xr-var-dtype'>float64</div><div class='xr-var-preview xr-preview'>...</div><input id='attrs-1f562053-2bac-423d-9b8a-5a91f705a102' class='xr-var-attrs-in' type='checkbox' ><label for='attrs-1f562053-2bac-423d-9b8a-5a91f705a102' title='Show/Hide attributes'><svg class='icon xr-icon-file-text2'><use xlink:href='#icon-file-text2'></use></svg></label><input id='data-f4d51562-c273-4a50-a8fc-7402125b01fb' class='xr-var-data-in' type='checkbox'><label for='data-f4d51562-c273-4a50-a8fc-7402125b01fb' title='Show/Hide data repr'><svg class='icon xr-icon-database'><use xlink:href='#icon-database'></use></svg></label><div class='xr-var-attrs'><dl class='xr-attrs'><dt><span>param :</span></dt><dd>v</dd><dt><span>standard_name :</span></dt><dd>northward_wind</dd><dt><span>long_name :</span></dt><dd>V component of wind</dd><dt><span>paramId :</span></dt><dd>132</dd><dt><span>units :</span></dt><dd>m s**-1</dd><dt><span>levtype :</span></dt><dd>pl</dd></dl></div><div class='xr-var-data'><pre>[32832 values with dtype=float64]</pre></div></li><li class='xr-var-item'><div class='xr-var-name'><span>z</span></div><div class='xr-var-dims'>(forecast_reference_time, step, levelist, latitude, longitude)</div><div class='xr-var-dtype'>float64</div><div class='xr-var-preview xr-preview'>...</div><input id='attrs-f03aacfc-4328-4f18-8ac8-967e08e6e7e3' class='xr-var-attrs-in' type='checkbox' ><label for='attrs-f03aacfc-4328-4f18-8ac8-967e08e6e7e3' title='Show/Hide attributes'><svg class='icon xr-icon-file-text2'><use xlink:href='#icon-file-text2'></use></svg></label><input id='data-347cd8c8-a729-4043-b060-f01c03588f84' class='xr-var-data-in' type='checkbox'><label for='data-347cd8c8-a729-4043-b060-f01c03588f84' title='Show/Hide data repr'><svg class='icon xr-icon-database'><use xlink:href='#icon-database'></use></svg></label><div class='xr-var-attrs'><dl class='xr-attrs'><dt><span>param :</span></dt><dd>z</dd><dt><span>standard_name :</span></dt><dd>geopotential</dd><dt><span>long_name :</span></dt><dd>Geopotential</dd><dt><span>paramId :</span></dt><dd>129</dd><dt><span>units :</span></dt><dd>m**2 s**-2</dd><dt><span>levtype :</span></dt><dd>pl</dd></dl></div><div class='xr-var-data'><pre>[32832 values with dtype=float64]</pre></div></li></ul></div></li><li class='xr-section-item'><input id='section-42a4f396-2643-4c5a-b0a1-afc33a526107' class='xr-section-summary-in' type='checkbox'  ><label for='section-42a4f396-2643-4c5a-b0a1-afc33a526107' class='xr-section-summary' >Indexes: <span>(5)</span></label><div class='xr-section-inline-details'></div><div class='xr-section-details'><ul class='xr-var-list'><li class='xr-var-item'><div class='xr-index-name'><div>forecast_reference_time</div></div><div class='xr-index-preview'>PandasIndex</div><div></div><input id='index-d152303e-727f-486f-8337-a46fda681b63' class='xr-index-data-in' type='checkbox'/><label for='index-d152303e-727f-486f-8337-a46fda681b63' title='Show/Hide index repr'><svg class='icon xr-icon-database'><use xlink:href='#icon-database'></use></svg></label><div class='xr-index-data'><pre>PandasIndex(DatetimeIndex([&#x27;2024-06-03 00:00:00&#x27;, &#x27;2024-06-03 12:00:00&#x27;,\n",
       "               &#x27;2024-06-04 00:00:00&#x27;, &#x27;2024-06-04 12:00:00&#x27;],\n",
       "              dtype=&#x27;datetime64[ns]&#x27;, name=&#x27;forecast_reference_time&#x27;, freq=None))</pre></div></li><li class='xr-var-item'><div class='xr-index-name'><div>step</div></div><div class='xr-index-preview'>PandasIndex</div><div></div><input id='index-92102027-57e5-4123-aed4-de01003c1775' class='xr-index-data-in' type='checkbox'/><label for='index-92102027-57e5-4123-aed4-de01003c1775' title='Show/Hide index repr'><svg class='icon xr-icon-database'><use xlink:href='#icon-database'></use></svg></label><div class='xr-index-data'><pre>PandasIndex(TimedeltaIndex([&#x27;0 days 00:00:00&#x27;, &#x27;0 days 06:00:00&#x27;], dtype=&#x27;timedelta64[ns]&#x27;, name=&#x27;step&#x27;, freq=None))</pre></div></li><li class='xr-var-item'><div class='xr-index-name'><div>levelist</div></div><div class='xr-index-preview'>PandasIndex</div><div></div><input id='index-4dbc9076-2246-4078-9364-69bad16c2878' class='xr-index-data-in' type='checkbox'/><label for='index-4dbc9076-2246-4078-9364-69bad16c2878' title='Show/Hide index repr'><svg class='icon xr-icon-database'><use xlink:href='#icon-database'></use></svg></label><div class='xr-index-data'><pre>PandasIndex(Index([300, 400, 500, 700, 850, 1000], dtype=&#x27;int64&#x27;, name=&#x27;levelist&#x27;))</pre></div></li><li class='xr-var-item'><div class='xr-index-name'><div>latitude</div></div><div class='xr-index-preview'>PandasIndex</div><div></div><input id='index-9e9de6c1-2229-4891-abfd-cedb9fafb744' class='xr-index-data-in' type='checkbox'/><label for='index-9e9de6c1-2229-4891-abfd-cedb9fafb744' title='Show/Hide index repr'><svg class='icon xr-icon-database'><use xlink:href='#icon-database'></use></svg></label><div class='xr-index-data'><pre>PandasIndex(Index([ 90.0,  80.0,  70.0,  60.0,  50.0,  40.0,  30.0,  20.0,  10.0,   0.0,\n",
       "       -10.0, -20.0, -30.0, -40.0, -50.0, -60.0, -70.0, -80.0, -90.0],\n",
       "      dtype=&#x27;float64&#x27;, name=&#x27;latitude&#x27;))</pre></div></li><li class='xr-var-item'><div class='xr-index-name'><div>longitude</div></div><div class='xr-index-preview'>PandasIndex</div><div></div><input id='index-93688b68-8c8b-49b5-a953-fb188e223a17' class='xr-index-data-in' type='checkbox'/><label for='index-93688b68-8c8b-49b5-a953-fb188e223a17' title='Show/Hide index repr'><svg class='icon xr-icon-database'><use xlink:href='#icon-database'></use></svg></label><div class='xr-index-data'><pre>PandasIndex(Index([  0.0,  10.0,  20.0,  30.0,  40.0,  50.0,  60.0,  70.0,  80.0,  90.0,\n",
       "       100.0, 110.0, 120.0, 130.0, 140.0, 150.0, 160.0, 170.0, 180.0, 190.0,\n",
       "       200.0, 210.0, 220.0, 230.0, 240.0, 250.0, 260.0, 270.0, 280.0, 290.0,\n",
       "       300.0, 310.0, 320.0, 330.0, 340.0, 350.0],\n",
       "      dtype=&#x27;float64&#x27;, name=&#x27;longitude&#x27;))</pre></div></li></ul></div></li><li class='xr-section-item'><input id='section-e0c12421-16a7-43e5-8c53-6ac8ff4616a7' class='xr-section-summary-in' type='checkbox'  checked><label for='section-e0c12421-16a7-43e5-8c53-6ac8ff4616a7' class='xr-section-summary' >Attributes: <span>(8)</span></label><div class='xr-section-inline-details'></div><div class='xr-section-details'><dl class='xr-attrs'><dt><span>class :</span></dt><dd>od</dd><dt><span>stream :</span></dt><dd>oper</dd><dt><span>type :</span></dt><dd>fc</dd><dt><span>expver :</span></dt><dd>0001</dd><dt><span>domain :</span></dt><dd>g</dd><dt><span>number :</span></dt><dd>0</dd><dt><span>Conventions :</span></dt><dd>CF-1.8</dd><dt><span>institution :</span></dt><dd>ECMWF</dd></dl></div></li></ul></div></div>"
      ],
      "text/plain": [
       "<xarray.Dataset> Size: 1MB\n",
       "Dimensions:                  (forecast_reference_time: 4, step: 2,\n",
       "                              latitude: 19, longitude: 36, levelist: 6)\n",
       "Coordinates:\n",
       "  * forecast_reference_time  (forecast_reference_time) datetime64[ns] 32B 202...\n",
       "  * step                     (step) timedelta64[ns] 16B 00:00:00 06:00:00\n",
       "  * levelist                 (levelist) int64 48B 300 400 500 700 850 1000\n",
       "  * latitude                 (latitude) float64 152B 90.0 80.0 ... -80.0 -90.0\n",
       "  * longitude                (longitude) float64 288B 0.0 10.0 ... 340.0 350.0\n",
       "Data variables:\n",
       "    2t                       (forecast_reference_time, step, latitude, longitude) float64 44kB ...\n",
       "    msl                      (forecast_reference_time, step, latitude, longitude) float64 44kB ...\n",
       "    r                        (forecast_reference_time, step, levelist, latitude, longitude) float64 263kB ...\n",
       "    t                        (forecast_reference_time, step, levelist, latitude, longitude) float64 263kB ...\n",
       "    u                        (forecast_reference_time, step, levelist, latitude, longitude) float64 263kB ...\n",
       "    v                        (forecast_reference_time, step, levelist, latitude, longitude) float64 263kB ...\n",
       "    z                        (forecast_reference_time, step, levelist, latitude, longitude) float64 263kB ...\n",
       "Attributes:\n",
       "    class:        od\n",
       "    stream:       oper\n",
       "    type:         fc\n",
       "    expver:       0001\n",
       "    domain:       g\n",
       "    number:       0\n",
       "    Conventions:  CF-1.8\n",
       "    institution:  ECMWF"
      ]
     },
     "execution_count": 2,
     "metadata": {},
     "output_type": "execute_result"
    }
   ],
   "source": [
    "ds = ds_ek.to_xarray()\n",
    "ds"
   ]
  },
  {
   "cell_type": "code",
   "execution_count": 3,
   "id": "aec71ff9-4921-409f-b18b-1fd818ca60f7",
   "metadata": {},
   "outputs": [
    {
     "data": {
      "application/vnd.jupyter.widget-view+json": {
       "model_id": "",
       "version_major": 2,
       "version_minor": 0
      },
      "text/plain": [
       "Finding coords in dataset for ('forecast_reference_time', 'step'):   0%|          | 0.00/8.00 [00:00<?, ?B/s]"
      ]
     },
     "metadata": {},
     "output_type": "display_data"
    },
    {
     "data": {
      "application/vnd.jupyter.widget-view+json": {
       "model_id": "",
       "version_major": 2,
       "version_minor": 0
      },
      "text/plain": [
       "Finding coords in dataset for ('forecast_reference_time', 'step'):   0%|          | 0.00/8.00 [00:00<?, ?B/s]"
      ]
     },
     "metadata": {},
     "output_type": "display_data"
    },
    {
     "data": {
      "application/vnd.jupyter.widget-view+json": {
       "model_id": "",
       "version_major": 2,
       "version_minor": 0
      },
      "text/plain": [
       "Finding coords in dataset for ('forecast_reference_time', 'step'):   0%|          | 0.00/8.00 [00:00<?, ?B/s]"
      ]
     },
     "metadata": {},
     "output_type": "display_data"
    },
    {
     "data": {
      "application/vnd.jupyter.widget-view+json": {
       "model_id": "",
       "version_major": 2,
       "version_minor": 0
      },
      "text/plain": [
       "Finding coords in dataset for ('forecast_reference_time', 'step'):   0%|          | 0.00/8.00 [00:00<?, ?B/s]"
      ]
     },
     "metadata": {},
     "output_type": "display_data"
    },
    {
     "data": {
      "application/vnd.jupyter.widget-view+json": {
       "model_id": "",
       "version_major": 2,
       "version_minor": 0
      },
      "text/plain": [
       "Finding coords in dataset for ('forecast_reference_time', 'step'):   0%|          | 0.00/8.00 [00:00<?, ?B/s]"
      ]
     },
     "metadata": {},
     "output_type": "display_data"
    },
    {
     "data": {
      "application/vnd.jupyter.widget-view+json": {
       "model_id": "",
       "version_major": 2,
       "version_minor": 0
      },
      "text/plain": [
       "Finding coords in dataset for ('forecast_reference_time', 'step'):   0%|          | 0.00/8.00 [00:00<?, ?B/s]"
      ]
     },
     "metadata": {},
     "output_type": "display_data"
    },
    {
     "data": {
      "application/vnd.jupyter.widget-view+json": {
       "model_id": "",
       "version_major": 2,
       "version_minor": 0
      },
      "text/plain": [
       "Finding coords in dataset for ('forecast_reference_time', 'step'):   0%|          | 0.00/8.00 [00:00<?, ?B/s]"
      ]
     },
     "metadata": {},
     "output_type": "display_data"
    },
    {
     "data": {
      "application/vnd.jupyter.widget-view+json": {
       "model_id": "",
       "version_major": 2,
       "version_minor": 0
      },
      "text/plain": [
       "Finding coords in dataset for ('forecast_reference_time', 'step'):   0%|          | 0.00/8.00 [00:00<?, ?B/s]"
      ]
     },
     "metadata": {},
     "output_type": "display_data"
    },
    {
     "data": {
      "application/vnd.jupyter.widget-view+json": {
       "model_id": "",
       "version_major": 2,
       "version_minor": 0
      },
      "text/plain": [
       "Finding coords in dataset for ('forecast_reference_time', 'step'):   0%|          | 0.00/8.00 [00:00<?, ?B/s]"
      ]
     },
     "metadata": {},
     "output_type": "display_data"
    },
    {
     "data": {
      "application/vnd.jupyter.widget-view+json": {
       "model_id": "",
       "version_major": 2,
       "version_minor": 0
      },
      "text/plain": [
       "Finding coords in dataset for ('forecast_reference_time', 'step'):   0%|          | 0.00/8.00 [00:00<?, ?B/s]"
      ]
     },
     "metadata": {},
     "output_type": "display_data"
    },
    {
     "data": {
      "application/vnd.jupyter.widget-view+json": {
       "model_id": "",
       "version_major": 2,
       "version_minor": 0
      },
      "text/plain": [
       "Finding coords in dataset for ('forecast_reference_time', 'step'):   0%|          | 0.00/8.00 [00:00<?, ?B/s]"
      ]
     },
     "metadata": {},
     "output_type": "display_data"
    },
    {
     "data": {
      "application/vnd.jupyter.widget-view+json": {
       "model_id": "",
       "version_major": 2,
       "version_minor": 0
      },
      "text/plain": [
       "Finding coords in dataset for ('forecast_reference_time', 'step'):   0%|          | 0.00/8.00 [00:00<?, ?B/s]"
      ]
     },
     "metadata": {},
     "output_type": "display_data"
    },
    {
     "data": {
      "application/vnd.jupyter.widget-view+json": {
       "model_id": "",
       "version_major": 2,
       "version_minor": 0
      },
      "text/plain": [
       "Finding coords in dataset for ('forecast_reference_time', 'step'):   0%|          | 0.00/8.00 [00:00<?, ?B/s]"
      ]
     },
     "metadata": {},
     "output_type": "display_data"
    },
    {
     "data": {
      "application/vnd.jupyter.widget-view+json": {
       "model_id": "",
       "version_major": 2,
       "version_minor": 0
      },
      "text/plain": [
       "Finding coords in dataset for ('forecast_reference_time', 'step'):   0%|          | 0.00/8.00 [00:00<?, ?B/s]"
      ]
     },
     "metadata": {},
     "output_type": "display_data"
    },
    {
     "data": {
      "application/vnd.jupyter.widget-view+json": {
       "model_id": "",
       "version_major": 2,
       "version_minor": 0
      },
      "text/plain": [
       "Finding coords in dataset for ('forecast_reference_time', 'step'):   0%|          | 0.00/8.00 [00:00<?, ?B/s]"
      ]
     },
     "metadata": {},
     "output_type": "display_data"
    },
    {
     "data": {
      "application/vnd.jupyter.widget-view+json": {
       "model_id": "",
       "version_major": 2,
       "version_minor": 0
      },
      "text/plain": [
       "Finding coords in dataset for ('forecast_reference_time', 'step'):   0%|          | 0.00/8.00 [00:00<?, ?B/s]"
      ]
     },
     "metadata": {},
     "output_type": "display_data"
    },
    {
     "data": {
      "application/vnd.jupyter.widget-view+json": {
       "model_id": "",
       "version_major": 2,
       "version_minor": 0
      },
      "text/plain": [
       "Finding coords in dataset for ('forecast_reference_time', 'step'):   0%|          | 0.00/8.00 [00:00<?, ?B/s]"
      ]
     },
     "metadata": {},
     "output_type": "display_data"
    },
    {
     "data": {
      "application/vnd.jupyter.widget-view+json": {
       "model_id": "",
       "version_major": 2,
       "version_minor": 0
      },
      "text/plain": [
       "Finding coords in dataset for ('forecast_reference_time', 'step'):   0%|          | 0.00/8.00 [00:00<?, ?B/s]"
      ]
     },
     "metadata": {},
     "output_type": "display_data"
    },
    {
     "data": {
      "application/vnd.jupyter.widget-view+json": {
       "model_id": "",
       "version_major": 2,
       "version_minor": 0
      },
      "text/plain": [
       "Finding coords in dataset for ('forecast_reference_time', 'step'):   0%|          | 0.00/8.00 [00:00<?, ?B/s]"
      ]
     },
     "metadata": {},
     "output_type": "display_data"
    },
    {
     "data": {
      "application/vnd.jupyter.widget-view+json": {
       "model_id": "",
       "version_major": 2,
       "version_minor": 0
      },
      "text/plain": [
       "Finding coords in dataset for ('forecast_reference_time', 'step'):   0%|          | 0.00/8.00 [00:00<?, ?B/s]"
      ]
     },
     "metadata": {},
     "output_type": "display_data"
    },
    {
     "data": {
      "application/vnd.jupyter.widget-view+json": {
       "model_id": "",
       "version_major": 2,
       "version_minor": 0
      },
      "text/plain": [
       "Finding coords in dataset for ('forecast_reference_time', 'step'):   0%|          | 0.00/8.00 [00:00<?, ?B/s]"
      ]
     },
     "metadata": {},
     "output_type": "display_data"
    },
    {
     "data": {
      "application/vnd.jupyter.widget-view+json": {
       "model_id": "",
       "version_major": 2,
       "version_minor": 0
      },
      "text/plain": [
       "Finding coords in dataset for ('forecast_reference_time', 'step'):   0%|          | 0.00/8.00 [00:00<?, ?B/s]"
      ]
     },
     "metadata": {},
     "output_type": "display_data"
    },
    {
     "data": {
      "application/vnd.jupyter.widget-view+json": {
       "model_id": "",
       "version_major": 2,
       "version_minor": 0
      },
      "text/plain": [
       "Finding coords in dataset for ('forecast_reference_time', 'step'):   0%|          | 0.00/8.00 [00:00<?, ?B/s]"
      ]
     },
     "metadata": {},
     "output_type": "display_data"
    },
    {
     "data": {
      "application/vnd.jupyter.widget-view+json": {
       "model_id": "",
       "version_major": 2,
       "version_minor": 0
      },
      "text/plain": [
       "Finding coords in dataset for ('forecast_reference_time', 'step'):   0%|          | 0.00/8.00 [00:00<?, ?B/s]"
      ]
     },
     "metadata": {},
     "output_type": "display_data"
    },
    {
     "data": {
      "application/vnd.jupyter.widget-view+json": {
       "model_id": "",
       "version_major": 2,
       "version_minor": 0
      },
      "text/plain": [
       "Finding coords in dataset for ('forecast_reference_time', 'step'):   0%|          | 0.00/8.00 [00:00<?, ?B/s]"
      ]
     },
     "metadata": {},
     "output_type": "display_data"
    },
    {
     "data": {
      "application/vnd.jupyter.widget-view+json": {
       "model_id": "",
       "version_major": 2,
       "version_minor": 0
      },
      "text/plain": [
       "Finding coords in dataset for ('forecast_reference_time', 'step'):   0%|          | 0.00/8.00 [00:00<?, ?B/s]"
      ]
     },
     "metadata": {},
     "output_type": "display_data"
    },
    {
     "data": {
      "application/vnd.jupyter.widget-view+json": {
       "model_id": "",
       "version_major": 2,
       "version_minor": 0
      },
      "text/plain": [
       "Finding coords in dataset for ('forecast_reference_time', 'step'):   0%|          | 0.00/8.00 [00:00<?, ?B/s]"
      ]
     },
     "metadata": {},
     "output_type": "display_data"
    },
    {
     "data": {
      "application/vnd.jupyter.widget-view+json": {
       "model_id": "",
       "version_major": 2,
       "version_minor": 0
      },
      "text/plain": [
       "Finding coords in dataset for ('forecast_reference_time', 'step'):   0%|          | 0.00/8.00 [00:00<?, ?B/s]"
      ]
     },
     "metadata": {},
     "output_type": "display_data"
    },
    {
     "data": {
      "application/vnd.jupyter.widget-view+json": {
       "model_id": "",
       "version_major": 2,
       "version_minor": 0
      },
      "text/plain": [
       "Finding coords in dataset for ('forecast_reference_time', 'step'):   0%|          | 0.00/8.00 [00:00<?, ?B/s]"
      ]
     },
     "metadata": {},
     "output_type": "display_data"
    },
    {
     "data": {
      "application/vnd.jupyter.widget-view+json": {
       "model_id": "",
       "version_major": 2,
       "version_minor": 0
      },
      "text/plain": [
       "Finding coords in dataset for ('forecast_reference_time', 'step'):   0%|          | 0.00/8.00 [00:00<?, ?B/s]"
      ]
     },
     "metadata": {},
     "output_type": "display_data"
    },
    {
     "data": {
      "application/vnd.jupyter.widget-view+json": {
       "model_id": "",
       "version_major": 2,
       "version_minor": 0
      },
      "text/plain": [
       "Finding coords in dataset for ('forecast_reference_time', 'step'):   0%|          | 0.00/8.00 [00:00<?, ?B/s]"
      ]
     },
     "metadata": {},
     "output_type": "display_data"
    },
    {
     "data": {
      "application/vnd.jupyter.widget-view+json": {
       "model_id": "",
       "version_major": 2,
       "version_minor": 0
      },
      "text/plain": [
       "Finding coords in dataset for ('forecast_reference_time', 'step'):   0%|          | 0.00/8.00 [00:00<?, ?B/s]"
      ]
     },
     "metadata": {},
     "output_type": "display_data"
    },
    {
     "data": {
      "text/html": [
       "<div><svg style=\"position: absolute; width: 0; height: 0; overflow: hidden\">\n",
       "<defs>\n",
       "<symbol id=\"icon-database\" viewBox=\"0 0 32 32\">\n",
       "<path d=\"M16 0c-8.837 0-16 2.239-16 5v4c0 2.761 7.163 5 16 5s16-2.239 16-5v-4c0-2.761-7.163-5-16-5z\"></path>\n",
       "<path d=\"M16 17c-8.837 0-16-2.239-16-5v6c0 2.761 7.163 5 16 5s16-2.239 16-5v-6c0 2.761-7.163 5-16 5z\"></path>\n",
       "<path d=\"M16 26c-8.837 0-16-2.239-16-5v6c0 2.761 7.163 5 16 5s16-2.239 16-5v-6c0 2.761-7.163 5-16 5z\"></path>\n",
       "</symbol>\n",
       "<symbol id=\"icon-file-text2\" viewBox=\"0 0 32 32\">\n",
       "<path d=\"M28.681 7.159c-0.694-0.947-1.662-2.053-2.724-3.116s-2.169-2.030-3.116-2.724c-1.612-1.182-2.393-1.319-2.841-1.319h-15.5c-1.378 0-2.5 1.121-2.5 2.5v27c0 1.378 1.122 2.5 2.5 2.5h23c1.378 0 2.5-1.122 2.5-2.5v-19.5c0-0.448-0.137-1.23-1.319-2.841zM24.543 5.457c0.959 0.959 1.712 1.825 2.268 2.543h-4.811v-4.811c0.718 0.556 1.584 1.309 2.543 2.268zM28 29.5c0 0.271-0.229 0.5-0.5 0.5h-23c-0.271 0-0.5-0.229-0.5-0.5v-27c0-0.271 0.229-0.5 0.5-0.5 0 0 15.499-0 15.5 0v7c0 0.552 0.448 1 1 1h7v19.5z\"></path>\n",
       "<path d=\"M23 26h-14c-0.552 0-1-0.448-1-1s0.448-1 1-1h14c0.552 0 1 0.448 1 1s-0.448 1-1 1z\"></path>\n",
       "<path d=\"M23 22h-14c-0.552 0-1-0.448-1-1s0.448-1 1-1h14c0.552 0 1 0.448 1 1s-0.448 1-1 1z\"></path>\n",
       "<path d=\"M23 18h-14c-0.552 0-1-0.448-1-1s0.448-1 1-1h14c0.552 0 1 0.448 1 1s-0.448 1-1 1z\"></path>\n",
       "</symbol>\n",
       "</defs>\n",
       "</svg>\n",
       "<style>/* CSS stylesheet for displaying xarray objects in jupyterlab.\n",
       " *\n",
       " */\n",
       "\n",
       ":root {\n",
       "  --xr-font-color0: var(--jp-content-font-color0, rgba(0, 0, 0, 1));\n",
       "  --xr-font-color2: var(--jp-content-font-color2, rgba(0, 0, 0, 0.54));\n",
       "  --xr-font-color3: var(--jp-content-font-color3, rgba(0, 0, 0, 0.38));\n",
       "  --xr-border-color: var(--jp-border-color2, #e0e0e0);\n",
       "  --xr-disabled-color: var(--jp-layout-color3, #bdbdbd);\n",
       "  --xr-background-color: var(--jp-layout-color0, white);\n",
       "  --xr-background-color-row-even: var(--jp-layout-color1, white);\n",
       "  --xr-background-color-row-odd: var(--jp-layout-color2, #eeeeee);\n",
       "}\n",
       "\n",
       "html[theme=dark],\n",
       "html[data-theme=dark],\n",
       "body[data-theme=dark],\n",
       "body.vscode-dark {\n",
       "  --xr-font-color0: rgba(255, 255, 255, 1);\n",
       "  --xr-font-color2: rgba(255, 255, 255, 0.54);\n",
       "  --xr-font-color3: rgba(255, 255, 255, 0.38);\n",
       "  --xr-border-color: #1F1F1F;\n",
       "  --xr-disabled-color: #515151;\n",
       "  --xr-background-color: #111111;\n",
       "  --xr-background-color-row-even: #111111;\n",
       "  --xr-background-color-row-odd: #313131;\n",
       "}\n",
       "\n",
       ".xr-wrap {\n",
       "  display: block !important;\n",
       "  min-width: 300px;\n",
       "  max-width: 700px;\n",
       "}\n",
       "\n",
       ".xr-text-repr-fallback {\n",
       "  /* fallback to plain text repr when CSS is not injected (untrusted notebook) */\n",
       "  display: none;\n",
       "}\n",
       "\n",
       ".xr-header {\n",
       "  padding-top: 6px;\n",
       "  padding-bottom: 6px;\n",
       "  margin-bottom: 4px;\n",
       "  border-bottom: solid 1px var(--xr-border-color);\n",
       "}\n",
       "\n",
       ".xr-header > div,\n",
       ".xr-header > ul {\n",
       "  display: inline;\n",
       "  margin-top: 0;\n",
       "  margin-bottom: 0;\n",
       "}\n",
       "\n",
       ".xr-obj-type,\n",
       ".xr-array-name {\n",
       "  margin-left: 2px;\n",
       "  margin-right: 10px;\n",
       "}\n",
       "\n",
       ".xr-obj-type {\n",
       "  color: var(--xr-font-color2);\n",
       "}\n",
       "\n",
       ".xr-sections {\n",
       "  padding-left: 0 !important;\n",
       "  display: grid;\n",
       "  grid-template-columns: 150px auto auto 1fr 20px 20px;\n",
       "}\n",
       "\n",
       ".xr-section-item {\n",
       "  display: contents;\n",
       "}\n",
       "\n",
       ".xr-section-item input {\n",
       "  display: none;\n",
       "}\n",
       "\n",
       ".xr-section-item input + label {\n",
       "  color: var(--xr-disabled-color);\n",
       "}\n",
       "\n",
       ".xr-section-item input:enabled + label {\n",
       "  cursor: pointer;\n",
       "  color: var(--xr-font-color2);\n",
       "}\n",
       "\n",
       ".xr-section-item input:enabled + label:hover {\n",
       "  color: var(--xr-font-color0);\n",
       "}\n",
       "\n",
       ".xr-section-summary {\n",
       "  grid-column: 1;\n",
       "  color: var(--xr-font-color2);\n",
       "  font-weight: 500;\n",
       "}\n",
       "\n",
       ".xr-section-summary > span {\n",
       "  display: inline-block;\n",
       "  padding-left: 0.5em;\n",
       "}\n",
       "\n",
       ".xr-section-summary-in:disabled + label {\n",
       "  color: var(--xr-font-color2);\n",
       "}\n",
       "\n",
       ".xr-section-summary-in + label:before {\n",
       "  display: inline-block;\n",
       "  content: '►';\n",
       "  font-size: 11px;\n",
       "  width: 15px;\n",
       "  text-align: center;\n",
       "}\n",
       "\n",
       ".xr-section-summary-in:disabled + label:before {\n",
       "  color: var(--xr-disabled-color);\n",
       "}\n",
       "\n",
       ".xr-section-summary-in:checked + label:before {\n",
       "  content: '▼';\n",
       "}\n",
       "\n",
       ".xr-section-summary-in:checked + label > span {\n",
       "  display: none;\n",
       "}\n",
       "\n",
       ".xr-section-summary,\n",
       ".xr-section-inline-details {\n",
       "  padding-top: 4px;\n",
       "  padding-bottom: 4px;\n",
       "}\n",
       "\n",
       ".xr-section-inline-details {\n",
       "  grid-column: 2 / -1;\n",
       "}\n",
       "\n",
       ".xr-section-details {\n",
       "  display: none;\n",
       "  grid-column: 1 / -1;\n",
       "  margin-bottom: 5px;\n",
       "}\n",
       "\n",
       ".xr-section-summary-in:checked ~ .xr-section-details {\n",
       "  display: contents;\n",
       "}\n",
       "\n",
       ".xr-array-wrap {\n",
       "  grid-column: 1 / -1;\n",
       "  display: grid;\n",
       "  grid-template-columns: 20px auto;\n",
       "}\n",
       "\n",
       ".xr-array-wrap > label {\n",
       "  grid-column: 1;\n",
       "  vertical-align: top;\n",
       "}\n",
       "\n",
       ".xr-preview {\n",
       "  color: var(--xr-font-color3);\n",
       "}\n",
       "\n",
       ".xr-array-preview,\n",
       ".xr-array-data {\n",
       "  padding: 0 5px !important;\n",
       "  grid-column: 2;\n",
       "}\n",
       "\n",
       ".xr-array-data,\n",
       ".xr-array-in:checked ~ .xr-array-preview {\n",
       "  display: none;\n",
       "}\n",
       "\n",
       ".xr-array-in:checked ~ .xr-array-data,\n",
       ".xr-array-preview {\n",
       "  display: inline-block;\n",
       "}\n",
       "\n",
       ".xr-dim-list {\n",
       "  display: inline-block !important;\n",
       "  list-style: none;\n",
       "  padding: 0 !important;\n",
       "  margin: 0;\n",
       "}\n",
       "\n",
       ".xr-dim-list li {\n",
       "  display: inline-block;\n",
       "  padding: 0;\n",
       "  margin: 0;\n",
       "}\n",
       "\n",
       ".xr-dim-list:before {\n",
       "  content: '(';\n",
       "}\n",
       "\n",
       ".xr-dim-list:after {\n",
       "  content: ')';\n",
       "}\n",
       "\n",
       ".xr-dim-list li:not(:last-child):after {\n",
       "  content: ',';\n",
       "  padding-right: 5px;\n",
       "}\n",
       "\n",
       ".xr-has-index {\n",
       "  font-weight: bold;\n",
       "}\n",
       "\n",
       ".xr-var-list,\n",
       ".xr-var-item {\n",
       "  display: contents;\n",
       "}\n",
       "\n",
       ".xr-var-item > div,\n",
       ".xr-var-item label,\n",
       ".xr-var-item > .xr-var-name span {\n",
       "  background-color: var(--xr-background-color-row-even);\n",
       "  margin-bottom: 0;\n",
       "}\n",
       "\n",
       ".xr-var-item > .xr-var-name:hover span {\n",
       "  padding-right: 5px;\n",
       "}\n",
       "\n",
       ".xr-var-list > li:nth-child(odd) > div,\n",
       ".xr-var-list > li:nth-child(odd) > label,\n",
       ".xr-var-list > li:nth-child(odd) > .xr-var-name span {\n",
       "  background-color: var(--xr-background-color-row-odd);\n",
       "}\n",
       "\n",
       ".xr-var-name {\n",
       "  grid-column: 1;\n",
       "}\n",
       "\n",
       ".xr-var-dims {\n",
       "  grid-column: 2;\n",
       "}\n",
       "\n",
       ".xr-var-dtype {\n",
       "  grid-column: 3;\n",
       "  text-align: right;\n",
       "  color: var(--xr-font-color2);\n",
       "}\n",
       "\n",
       ".xr-var-preview {\n",
       "  grid-column: 4;\n",
       "}\n",
       "\n",
       ".xr-index-preview {\n",
       "  grid-column: 2 / 5;\n",
       "  color: var(--xr-font-color2);\n",
       "}\n",
       "\n",
       ".xr-var-name,\n",
       ".xr-var-dims,\n",
       ".xr-var-dtype,\n",
       ".xr-preview,\n",
       ".xr-attrs dt {\n",
       "  white-space: nowrap;\n",
       "  overflow: hidden;\n",
       "  text-overflow: ellipsis;\n",
       "  padding-right: 10px;\n",
       "}\n",
       "\n",
       ".xr-var-name:hover,\n",
       ".xr-var-dims:hover,\n",
       ".xr-var-dtype:hover,\n",
       ".xr-attrs dt:hover {\n",
       "  overflow: visible;\n",
       "  width: auto;\n",
       "  z-index: 1;\n",
       "}\n",
       "\n",
       ".xr-var-attrs,\n",
       ".xr-var-data,\n",
       ".xr-index-data {\n",
       "  display: none;\n",
       "  background-color: var(--xr-background-color) !important;\n",
       "  padding-bottom: 5px !important;\n",
       "}\n",
       "\n",
       ".xr-var-attrs-in:checked ~ .xr-var-attrs,\n",
       ".xr-var-data-in:checked ~ .xr-var-data,\n",
       ".xr-index-data-in:checked ~ .xr-index-data {\n",
       "  display: block;\n",
       "}\n",
       "\n",
       ".xr-var-data > table {\n",
       "  float: right;\n",
       "}\n",
       "\n",
       ".xr-var-name span,\n",
       ".xr-var-data,\n",
       ".xr-index-name div,\n",
       ".xr-index-data,\n",
       ".xr-attrs {\n",
       "  padding-left: 25px !important;\n",
       "}\n",
       "\n",
       ".xr-attrs,\n",
       ".xr-var-attrs,\n",
       ".xr-var-data,\n",
       ".xr-index-data {\n",
       "  grid-column: 1 / -1;\n",
       "}\n",
       "\n",
       "dl.xr-attrs {\n",
       "  padding: 0;\n",
       "  margin: 0;\n",
       "  display: grid;\n",
       "  grid-template-columns: 125px auto;\n",
       "}\n",
       "\n",
       ".xr-attrs dt,\n",
       ".xr-attrs dd {\n",
       "  padding: 0;\n",
       "  margin: 0;\n",
       "  float: left;\n",
       "  padding-right: 10px;\n",
       "  width: auto;\n",
       "}\n",
       "\n",
       ".xr-attrs dt {\n",
       "  font-weight: normal;\n",
       "  grid-column: 1;\n",
       "}\n",
       "\n",
       ".xr-attrs dt:hover span {\n",
       "  display: inline-block;\n",
       "  background: var(--xr-background-color);\n",
       "  padding-right: 10px;\n",
       "}\n",
       "\n",
       ".xr-attrs dd {\n",
       "  grid-column: 2;\n",
       "  white-space: pre-wrap;\n",
       "  word-break: break-all;\n",
       "}\n",
       "\n",
       ".xr-icon-database,\n",
       ".xr-icon-file-text2,\n",
       ".xr-no-icon {\n",
       "  display: inline-block;\n",
       "  vertical-align: middle;\n",
       "  width: 1em;\n",
       "  height: 1.5em !important;\n",
       "  stroke-width: 0;\n",
       "  stroke: currentColor;\n",
       "  fill: currentColor;\n",
       "}\n",
       "</style><pre class='xr-text-repr-fallback'>&lt;xarray.Dataset&gt; Size: 1MB\n",
       "Dimensions:                  (forecast_reference_time: 4, step: 2,\n",
       "                              latitude: 19, longitude: 36)\n",
       "Coordinates:\n",
       "  * forecast_reference_time  (forecast_reference_time) datetime64[ns] 32B 202...\n",
       "  * step                     (step) timedelta64[ns] 16B 00:00:00 06:00:00\n",
       "  * latitude                 (latitude) float64 152B 90.0 80.0 ... -80.0 -90.0\n",
       "  * longitude                (longitude) float64 288B 0.0 10.0 ... 340.0 350.0\n",
       "Data variables: (12/32)\n",
       "    2t_sfc                   (forecast_reference_time, step, latitude, longitude) float64 44kB ...\n",
       "    msl_sfc                  (forecast_reference_time, step, latitude, longitude) float64 44kB ...\n",
       "    r_1000_pl                (forecast_reference_time, step, latitude, longitude) float64 44kB ...\n",
       "    r_300_pl                 (forecast_reference_time, step, latitude, longitude) float64 44kB ...\n",
       "    r_400_pl                 (forecast_reference_time, step, latitude, longitude) float64 44kB ...\n",
       "    r_500_pl                 (forecast_reference_time, step, latitude, longitude) float64 44kB ...\n",
       "    ...                       ...\n",
       "    z_1000_pl                (forecast_reference_time, step, latitude, longitude) float64 44kB ...\n",
       "    z_300_pl                 (forecast_reference_time, step, latitude, longitude) float64 44kB ...\n",
       "    z_400_pl                 (forecast_reference_time, step, latitude, longitude) float64 44kB ...\n",
       "    z_500_pl                 (forecast_reference_time, step, latitude, longitude) float64 44kB ...\n",
       "    z_700_pl                 (forecast_reference_time, step, latitude, longitude) float64 44kB ...\n",
       "    z_850_pl                 (forecast_reference_time, step, latitude, longitude) float64 44kB ...\n",
       "Attributes:\n",
       "    class:        od\n",
       "    stream:       oper\n",
       "    type:         fc\n",
       "    expver:       0001\n",
       "    domain:       g\n",
       "    number:       0\n",
       "    Conventions:  CF-1.8\n",
       "    institution:  ECMWF</pre><div class='xr-wrap' style='display:none'><div class='xr-header'><div class='xr-obj-type'>xarray.Dataset</div></div><ul class='xr-sections'><li class='xr-section-item'><input id='section-d321fa03-9cf3-4766-974b-607778000c79' class='xr-section-summary-in' type='checkbox' disabled ><label for='section-d321fa03-9cf3-4766-974b-607778000c79' class='xr-section-summary'  title='Expand/collapse section'>Dimensions:</label><div class='xr-section-inline-details'><ul class='xr-dim-list'><li><span class='xr-has-index'>forecast_reference_time</span>: 4</li><li><span class='xr-has-index'>step</span>: 2</li><li><span class='xr-has-index'>latitude</span>: 19</li><li><span class='xr-has-index'>longitude</span>: 36</li></ul></div><div class='xr-section-details'></div></li><li class='xr-section-item'><input id='section-a666251c-90de-4d81-a8b8-ec0cdf623b8d' class='xr-section-summary-in' type='checkbox'  checked><label for='section-a666251c-90de-4d81-a8b8-ec0cdf623b8d' class='xr-section-summary' >Coordinates: <span>(4)</span></label><div class='xr-section-inline-details'></div><div class='xr-section-details'><ul class='xr-var-list'><li class='xr-var-item'><div class='xr-var-name'><span class='xr-has-index'>forecast_reference_time</span></div><div class='xr-var-dims'>(forecast_reference_time)</div><div class='xr-var-dtype'>datetime64[ns]</div><div class='xr-var-preview xr-preview'>2024-06-03 ... 2024-06-04T12:00:00</div><input id='attrs-afe309c0-ca24-41fd-b43d-119d92281baf' class='xr-var-attrs-in' type='checkbox' ><label for='attrs-afe309c0-ca24-41fd-b43d-119d92281baf' title='Show/Hide attributes'><svg class='icon xr-icon-file-text2'><use xlink:href='#icon-file-text2'></use></svg></label><input id='data-5a0723ba-0db2-4d26-945f-1958de8b250b' class='xr-var-data-in' type='checkbox'><label for='data-5a0723ba-0db2-4d26-945f-1958de8b250b' title='Show/Hide data repr'><svg class='icon xr-icon-database'><use xlink:href='#icon-database'></use></svg></label><div class='xr-var-attrs'><dl class='xr-attrs'><dt><span>standard_name :</span></dt><dd>forecast_reference_time</dd><dt><span>long_name :</span></dt><dd>initial time of forecast</dd></dl></div><div class='xr-var-data'><pre>array([&#x27;2024-06-03T00:00:00.000000000&#x27;, &#x27;2024-06-03T12:00:00.000000000&#x27;,\n",
       "       &#x27;2024-06-04T00:00:00.000000000&#x27;, &#x27;2024-06-04T12:00:00.000000000&#x27;],\n",
       "      dtype=&#x27;datetime64[ns]&#x27;)</pre></div></li><li class='xr-var-item'><div class='xr-var-name'><span class='xr-has-index'>step</span></div><div class='xr-var-dims'>(step)</div><div class='xr-var-dtype'>timedelta64[ns]</div><div class='xr-var-preview xr-preview'>00:00:00 06:00:00</div><input id='attrs-25382d7d-9f21-4f7a-81a3-21c1031767fc' class='xr-var-attrs-in' type='checkbox' ><label for='attrs-25382d7d-9f21-4f7a-81a3-21c1031767fc' title='Show/Hide attributes'><svg class='icon xr-icon-file-text2'><use xlink:href='#icon-file-text2'></use></svg></label><input id='data-8228f093-8a72-4268-93fc-3f9e7000402c' class='xr-var-data-in' type='checkbox'><label for='data-8228f093-8a72-4268-93fc-3f9e7000402c' title='Show/Hide data repr'><svg class='icon xr-icon-database'><use xlink:href='#icon-database'></use></svg></label><div class='xr-var-attrs'><dl class='xr-attrs'><dt><span>standard_name :</span></dt><dd>forecast_period</dd><dt><span>long_name :</span></dt><dd>time since forecast_reference_time</dd></dl></div><div class='xr-var-data'><pre>array([             0, 21600000000000], dtype=&#x27;timedelta64[ns]&#x27;)</pre></div></li><li class='xr-var-item'><div class='xr-var-name'><span class='xr-has-index'>latitude</span></div><div class='xr-var-dims'>(latitude)</div><div class='xr-var-dtype'>float64</div><div class='xr-var-preview xr-preview'>90.0 80.0 70.0 ... -80.0 -90.0</div><input id='attrs-3fca6155-8058-4ae8-a6a5-a634df7ab095' class='xr-var-attrs-in' type='checkbox' ><label for='attrs-3fca6155-8058-4ae8-a6a5-a634df7ab095' title='Show/Hide attributes'><svg class='icon xr-icon-file-text2'><use xlink:href='#icon-file-text2'></use></svg></label><input id='data-150ceff0-c590-444b-99cd-406e15e24c77' class='xr-var-data-in' type='checkbox'><label for='data-150ceff0-c590-444b-99cd-406e15e24c77' title='Show/Hide data repr'><svg class='icon xr-icon-database'><use xlink:href='#icon-database'></use></svg></label><div class='xr-var-attrs'><dl class='xr-attrs'><dt><span>units :</span></dt><dd>degrees_north</dd><dt><span>standard_name :</span></dt><dd>latitude</dd><dt><span>long_name :</span></dt><dd>latitude</dd></dl></div><div class='xr-var-data'><pre>array([ 90.,  80.,  70.,  60.,  50.,  40.,  30.,  20.,  10.,   0., -10., -20.,\n",
       "       -30., -40., -50., -60., -70., -80., -90.])</pre></div></li><li class='xr-var-item'><div class='xr-var-name'><span class='xr-has-index'>longitude</span></div><div class='xr-var-dims'>(longitude)</div><div class='xr-var-dtype'>float64</div><div class='xr-var-preview xr-preview'>0.0 10.0 20.0 ... 330.0 340.0 350.0</div><input id='attrs-674d3fd0-1c88-43a0-8e24-da51a542b987' class='xr-var-attrs-in' type='checkbox' ><label for='attrs-674d3fd0-1c88-43a0-8e24-da51a542b987' title='Show/Hide attributes'><svg class='icon xr-icon-file-text2'><use xlink:href='#icon-file-text2'></use></svg></label><input id='data-e199d8c9-f8ba-4a18-adbc-f710d8b3f6d6' class='xr-var-data-in' type='checkbox'><label for='data-e199d8c9-f8ba-4a18-adbc-f710d8b3f6d6' title='Show/Hide data repr'><svg class='icon xr-icon-database'><use xlink:href='#icon-database'></use></svg></label><div class='xr-var-attrs'><dl class='xr-attrs'><dt><span>units :</span></dt><dd>degrees_east</dd><dt><span>standard_name :</span></dt><dd>longitude</dd><dt><span>long_name :</span></dt><dd>longitude</dd></dl></div><div class='xr-var-data'><pre>array([  0.,  10.,  20.,  30.,  40.,  50.,  60.,  70.,  80.,  90., 100., 110.,\n",
       "       120., 130., 140., 150., 160., 170., 180., 190., 200., 210., 220., 230.,\n",
       "       240., 250., 260., 270., 280., 290., 300., 310., 320., 330., 340., 350.])</pre></div></li></ul></div></li><li class='xr-section-item'><input id='section-cc9cb3ef-1072-4527-b101-12e539920f95' class='xr-section-summary-in' type='checkbox'  ><label for='section-cc9cb3ef-1072-4527-b101-12e539920f95' class='xr-section-summary' >Data variables: <span>(32)</span></label><div class='xr-section-inline-details'></div><div class='xr-section-details'><ul class='xr-var-list'><li class='xr-var-item'><div class='xr-var-name'><span>2t_sfc</span></div><div class='xr-var-dims'>(forecast_reference_time, step, latitude, longitude)</div><div class='xr-var-dtype'>float64</div><div class='xr-var-preview xr-preview'>...</div><input id='attrs-2335d13f-57fd-4f70-aa38-9c70fcc17b43' class='xr-var-attrs-in' type='checkbox' ><label for='attrs-2335d13f-57fd-4f70-aa38-9c70fcc17b43' title='Show/Hide attributes'><svg class='icon xr-icon-file-text2'><use xlink:href='#icon-file-text2'></use></svg></label><input id='data-281299c5-129e-45f1-88c5-9a3d45a27096' class='xr-var-data-in' type='checkbox'><label for='data-281299c5-129e-45f1-88c5-9a3d45a27096' title='Show/Hide data repr'><svg class='icon xr-icon-database'><use xlink:href='#icon-database'></use></svg></label><div class='xr-var-attrs'><dl class='xr-attrs'><dt><span>param :</span></dt><dd>2t</dd><dt><span>standard_name :</span></dt><dd>unknown</dd><dt><span>long_name :</span></dt><dd>2 metre temperature</dd><dt><span>paramId :</span></dt><dd>167</dd><dt><span>units :</span></dt><dd>K</dd><dt><span>levtype :</span></dt><dd>sfc</dd></dl></div><div class='xr-var-data'><pre>[5472 values with dtype=float64]</pre></div></li><li class='xr-var-item'><div class='xr-var-name'><span>msl_sfc</span></div><div class='xr-var-dims'>(forecast_reference_time, step, latitude, longitude)</div><div class='xr-var-dtype'>float64</div><div class='xr-var-preview xr-preview'>...</div><input id='attrs-0909bac6-bd3a-4e91-a13f-18f6fc8f135d' class='xr-var-attrs-in' type='checkbox' ><label for='attrs-0909bac6-bd3a-4e91-a13f-18f6fc8f135d' title='Show/Hide attributes'><svg class='icon xr-icon-file-text2'><use xlink:href='#icon-file-text2'></use></svg></label><input id='data-2db165fd-6a71-41b3-99e5-8dfb559ce3ff' class='xr-var-data-in' type='checkbox'><label for='data-2db165fd-6a71-41b3-99e5-8dfb559ce3ff' title='Show/Hide data repr'><svg class='icon xr-icon-database'><use xlink:href='#icon-database'></use></svg></label><div class='xr-var-attrs'><dl class='xr-attrs'><dt><span>param :</span></dt><dd>msl</dd><dt><span>standard_name :</span></dt><dd>air_pressure_at_mean_sea_level</dd><dt><span>long_name :</span></dt><dd>Mean sea level pressure</dd><dt><span>paramId :</span></dt><dd>151</dd><dt><span>units :</span></dt><dd>Pa</dd><dt><span>levtype :</span></dt><dd>sfc</dd></dl></div><div class='xr-var-data'><pre>[5472 values with dtype=float64]</pre></div></li><li class='xr-var-item'><div class='xr-var-name'><span>r_1000_pl</span></div><div class='xr-var-dims'>(forecast_reference_time, step, latitude, longitude)</div><div class='xr-var-dtype'>float64</div><div class='xr-var-preview xr-preview'>...</div><input id='attrs-3c19a222-997d-4f13-93ad-196a7dfbef12' class='xr-var-attrs-in' type='checkbox' ><label for='attrs-3c19a222-997d-4f13-93ad-196a7dfbef12' title='Show/Hide attributes'><svg class='icon xr-icon-file-text2'><use xlink:href='#icon-file-text2'></use></svg></label><input id='data-15ee141a-8df9-4f9b-8bf9-2a51af538870' class='xr-var-data-in' type='checkbox'><label for='data-15ee141a-8df9-4f9b-8bf9-2a51af538870' title='Show/Hide data repr'><svg class='icon xr-icon-database'><use xlink:href='#icon-database'></use></svg></label><div class='xr-var-attrs'><dl class='xr-attrs'><dt><span>param :</span></dt><dd>r</dd><dt><span>standard_name :</span></dt><dd>relative_humidity</dd><dt><span>long_name :</span></dt><dd>Relative humidity</dd><dt><span>paramId :</span></dt><dd>157</dd><dt><span>units :</span></dt><dd>%</dd><dt><span>levtype :</span></dt><dd>pl</dd><dt><span>levelist :</span></dt><dd>1000</dd></dl></div><div class='xr-var-data'><pre>[5472 values with dtype=float64]</pre></div></li><li class='xr-var-item'><div class='xr-var-name'><span>r_300_pl</span></div><div class='xr-var-dims'>(forecast_reference_time, step, latitude, longitude)</div><div class='xr-var-dtype'>float64</div><div class='xr-var-preview xr-preview'>...</div><input id='attrs-95b88576-834d-43e3-81f2-06ec19ecb6dc' class='xr-var-attrs-in' type='checkbox' ><label for='attrs-95b88576-834d-43e3-81f2-06ec19ecb6dc' title='Show/Hide attributes'><svg class='icon xr-icon-file-text2'><use xlink:href='#icon-file-text2'></use></svg></label><input id='data-3b212085-f81e-4303-85e6-1fcc12fd3702' class='xr-var-data-in' type='checkbox'><label for='data-3b212085-f81e-4303-85e6-1fcc12fd3702' title='Show/Hide data repr'><svg class='icon xr-icon-database'><use xlink:href='#icon-database'></use></svg></label><div class='xr-var-attrs'><dl class='xr-attrs'><dt><span>param :</span></dt><dd>r</dd><dt><span>standard_name :</span></dt><dd>relative_humidity</dd><dt><span>long_name :</span></dt><dd>Relative humidity</dd><dt><span>paramId :</span></dt><dd>157</dd><dt><span>units :</span></dt><dd>%</dd><dt><span>levtype :</span></dt><dd>pl</dd><dt><span>levelist :</span></dt><dd>300</dd></dl></div><div class='xr-var-data'><pre>[5472 values with dtype=float64]</pre></div></li><li class='xr-var-item'><div class='xr-var-name'><span>r_400_pl</span></div><div class='xr-var-dims'>(forecast_reference_time, step, latitude, longitude)</div><div class='xr-var-dtype'>float64</div><div class='xr-var-preview xr-preview'>...</div><input id='attrs-bf162e8c-ce57-48e9-803e-d0e32b2f897b' class='xr-var-attrs-in' type='checkbox' ><label for='attrs-bf162e8c-ce57-48e9-803e-d0e32b2f897b' title='Show/Hide attributes'><svg class='icon xr-icon-file-text2'><use xlink:href='#icon-file-text2'></use></svg></label><input id='data-94f6f624-a3be-4886-b2f2-819fce30ad15' class='xr-var-data-in' type='checkbox'><label for='data-94f6f624-a3be-4886-b2f2-819fce30ad15' title='Show/Hide data repr'><svg class='icon xr-icon-database'><use xlink:href='#icon-database'></use></svg></label><div class='xr-var-attrs'><dl class='xr-attrs'><dt><span>param :</span></dt><dd>r</dd><dt><span>standard_name :</span></dt><dd>relative_humidity</dd><dt><span>long_name :</span></dt><dd>Relative humidity</dd><dt><span>paramId :</span></dt><dd>157</dd><dt><span>units :</span></dt><dd>%</dd><dt><span>levtype :</span></dt><dd>pl</dd><dt><span>levelist :</span></dt><dd>400</dd></dl></div><div class='xr-var-data'><pre>[5472 values with dtype=float64]</pre></div></li><li class='xr-var-item'><div class='xr-var-name'><span>r_500_pl</span></div><div class='xr-var-dims'>(forecast_reference_time, step, latitude, longitude)</div><div class='xr-var-dtype'>float64</div><div class='xr-var-preview xr-preview'>...</div><input id='attrs-1b282ffb-5605-4863-9488-48bfcce8cdc9' class='xr-var-attrs-in' type='checkbox' ><label for='attrs-1b282ffb-5605-4863-9488-48bfcce8cdc9' title='Show/Hide attributes'><svg class='icon xr-icon-file-text2'><use xlink:href='#icon-file-text2'></use></svg></label><input id='data-73fe621b-1752-4626-9395-906ed8384617' class='xr-var-data-in' type='checkbox'><label for='data-73fe621b-1752-4626-9395-906ed8384617' title='Show/Hide data repr'><svg class='icon xr-icon-database'><use xlink:href='#icon-database'></use></svg></label><div class='xr-var-attrs'><dl class='xr-attrs'><dt><span>param :</span></dt><dd>r</dd><dt><span>standard_name :</span></dt><dd>relative_humidity</dd><dt><span>long_name :</span></dt><dd>Relative humidity</dd><dt><span>paramId :</span></dt><dd>157</dd><dt><span>units :</span></dt><dd>%</dd><dt><span>levtype :</span></dt><dd>pl</dd><dt><span>levelist :</span></dt><dd>500</dd></dl></div><div class='xr-var-data'><pre>[5472 values with dtype=float64]</pre></div></li><li class='xr-var-item'><div class='xr-var-name'><span>r_700_pl</span></div><div class='xr-var-dims'>(forecast_reference_time, step, latitude, longitude)</div><div class='xr-var-dtype'>float64</div><div class='xr-var-preview xr-preview'>...</div><input id='attrs-143eb4bf-b1b1-4ea9-b23f-86ffba84264c' class='xr-var-attrs-in' type='checkbox' ><label for='attrs-143eb4bf-b1b1-4ea9-b23f-86ffba84264c' title='Show/Hide attributes'><svg class='icon xr-icon-file-text2'><use xlink:href='#icon-file-text2'></use></svg></label><input id='data-afd95382-9f52-4fa5-a6f9-7bec8fa1ad56' class='xr-var-data-in' type='checkbox'><label for='data-afd95382-9f52-4fa5-a6f9-7bec8fa1ad56' title='Show/Hide data repr'><svg class='icon xr-icon-database'><use xlink:href='#icon-database'></use></svg></label><div class='xr-var-attrs'><dl class='xr-attrs'><dt><span>param :</span></dt><dd>r</dd><dt><span>standard_name :</span></dt><dd>relative_humidity</dd><dt><span>long_name :</span></dt><dd>Relative humidity</dd><dt><span>paramId :</span></dt><dd>157</dd><dt><span>units :</span></dt><dd>%</dd><dt><span>levtype :</span></dt><dd>pl</dd><dt><span>levelist :</span></dt><dd>700</dd></dl></div><div class='xr-var-data'><pre>[5472 values with dtype=float64]</pre></div></li><li class='xr-var-item'><div class='xr-var-name'><span>r_850_pl</span></div><div class='xr-var-dims'>(forecast_reference_time, step, latitude, longitude)</div><div class='xr-var-dtype'>float64</div><div class='xr-var-preview xr-preview'>...</div><input id='attrs-65f7891d-9e90-403c-a396-a7963aa6119e' class='xr-var-attrs-in' type='checkbox' ><label for='attrs-65f7891d-9e90-403c-a396-a7963aa6119e' title='Show/Hide attributes'><svg class='icon xr-icon-file-text2'><use xlink:href='#icon-file-text2'></use></svg></label><input id='data-28a7527c-bfba-4e5b-bcb5-f6c78a06c1a1' class='xr-var-data-in' type='checkbox'><label for='data-28a7527c-bfba-4e5b-bcb5-f6c78a06c1a1' title='Show/Hide data repr'><svg class='icon xr-icon-database'><use xlink:href='#icon-database'></use></svg></label><div class='xr-var-attrs'><dl class='xr-attrs'><dt><span>param :</span></dt><dd>r</dd><dt><span>standard_name :</span></dt><dd>relative_humidity</dd><dt><span>long_name :</span></dt><dd>Relative humidity</dd><dt><span>paramId :</span></dt><dd>157</dd><dt><span>units :</span></dt><dd>%</dd><dt><span>levtype :</span></dt><dd>pl</dd><dt><span>levelist :</span></dt><dd>850</dd></dl></div><div class='xr-var-data'><pre>[5472 values with dtype=float64]</pre></div></li><li class='xr-var-item'><div class='xr-var-name'><span>t_1000_pl</span></div><div class='xr-var-dims'>(forecast_reference_time, step, latitude, longitude)</div><div class='xr-var-dtype'>float64</div><div class='xr-var-preview xr-preview'>...</div><input id='attrs-9aaa3f1c-9361-43e5-a70b-0c8c04d515c2' class='xr-var-attrs-in' type='checkbox' ><label for='attrs-9aaa3f1c-9361-43e5-a70b-0c8c04d515c2' title='Show/Hide attributes'><svg class='icon xr-icon-file-text2'><use xlink:href='#icon-file-text2'></use></svg></label><input id='data-d478dfb3-5bf9-468d-bc17-8070dc675946' class='xr-var-data-in' type='checkbox'><label for='data-d478dfb3-5bf9-468d-bc17-8070dc675946' title='Show/Hide data repr'><svg class='icon xr-icon-database'><use xlink:href='#icon-database'></use></svg></label><div class='xr-var-attrs'><dl class='xr-attrs'><dt><span>param :</span></dt><dd>t</dd><dt><span>standard_name :</span></dt><dd>air_temperature</dd><dt><span>long_name :</span></dt><dd>Temperature</dd><dt><span>paramId :</span></dt><dd>130</dd><dt><span>units :</span></dt><dd>K</dd><dt><span>levtype :</span></dt><dd>pl</dd><dt><span>levelist :</span></dt><dd>1000</dd></dl></div><div class='xr-var-data'><pre>[5472 values with dtype=float64]</pre></div></li><li class='xr-var-item'><div class='xr-var-name'><span>t_300_pl</span></div><div class='xr-var-dims'>(forecast_reference_time, step, latitude, longitude)</div><div class='xr-var-dtype'>float64</div><div class='xr-var-preview xr-preview'>...</div><input id='attrs-917975a8-d7f1-487b-9cab-d597f4f669ca' class='xr-var-attrs-in' type='checkbox' ><label for='attrs-917975a8-d7f1-487b-9cab-d597f4f669ca' title='Show/Hide attributes'><svg class='icon xr-icon-file-text2'><use xlink:href='#icon-file-text2'></use></svg></label><input id='data-e2cb01b9-e783-4fc9-9d65-6aee0d5aa9f4' class='xr-var-data-in' type='checkbox'><label for='data-e2cb01b9-e783-4fc9-9d65-6aee0d5aa9f4' title='Show/Hide data repr'><svg class='icon xr-icon-database'><use xlink:href='#icon-database'></use></svg></label><div class='xr-var-attrs'><dl class='xr-attrs'><dt><span>param :</span></dt><dd>t</dd><dt><span>standard_name :</span></dt><dd>air_temperature</dd><dt><span>long_name :</span></dt><dd>Temperature</dd><dt><span>paramId :</span></dt><dd>130</dd><dt><span>units :</span></dt><dd>K</dd><dt><span>levtype :</span></dt><dd>pl</dd><dt><span>levelist :</span></dt><dd>300</dd></dl></div><div class='xr-var-data'><pre>[5472 values with dtype=float64]</pre></div></li><li class='xr-var-item'><div class='xr-var-name'><span>t_400_pl</span></div><div class='xr-var-dims'>(forecast_reference_time, step, latitude, longitude)</div><div class='xr-var-dtype'>float64</div><div class='xr-var-preview xr-preview'>...</div><input id='attrs-0c7aaf7c-7364-4cc2-992d-b4b1b150dec4' class='xr-var-attrs-in' type='checkbox' ><label for='attrs-0c7aaf7c-7364-4cc2-992d-b4b1b150dec4' title='Show/Hide attributes'><svg class='icon xr-icon-file-text2'><use xlink:href='#icon-file-text2'></use></svg></label><input id='data-b06096bb-3e5a-40c4-87ea-da4780fb26de' class='xr-var-data-in' type='checkbox'><label for='data-b06096bb-3e5a-40c4-87ea-da4780fb26de' title='Show/Hide data repr'><svg class='icon xr-icon-database'><use xlink:href='#icon-database'></use></svg></label><div class='xr-var-attrs'><dl class='xr-attrs'><dt><span>param :</span></dt><dd>t</dd><dt><span>standard_name :</span></dt><dd>air_temperature</dd><dt><span>long_name :</span></dt><dd>Temperature</dd><dt><span>paramId :</span></dt><dd>130</dd><dt><span>units :</span></dt><dd>K</dd><dt><span>levtype :</span></dt><dd>pl</dd><dt><span>levelist :</span></dt><dd>400</dd></dl></div><div class='xr-var-data'><pre>[5472 values with dtype=float64]</pre></div></li><li class='xr-var-item'><div class='xr-var-name'><span>t_500_pl</span></div><div class='xr-var-dims'>(forecast_reference_time, step, latitude, longitude)</div><div class='xr-var-dtype'>float64</div><div class='xr-var-preview xr-preview'>...</div><input id='attrs-d19af903-85d9-413c-a77e-ba44b7ed264c' class='xr-var-attrs-in' type='checkbox' ><label for='attrs-d19af903-85d9-413c-a77e-ba44b7ed264c' title='Show/Hide attributes'><svg class='icon xr-icon-file-text2'><use xlink:href='#icon-file-text2'></use></svg></label><input id='data-4080c26f-3f2d-4cfb-b89f-dc398c5ea24b' class='xr-var-data-in' type='checkbox'><label for='data-4080c26f-3f2d-4cfb-b89f-dc398c5ea24b' title='Show/Hide data repr'><svg class='icon xr-icon-database'><use xlink:href='#icon-database'></use></svg></label><div class='xr-var-attrs'><dl class='xr-attrs'><dt><span>param :</span></dt><dd>t</dd><dt><span>standard_name :</span></dt><dd>air_temperature</dd><dt><span>long_name :</span></dt><dd>Temperature</dd><dt><span>paramId :</span></dt><dd>130</dd><dt><span>units :</span></dt><dd>K</dd><dt><span>levtype :</span></dt><dd>pl</dd><dt><span>levelist :</span></dt><dd>500</dd></dl></div><div class='xr-var-data'><pre>[5472 values with dtype=float64]</pre></div></li><li class='xr-var-item'><div class='xr-var-name'><span>t_700_pl</span></div><div class='xr-var-dims'>(forecast_reference_time, step, latitude, longitude)</div><div class='xr-var-dtype'>float64</div><div class='xr-var-preview xr-preview'>...</div><input id='attrs-843d3030-0e4c-4c80-9a36-dee730a6058f' class='xr-var-attrs-in' type='checkbox' ><label for='attrs-843d3030-0e4c-4c80-9a36-dee730a6058f' title='Show/Hide attributes'><svg class='icon xr-icon-file-text2'><use xlink:href='#icon-file-text2'></use></svg></label><input id='data-379130be-3be6-4fcc-9565-0202ad14aefd' class='xr-var-data-in' type='checkbox'><label for='data-379130be-3be6-4fcc-9565-0202ad14aefd' title='Show/Hide data repr'><svg class='icon xr-icon-database'><use xlink:href='#icon-database'></use></svg></label><div class='xr-var-attrs'><dl class='xr-attrs'><dt><span>param :</span></dt><dd>t</dd><dt><span>standard_name :</span></dt><dd>air_temperature</dd><dt><span>long_name :</span></dt><dd>Temperature</dd><dt><span>paramId :</span></dt><dd>130</dd><dt><span>units :</span></dt><dd>K</dd><dt><span>levtype :</span></dt><dd>pl</dd><dt><span>levelist :</span></dt><dd>700</dd></dl></div><div class='xr-var-data'><pre>[5472 values with dtype=float64]</pre></div></li><li class='xr-var-item'><div class='xr-var-name'><span>t_850_pl</span></div><div class='xr-var-dims'>(forecast_reference_time, step, latitude, longitude)</div><div class='xr-var-dtype'>float64</div><div class='xr-var-preview xr-preview'>...</div><input id='attrs-05685a08-b2c0-4843-948c-0f2c60778b8c' class='xr-var-attrs-in' type='checkbox' ><label for='attrs-05685a08-b2c0-4843-948c-0f2c60778b8c' title='Show/Hide attributes'><svg class='icon xr-icon-file-text2'><use xlink:href='#icon-file-text2'></use></svg></label><input id='data-5a6ae69e-8f28-4de8-9dee-2d2ace384cc1' class='xr-var-data-in' type='checkbox'><label for='data-5a6ae69e-8f28-4de8-9dee-2d2ace384cc1' title='Show/Hide data repr'><svg class='icon xr-icon-database'><use xlink:href='#icon-database'></use></svg></label><div class='xr-var-attrs'><dl class='xr-attrs'><dt><span>param :</span></dt><dd>t</dd><dt><span>standard_name :</span></dt><dd>air_temperature</dd><dt><span>long_name :</span></dt><dd>Temperature</dd><dt><span>paramId :</span></dt><dd>130</dd><dt><span>units :</span></dt><dd>K</dd><dt><span>levtype :</span></dt><dd>pl</dd><dt><span>levelist :</span></dt><dd>850</dd></dl></div><div class='xr-var-data'><pre>[5472 values with dtype=float64]</pre></div></li><li class='xr-var-item'><div class='xr-var-name'><span>u_1000_pl</span></div><div class='xr-var-dims'>(forecast_reference_time, step, latitude, longitude)</div><div class='xr-var-dtype'>float64</div><div class='xr-var-preview xr-preview'>...</div><input id='attrs-c222d23a-c0ad-49d8-b914-10f721cf80f4' class='xr-var-attrs-in' type='checkbox' ><label for='attrs-c222d23a-c0ad-49d8-b914-10f721cf80f4' title='Show/Hide attributes'><svg class='icon xr-icon-file-text2'><use xlink:href='#icon-file-text2'></use></svg></label><input id='data-bc123a54-6524-4c77-a2eb-95536012bfe0' class='xr-var-data-in' type='checkbox'><label for='data-bc123a54-6524-4c77-a2eb-95536012bfe0' title='Show/Hide data repr'><svg class='icon xr-icon-database'><use xlink:href='#icon-database'></use></svg></label><div class='xr-var-attrs'><dl class='xr-attrs'><dt><span>param :</span></dt><dd>u</dd><dt><span>standard_name :</span></dt><dd>eastward_wind</dd><dt><span>long_name :</span></dt><dd>U component of wind</dd><dt><span>paramId :</span></dt><dd>131</dd><dt><span>units :</span></dt><dd>m s**-1</dd><dt><span>levtype :</span></dt><dd>pl</dd><dt><span>levelist :</span></dt><dd>1000</dd></dl></div><div class='xr-var-data'><pre>[5472 values with dtype=float64]</pre></div></li><li class='xr-var-item'><div class='xr-var-name'><span>u_300_pl</span></div><div class='xr-var-dims'>(forecast_reference_time, step, latitude, longitude)</div><div class='xr-var-dtype'>float64</div><div class='xr-var-preview xr-preview'>...</div><input id='attrs-fff8d5ec-6291-4c88-af4b-a1f1067cf89c' class='xr-var-attrs-in' type='checkbox' ><label for='attrs-fff8d5ec-6291-4c88-af4b-a1f1067cf89c' title='Show/Hide attributes'><svg class='icon xr-icon-file-text2'><use xlink:href='#icon-file-text2'></use></svg></label><input id='data-275f72db-e01f-4571-a4c9-100347533ad3' class='xr-var-data-in' type='checkbox'><label for='data-275f72db-e01f-4571-a4c9-100347533ad3' title='Show/Hide data repr'><svg class='icon xr-icon-database'><use xlink:href='#icon-database'></use></svg></label><div class='xr-var-attrs'><dl class='xr-attrs'><dt><span>param :</span></dt><dd>u</dd><dt><span>standard_name :</span></dt><dd>eastward_wind</dd><dt><span>long_name :</span></dt><dd>U component of wind</dd><dt><span>paramId :</span></dt><dd>131</dd><dt><span>units :</span></dt><dd>m s**-1</dd><dt><span>levtype :</span></dt><dd>pl</dd><dt><span>levelist :</span></dt><dd>300</dd></dl></div><div class='xr-var-data'><pre>[5472 values with dtype=float64]</pre></div></li><li class='xr-var-item'><div class='xr-var-name'><span>u_400_pl</span></div><div class='xr-var-dims'>(forecast_reference_time, step, latitude, longitude)</div><div class='xr-var-dtype'>float64</div><div class='xr-var-preview xr-preview'>...</div><input id='attrs-86cf30e8-f021-497b-93bd-a40dbe713d6f' class='xr-var-attrs-in' type='checkbox' ><label for='attrs-86cf30e8-f021-497b-93bd-a40dbe713d6f' title='Show/Hide attributes'><svg class='icon xr-icon-file-text2'><use xlink:href='#icon-file-text2'></use></svg></label><input id='data-fb129918-8c4a-4b87-b86c-2bc60c0bfa78' class='xr-var-data-in' type='checkbox'><label for='data-fb129918-8c4a-4b87-b86c-2bc60c0bfa78' title='Show/Hide data repr'><svg class='icon xr-icon-database'><use xlink:href='#icon-database'></use></svg></label><div class='xr-var-attrs'><dl class='xr-attrs'><dt><span>param :</span></dt><dd>u</dd><dt><span>standard_name :</span></dt><dd>eastward_wind</dd><dt><span>long_name :</span></dt><dd>U component of wind</dd><dt><span>paramId :</span></dt><dd>131</dd><dt><span>units :</span></dt><dd>m s**-1</dd><dt><span>levtype :</span></dt><dd>pl</dd><dt><span>levelist :</span></dt><dd>400</dd></dl></div><div class='xr-var-data'><pre>[5472 values with dtype=float64]</pre></div></li><li class='xr-var-item'><div class='xr-var-name'><span>u_500_pl</span></div><div class='xr-var-dims'>(forecast_reference_time, step, latitude, longitude)</div><div class='xr-var-dtype'>float64</div><div class='xr-var-preview xr-preview'>...</div><input id='attrs-baf3fe66-23e4-43f0-9d3a-5fb364327a50' class='xr-var-attrs-in' type='checkbox' ><label for='attrs-baf3fe66-23e4-43f0-9d3a-5fb364327a50' title='Show/Hide attributes'><svg class='icon xr-icon-file-text2'><use xlink:href='#icon-file-text2'></use></svg></label><input id='data-cf41e3cc-8ad9-4d07-a6b9-f840bb090c1f' class='xr-var-data-in' type='checkbox'><label for='data-cf41e3cc-8ad9-4d07-a6b9-f840bb090c1f' title='Show/Hide data repr'><svg class='icon xr-icon-database'><use xlink:href='#icon-database'></use></svg></label><div class='xr-var-attrs'><dl class='xr-attrs'><dt><span>param :</span></dt><dd>u</dd><dt><span>standard_name :</span></dt><dd>eastward_wind</dd><dt><span>long_name :</span></dt><dd>U component of wind</dd><dt><span>paramId :</span></dt><dd>131</dd><dt><span>units :</span></dt><dd>m s**-1</dd><dt><span>levtype :</span></dt><dd>pl</dd><dt><span>levelist :</span></dt><dd>500</dd></dl></div><div class='xr-var-data'><pre>[5472 values with dtype=float64]</pre></div></li><li class='xr-var-item'><div class='xr-var-name'><span>u_700_pl</span></div><div class='xr-var-dims'>(forecast_reference_time, step, latitude, longitude)</div><div class='xr-var-dtype'>float64</div><div class='xr-var-preview xr-preview'>...</div><input id='attrs-c47c3e61-03ff-4f82-9405-83c66abf4323' class='xr-var-attrs-in' type='checkbox' ><label for='attrs-c47c3e61-03ff-4f82-9405-83c66abf4323' title='Show/Hide attributes'><svg class='icon xr-icon-file-text2'><use xlink:href='#icon-file-text2'></use></svg></label><input id='data-4fe86f0e-f001-429a-9200-9b361802dc6a' class='xr-var-data-in' type='checkbox'><label for='data-4fe86f0e-f001-429a-9200-9b361802dc6a' title='Show/Hide data repr'><svg class='icon xr-icon-database'><use xlink:href='#icon-database'></use></svg></label><div class='xr-var-attrs'><dl class='xr-attrs'><dt><span>param :</span></dt><dd>u</dd><dt><span>standard_name :</span></dt><dd>eastward_wind</dd><dt><span>long_name :</span></dt><dd>U component of wind</dd><dt><span>paramId :</span></dt><dd>131</dd><dt><span>units :</span></dt><dd>m s**-1</dd><dt><span>levtype :</span></dt><dd>pl</dd><dt><span>levelist :</span></dt><dd>700</dd></dl></div><div class='xr-var-data'><pre>[5472 values with dtype=float64]</pre></div></li><li class='xr-var-item'><div class='xr-var-name'><span>u_850_pl</span></div><div class='xr-var-dims'>(forecast_reference_time, step, latitude, longitude)</div><div class='xr-var-dtype'>float64</div><div class='xr-var-preview xr-preview'>...</div><input id='attrs-5521f0e4-789b-45fe-85d2-71dbf62c30d5' class='xr-var-attrs-in' type='checkbox' ><label for='attrs-5521f0e4-789b-45fe-85d2-71dbf62c30d5' title='Show/Hide attributes'><svg class='icon xr-icon-file-text2'><use xlink:href='#icon-file-text2'></use></svg></label><input id='data-9e0fb628-b598-48ba-91b9-7bb05a831d7e' class='xr-var-data-in' type='checkbox'><label for='data-9e0fb628-b598-48ba-91b9-7bb05a831d7e' title='Show/Hide data repr'><svg class='icon xr-icon-database'><use xlink:href='#icon-database'></use></svg></label><div class='xr-var-attrs'><dl class='xr-attrs'><dt><span>param :</span></dt><dd>u</dd><dt><span>standard_name :</span></dt><dd>eastward_wind</dd><dt><span>long_name :</span></dt><dd>U component of wind</dd><dt><span>paramId :</span></dt><dd>131</dd><dt><span>units :</span></dt><dd>m s**-1</dd><dt><span>levtype :</span></dt><dd>pl</dd><dt><span>levelist :</span></dt><dd>850</dd></dl></div><div class='xr-var-data'><pre>[5472 values with dtype=float64]</pre></div></li><li class='xr-var-item'><div class='xr-var-name'><span>v_1000_pl</span></div><div class='xr-var-dims'>(forecast_reference_time, step, latitude, longitude)</div><div class='xr-var-dtype'>float64</div><div class='xr-var-preview xr-preview'>...</div><input id='attrs-facab139-81c1-4789-afd4-5054a7659766' class='xr-var-attrs-in' type='checkbox' ><label for='attrs-facab139-81c1-4789-afd4-5054a7659766' title='Show/Hide attributes'><svg class='icon xr-icon-file-text2'><use xlink:href='#icon-file-text2'></use></svg></label><input id='data-11f8e98a-5fde-4545-b1cd-70a2c5c3c5a1' class='xr-var-data-in' type='checkbox'><label for='data-11f8e98a-5fde-4545-b1cd-70a2c5c3c5a1' title='Show/Hide data repr'><svg class='icon xr-icon-database'><use xlink:href='#icon-database'></use></svg></label><div class='xr-var-attrs'><dl class='xr-attrs'><dt><span>param :</span></dt><dd>v</dd><dt><span>standard_name :</span></dt><dd>northward_wind</dd><dt><span>long_name :</span></dt><dd>V component of wind</dd><dt><span>paramId :</span></dt><dd>132</dd><dt><span>units :</span></dt><dd>m s**-1</dd><dt><span>levtype :</span></dt><dd>pl</dd><dt><span>levelist :</span></dt><dd>1000</dd></dl></div><div class='xr-var-data'><pre>[5472 values with dtype=float64]</pre></div></li><li class='xr-var-item'><div class='xr-var-name'><span>v_300_pl</span></div><div class='xr-var-dims'>(forecast_reference_time, step, latitude, longitude)</div><div class='xr-var-dtype'>float64</div><div class='xr-var-preview xr-preview'>...</div><input id='attrs-df87252e-d776-4a88-9904-c0b9fbb051e7' class='xr-var-attrs-in' type='checkbox' ><label for='attrs-df87252e-d776-4a88-9904-c0b9fbb051e7' title='Show/Hide attributes'><svg class='icon xr-icon-file-text2'><use xlink:href='#icon-file-text2'></use></svg></label><input id='data-431275be-ced4-44ec-b325-3360ccd7cd0c' class='xr-var-data-in' type='checkbox'><label for='data-431275be-ced4-44ec-b325-3360ccd7cd0c' title='Show/Hide data repr'><svg class='icon xr-icon-database'><use xlink:href='#icon-database'></use></svg></label><div class='xr-var-attrs'><dl class='xr-attrs'><dt><span>param :</span></dt><dd>v</dd><dt><span>standard_name :</span></dt><dd>northward_wind</dd><dt><span>long_name :</span></dt><dd>V component of wind</dd><dt><span>paramId :</span></dt><dd>132</dd><dt><span>units :</span></dt><dd>m s**-1</dd><dt><span>levtype :</span></dt><dd>pl</dd><dt><span>levelist :</span></dt><dd>300</dd></dl></div><div class='xr-var-data'><pre>[5472 values with dtype=float64]</pre></div></li><li class='xr-var-item'><div class='xr-var-name'><span>v_400_pl</span></div><div class='xr-var-dims'>(forecast_reference_time, step, latitude, longitude)</div><div class='xr-var-dtype'>float64</div><div class='xr-var-preview xr-preview'>...</div><input id='attrs-62d7717c-571d-4929-9a18-6fc85bbad55c' class='xr-var-attrs-in' type='checkbox' ><label for='attrs-62d7717c-571d-4929-9a18-6fc85bbad55c' title='Show/Hide attributes'><svg class='icon xr-icon-file-text2'><use xlink:href='#icon-file-text2'></use></svg></label><input id='data-ddb2d02a-ce96-44ad-adb3-240082045711' class='xr-var-data-in' type='checkbox'><label for='data-ddb2d02a-ce96-44ad-adb3-240082045711' title='Show/Hide data repr'><svg class='icon xr-icon-database'><use xlink:href='#icon-database'></use></svg></label><div class='xr-var-attrs'><dl class='xr-attrs'><dt><span>param :</span></dt><dd>v</dd><dt><span>standard_name :</span></dt><dd>northward_wind</dd><dt><span>long_name :</span></dt><dd>V component of wind</dd><dt><span>paramId :</span></dt><dd>132</dd><dt><span>units :</span></dt><dd>m s**-1</dd><dt><span>levtype :</span></dt><dd>pl</dd><dt><span>levelist :</span></dt><dd>400</dd></dl></div><div class='xr-var-data'><pre>[5472 values with dtype=float64]</pre></div></li><li class='xr-var-item'><div class='xr-var-name'><span>v_500_pl</span></div><div class='xr-var-dims'>(forecast_reference_time, step, latitude, longitude)</div><div class='xr-var-dtype'>float64</div><div class='xr-var-preview xr-preview'>...</div><input id='attrs-c4544cd5-3e25-48be-be52-b75d32d98ea0' class='xr-var-attrs-in' type='checkbox' ><label for='attrs-c4544cd5-3e25-48be-be52-b75d32d98ea0' title='Show/Hide attributes'><svg class='icon xr-icon-file-text2'><use xlink:href='#icon-file-text2'></use></svg></label><input id='data-86c7e944-9b7b-4c85-ac98-9ff9d8fbd079' class='xr-var-data-in' type='checkbox'><label for='data-86c7e944-9b7b-4c85-ac98-9ff9d8fbd079' title='Show/Hide data repr'><svg class='icon xr-icon-database'><use xlink:href='#icon-database'></use></svg></label><div class='xr-var-attrs'><dl class='xr-attrs'><dt><span>param :</span></dt><dd>v</dd><dt><span>standard_name :</span></dt><dd>northward_wind</dd><dt><span>long_name :</span></dt><dd>V component of wind</dd><dt><span>paramId :</span></dt><dd>132</dd><dt><span>units :</span></dt><dd>m s**-1</dd><dt><span>levtype :</span></dt><dd>pl</dd><dt><span>levelist :</span></dt><dd>500</dd></dl></div><div class='xr-var-data'><pre>[5472 values with dtype=float64]</pre></div></li><li class='xr-var-item'><div class='xr-var-name'><span>v_700_pl</span></div><div class='xr-var-dims'>(forecast_reference_time, step, latitude, longitude)</div><div class='xr-var-dtype'>float64</div><div class='xr-var-preview xr-preview'>...</div><input id='attrs-87153343-59f3-4f85-8fd3-f45b3c119abe' class='xr-var-attrs-in' type='checkbox' ><label for='attrs-87153343-59f3-4f85-8fd3-f45b3c119abe' title='Show/Hide attributes'><svg class='icon xr-icon-file-text2'><use xlink:href='#icon-file-text2'></use></svg></label><input id='data-ba7ccc71-0ead-49fd-bffd-d39eff68eaae' class='xr-var-data-in' type='checkbox'><label for='data-ba7ccc71-0ead-49fd-bffd-d39eff68eaae' title='Show/Hide data repr'><svg class='icon xr-icon-database'><use xlink:href='#icon-database'></use></svg></label><div class='xr-var-attrs'><dl class='xr-attrs'><dt><span>param :</span></dt><dd>v</dd><dt><span>standard_name :</span></dt><dd>northward_wind</dd><dt><span>long_name :</span></dt><dd>V component of wind</dd><dt><span>paramId :</span></dt><dd>132</dd><dt><span>units :</span></dt><dd>m s**-1</dd><dt><span>levtype :</span></dt><dd>pl</dd><dt><span>levelist :</span></dt><dd>700</dd></dl></div><div class='xr-var-data'><pre>[5472 values with dtype=float64]</pre></div></li><li class='xr-var-item'><div class='xr-var-name'><span>v_850_pl</span></div><div class='xr-var-dims'>(forecast_reference_time, step, latitude, longitude)</div><div class='xr-var-dtype'>float64</div><div class='xr-var-preview xr-preview'>...</div><input id='attrs-838a0fa9-a897-457d-95d3-8359038df098' class='xr-var-attrs-in' type='checkbox' ><label for='attrs-838a0fa9-a897-457d-95d3-8359038df098' title='Show/Hide attributes'><svg class='icon xr-icon-file-text2'><use xlink:href='#icon-file-text2'></use></svg></label><input id='data-3177b3ac-d7a5-4fe2-b0ff-317a2972708f' class='xr-var-data-in' type='checkbox'><label for='data-3177b3ac-d7a5-4fe2-b0ff-317a2972708f' title='Show/Hide data repr'><svg class='icon xr-icon-database'><use xlink:href='#icon-database'></use></svg></label><div class='xr-var-attrs'><dl class='xr-attrs'><dt><span>param :</span></dt><dd>v</dd><dt><span>standard_name :</span></dt><dd>northward_wind</dd><dt><span>long_name :</span></dt><dd>V component of wind</dd><dt><span>paramId :</span></dt><dd>132</dd><dt><span>units :</span></dt><dd>m s**-1</dd><dt><span>levtype :</span></dt><dd>pl</dd><dt><span>levelist :</span></dt><dd>850</dd></dl></div><div class='xr-var-data'><pre>[5472 values with dtype=float64]</pre></div></li><li class='xr-var-item'><div class='xr-var-name'><span>z_1000_pl</span></div><div class='xr-var-dims'>(forecast_reference_time, step, latitude, longitude)</div><div class='xr-var-dtype'>float64</div><div class='xr-var-preview xr-preview'>...</div><input id='attrs-08e89b46-0d3c-4831-9a3e-da646e7a6d99' class='xr-var-attrs-in' type='checkbox' ><label for='attrs-08e89b46-0d3c-4831-9a3e-da646e7a6d99' title='Show/Hide attributes'><svg class='icon xr-icon-file-text2'><use xlink:href='#icon-file-text2'></use></svg></label><input id='data-505e78c5-e65a-46cf-afe5-8177339e830d' class='xr-var-data-in' type='checkbox'><label for='data-505e78c5-e65a-46cf-afe5-8177339e830d' title='Show/Hide data repr'><svg class='icon xr-icon-database'><use xlink:href='#icon-database'></use></svg></label><div class='xr-var-attrs'><dl class='xr-attrs'><dt><span>param :</span></dt><dd>z</dd><dt><span>standard_name :</span></dt><dd>geopotential</dd><dt><span>long_name :</span></dt><dd>Geopotential</dd><dt><span>paramId :</span></dt><dd>129</dd><dt><span>units :</span></dt><dd>m**2 s**-2</dd><dt><span>levtype :</span></dt><dd>pl</dd><dt><span>levelist :</span></dt><dd>1000</dd></dl></div><div class='xr-var-data'><pre>[5472 values with dtype=float64]</pre></div></li><li class='xr-var-item'><div class='xr-var-name'><span>z_300_pl</span></div><div class='xr-var-dims'>(forecast_reference_time, step, latitude, longitude)</div><div class='xr-var-dtype'>float64</div><div class='xr-var-preview xr-preview'>...</div><input id='attrs-620e35df-eb01-4d62-aa62-edb361e415a0' class='xr-var-attrs-in' type='checkbox' ><label for='attrs-620e35df-eb01-4d62-aa62-edb361e415a0' title='Show/Hide attributes'><svg class='icon xr-icon-file-text2'><use xlink:href='#icon-file-text2'></use></svg></label><input id='data-d9a5483f-efe1-40da-ad94-5d453ad10422' class='xr-var-data-in' type='checkbox'><label for='data-d9a5483f-efe1-40da-ad94-5d453ad10422' title='Show/Hide data repr'><svg class='icon xr-icon-database'><use xlink:href='#icon-database'></use></svg></label><div class='xr-var-attrs'><dl class='xr-attrs'><dt><span>param :</span></dt><dd>z</dd><dt><span>standard_name :</span></dt><dd>geopotential</dd><dt><span>long_name :</span></dt><dd>Geopotential</dd><dt><span>paramId :</span></dt><dd>129</dd><dt><span>units :</span></dt><dd>m**2 s**-2</dd><dt><span>levtype :</span></dt><dd>pl</dd><dt><span>levelist :</span></dt><dd>300</dd></dl></div><div class='xr-var-data'><pre>[5472 values with dtype=float64]</pre></div></li><li class='xr-var-item'><div class='xr-var-name'><span>z_400_pl</span></div><div class='xr-var-dims'>(forecast_reference_time, step, latitude, longitude)</div><div class='xr-var-dtype'>float64</div><div class='xr-var-preview xr-preview'>...</div><input id='attrs-ed78f6de-adf0-4aaf-90d1-70db7d386b22' class='xr-var-attrs-in' type='checkbox' ><label for='attrs-ed78f6de-adf0-4aaf-90d1-70db7d386b22' title='Show/Hide attributes'><svg class='icon xr-icon-file-text2'><use xlink:href='#icon-file-text2'></use></svg></label><input id='data-19542f4e-5b4f-4336-b281-25b74ac3de4b' class='xr-var-data-in' type='checkbox'><label for='data-19542f4e-5b4f-4336-b281-25b74ac3de4b' title='Show/Hide data repr'><svg class='icon xr-icon-database'><use xlink:href='#icon-database'></use></svg></label><div class='xr-var-attrs'><dl class='xr-attrs'><dt><span>param :</span></dt><dd>z</dd><dt><span>standard_name :</span></dt><dd>geopotential</dd><dt><span>long_name :</span></dt><dd>Geopotential</dd><dt><span>paramId :</span></dt><dd>129</dd><dt><span>units :</span></dt><dd>m**2 s**-2</dd><dt><span>levtype :</span></dt><dd>pl</dd><dt><span>levelist :</span></dt><dd>400</dd></dl></div><div class='xr-var-data'><pre>[5472 values with dtype=float64]</pre></div></li><li class='xr-var-item'><div class='xr-var-name'><span>z_500_pl</span></div><div class='xr-var-dims'>(forecast_reference_time, step, latitude, longitude)</div><div class='xr-var-dtype'>float64</div><div class='xr-var-preview xr-preview'>...</div><input id='attrs-c8a3efb2-0dc3-4a2a-a932-bbcec3236e80' class='xr-var-attrs-in' type='checkbox' ><label for='attrs-c8a3efb2-0dc3-4a2a-a932-bbcec3236e80' title='Show/Hide attributes'><svg class='icon xr-icon-file-text2'><use xlink:href='#icon-file-text2'></use></svg></label><input id='data-1dfcc33d-4691-47ae-84ed-7fdcc87d3408' class='xr-var-data-in' type='checkbox'><label for='data-1dfcc33d-4691-47ae-84ed-7fdcc87d3408' title='Show/Hide data repr'><svg class='icon xr-icon-database'><use xlink:href='#icon-database'></use></svg></label><div class='xr-var-attrs'><dl class='xr-attrs'><dt><span>param :</span></dt><dd>z</dd><dt><span>standard_name :</span></dt><dd>geopotential</dd><dt><span>long_name :</span></dt><dd>Geopotential</dd><dt><span>paramId :</span></dt><dd>129</dd><dt><span>units :</span></dt><dd>m**2 s**-2</dd><dt><span>levtype :</span></dt><dd>pl</dd><dt><span>levelist :</span></dt><dd>500</dd></dl></div><div class='xr-var-data'><pre>[5472 values with dtype=float64]</pre></div></li><li class='xr-var-item'><div class='xr-var-name'><span>z_700_pl</span></div><div class='xr-var-dims'>(forecast_reference_time, step, latitude, longitude)</div><div class='xr-var-dtype'>float64</div><div class='xr-var-preview xr-preview'>...</div><input id='attrs-ef7fbf58-276f-4436-951d-a02373217787' class='xr-var-attrs-in' type='checkbox' ><label for='attrs-ef7fbf58-276f-4436-951d-a02373217787' title='Show/Hide attributes'><svg class='icon xr-icon-file-text2'><use xlink:href='#icon-file-text2'></use></svg></label><input id='data-d4d38cb9-0b0a-472e-8904-12d615758aa8' class='xr-var-data-in' type='checkbox'><label for='data-d4d38cb9-0b0a-472e-8904-12d615758aa8' title='Show/Hide data repr'><svg class='icon xr-icon-database'><use xlink:href='#icon-database'></use></svg></label><div class='xr-var-attrs'><dl class='xr-attrs'><dt><span>param :</span></dt><dd>z</dd><dt><span>standard_name :</span></dt><dd>geopotential</dd><dt><span>long_name :</span></dt><dd>Geopotential</dd><dt><span>paramId :</span></dt><dd>129</dd><dt><span>units :</span></dt><dd>m**2 s**-2</dd><dt><span>levtype :</span></dt><dd>pl</dd><dt><span>levelist :</span></dt><dd>700</dd></dl></div><div class='xr-var-data'><pre>[5472 values with dtype=float64]</pre></div></li><li class='xr-var-item'><div class='xr-var-name'><span>z_850_pl</span></div><div class='xr-var-dims'>(forecast_reference_time, step, latitude, longitude)</div><div class='xr-var-dtype'>float64</div><div class='xr-var-preview xr-preview'>...</div><input id='attrs-3bacf808-ed1a-480f-a1a2-0c426cff6e42' class='xr-var-attrs-in' type='checkbox' ><label for='attrs-3bacf808-ed1a-480f-a1a2-0c426cff6e42' title='Show/Hide attributes'><svg class='icon xr-icon-file-text2'><use xlink:href='#icon-file-text2'></use></svg></label><input id='data-dcece859-b059-42a6-8b6e-ae03912f4360' class='xr-var-data-in' type='checkbox'><label for='data-dcece859-b059-42a6-8b6e-ae03912f4360' title='Show/Hide data repr'><svg class='icon xr-icon-database'><use xlink:href='#icon-database'></use></svg></label><div class='xr-var-attrs'><dl class='xr-attrs'><dt><span>param :</span></dt><dd>z</dd><dt><span>standard_name :</span></dt><dd>geopotential</dd><dt><span>long_name :</span></dt><dd>Geopotential</dd><dt><span>paramId :</span></dt><dd>129</dd><dt><span>units :</span></dt><dd>m**2 s**-2</dd><dt><span>levtype :</span></dt><dd>pl</dd><dt><span>levelist :</span></dt><dd>850</dd></dl></div><div class='xr-var-data'><pre>[5472 values with dtype=float64]</pre></div></li></ul></div></li><li class='xr-section-item'><input id='section-8b6be4cb-7626-4e9d-a394-44846d0350ca' class='xr-section-summary-in' type='checkbox'  ><label for='section-8b6be4cb-7626-4e9d-a394-44846d0350ca' class='xr-section-summary' >Indexes: <span>(4)</span></label><div class='xr-section-inline-details'></div><div class='xr-section-details'><ul class='xr-var-list'><li class='xr-var-item'><div class='xr-index-name'><div>forecast_reference_time</div></div><div class='xr-index-preview'>PandasIndex</div><div></div><input id='index-66f69f47-4f90-4509-9813-f9ed4808fff5' class='xr-index-data-in' type='checkbox'/><label for='index-66f69f47-4f90-4509-9813-f9ed4808fff5' title='Show/Hide index repr'><svg class='icon xr-icon-database'><use xlink:href='#icon-database'></use></svg></label><div class='xr-index-data'><pre>PandasIndex(DatetimeIndex([&#x27;2024-06-03 00:00:00&#x27;, &#x27;2024-06-03 12:00:00&#x27;,\n",
       "               &#x27;2024-06-04 00:00:00&#x27;, &#x27;2024-06-04 12:00:00&#x27;],\n",
       "              dtype=&#x27;datetime64[ns]&#x27;, name=&#x27;forecast_reference_time&#x27;, freq=None))</pre></div></li><li class='xr-var-item'><div class='xr-index-name'><div>step</div></div><div class='xr-index-preview'>PandasIndex</div><div></div><input id='index-ccaf821a-70ec-4ff8-968b-628cb5432446' class='xr-index-data-in' type='checkbox'/><label for='index-ccaf821a-70ec-4ff8-968b-628cb5432446' title='Show/Hide index repr'><svg class='icon xr-icon-database'><use xlink:href='#icon-database'></use></svg></label><div class='xr-index-data'><pre>PandasIndex(TimedeltaIndex([&#x27;0 days 00:00:00&#x27;, &#x27;0 days 06:00:00&#x27;], dtype=&#x27;timedelta64[ns]&#x27;, name=&#x27;step&#x27;, freq=None))</pre></div></li><li class='xr-var-item'><div class='xr-index-name'><div>latitude</div></div><div class='xr-index-preview'>PandasIndex</div><div></div><input id='index-aa79538d-200e-42d2-9adf-5751d0f42693' class='xr-index-data-in' type='checkbox'/><label for='index-aa79538d-200e-42d2-9adf-5751d0f42693' title='Show/Hide index repr'><svg class='icon xr-icon-database'><use xlink:href='#icon-database'></use></svg></label><div class='xr-index-data'><pre>PandasIndex(Index([ 90.0,  80.0,  70.0,  60.0,  50.0,  40.0,  30.0,  20.0,  10.0,   0.0,\n",
       "       -10.0, -20.0, -30.0, -40.0, -50.0, -60.0, -70.0, -80.0, -90.0],\n",
       "      dtype=&#x27;float64&#x27;, name=&#x27;latitude&#x27;))</pre></div></li><li class='xr-var-item'><div class='xr-index-name'><div>longitude</div></div><div class='xr-index-preview'>PandasIndex</div><div></div><input id='index-49a96d60-9961-4c7f-b7dd-e1fd990ebeb3' class='xr-index-data-in' type='checkbox'/><label for='index-49a96d60-9961-4c7f-b7dd-e1fd990ebeb3' title='Show/Hide index repr'><svg class='icon xr-icon-database'><use xlink:href='#icon-database'></use></svg></label><div class='xr-index-data'><pre>PandasIndex(Index([  0.0,  10.0,  20.0,  30.0,  40.0,  50.0,  60.0,  70.0,  80.0,  90.0,\n",
       "       100.0, 110.0, 120.0, 130.0, 140.0, 150.0, 160.0, 170.0, 180.0, 190.0,\n",
       "       200.0, 210.0, 220.0, 230.0, 240.0, 250.0, 260.0, 270.0, 280.0, 290.0,\n",
       "       300.0, 310.0, 320.0, 330.0, 340.0, 350.0],\n",
       "      dtype=&#x27;float64&#x27;, name=&#x27;longitude&#x27;))</pre></div></li></ul></div></li><li class='xr-section-item'><input id='section-56b49416-9dfb-4765-90e8-93c80093b811' class='xr-section-summary-in' type='checkbox'  checked><label for='section-56b49416-9dfb-4765-90e8-93c80093b811' class='xr-section-summary' >Attributes: <span>(8)</span></label><div class='xr-section-inline-details'></div><div class='xr-section-details'><dl class='xr-attrs'><dt><span>class :</span></dt><dd>od</dd><dt><span>stream :</span></dt><dd>oper</dd><dt><span>type :</span></dt><dd>fc</dd><dt><span>expver :</span></dt><dd>0001</dd><dt><span>domain :</span></dt><dd>g</dd><dt><span>number :</span></dt><dd>0</dd><dt><span>Conventions :</span></dt><dd>CF-1.8</dd><dt><span>institution :</span></dt><dd>ECMWF</dd></dl></div></li></ul></div></div>"
      ],
      "text/plain": [
       "<xarray.Dataset> Size: 1MB\n",
       "Dimensions:                  (forecast_reference_time: 4, step: 2,\n",
       "                              latitude: 19, longitude: 36)\n",
       "Coordinates:\n",
       "  * forecast_reference_time  (forecast_reference_time) datetime64[ns] 32B 202...\n",
       "  * step                     (step) timedelta64[ns] 16B 00:00:00 06:00:00\n",
       "  * latitude                 (latitude) float64 152B 90.0 80.0 ... -80.0 -90.0\n",
       "  * longitude                (longitude) float64 288B 0.0 10.0 ... 340.0 350.0\n",
       "Data variables: (12/32)\n",
       "    2t_sfc                   (forecast_reference_time, step, latitude, longitude) float64 44kB ...\n",
       "    msl_sfc                  (forecast_reference_time, step, latitude, longitude) float64 44kB ...\n",
       "    r_1000_pl                (forecast_reference_time, step, latitude, longitude) float64 44kB ...\n",
       "    r_300_pl                 (forecast_reference_time, step, latitude, longitude) float64 44kB ...\n",
       "    r_400_pl                 (forecast_reference_time, step, latitude, longitude) float64 44kB ...\n",
       "    r_500_pl                 (forecast_reference_time, step, latitude, longitude) float64 44kB ...\n",
       "    ...                       ...\n",
       "    z_1000_pl                (forecast_reference_time, step, latitude, longitude) float64 44kB ...\n",
       "    z_300_pl                 (forecast_reference_time, step, latitude, longitude) float64 44kB ...\n",
       "    z_400_pl                 (forecast_reference_time, step, latitude, longitude) float64 44kB ...\n",
       "    z_500_pl                 (forecast_reference_time, step, latitude, longitude) float64 44kB ...\n",
       "    z_700_pl                 (forecast_reference_time, step, latitude, longitude) float64 44kB ...\n",
       "    z_850_pl                 (forecast_reference_time, step, latitude, longitude) float64 44kB ...\n",
       "Attributes:\n",
       "    class:        od\n",
       "    stream:       oper\n",
       "    type:         fc\n",
       "    expver:       0001\n",
       "    domain:       g\n",
       "    number:       0\n",
       "    Conventions:  CF-1.8\n",
       "    institution:  ECMWF"
      ]
     },
     "execution_count": 3,
     "metadata": {},
     "output_type": "execute_result"
    }
   ],
   "source": [
    "ds = ds_ek.to_xarray(variable_key=\"param_level_type\", \n",
    "                     remapping={\"param_level_type\": \"{param}_{levelist}_{levtype}\"})\n",
    "ds"
   ]
  },
  {
   "cell_type": "code",
   "execution_count": null,
   "id": "c6eec682-683a-44d1-a785-7d2219fdbe4e",
   "metadata": {},
   "outputs": [],
   "source": []
  }
 ],
 "metadata": {
  "kernelspec": {
   "display_name": "dev_ecc",
   "language": "python",
   "name": "dev_ecc"
  },
  "language_info": {
   "codemirror_mode": {
    "name": "ipython",
    "version": 3
   },
   "file_extension": ".py",
   "mimetype": "text/x-python",
   "name": "python",
   "nbconvert_exporter": "python",
   "pygments_lexer": "ipython3",
   "version": "3.10.13"
  }
 },
 "nbformat": 4,
 "nbformat_minor": 5
}
