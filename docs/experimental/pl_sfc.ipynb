{
 "cells": [
  {
   "cell_type": "markdown",
   "id": "9997ba6f-2c4a-4a4a-929c-c810aa107891",
   "metadata": {},
   "source": [
    "## Pressure and surface level"
   ]
  },
  {
   "cell_type": "code",
   "execution_count": 1,
   "id": "b9cd1d75-3fdc-4c8b-8deb-d22b43be8b03",
   "metadata": {},
   "outputs": [],
   "source": [
    "import earthkit.data\n",
    "\n",
    "fname = \"pl_sfc_regular_ll.grib\"\n",
    "earthkit.data.download_example_file(fname, remote_dir=\"test-data/xr_engine/level\")\n",
    "ds_ek = earthkit.data.from_source(\"file\", fname)"
   ]
  },
  {
   "cell_type": "code",
   "execution_count": 2,
   "id": "41a20218-b6a7-490d-9b9a-ecd3f93fc341",
   "metadata": {},
   "outputs": [
    {
     "data": {
      "application/vnd.jupyter.widget-view+json": {
       "model_id": "",
       "version_major": 2,
       "version_minor": 0
      },
      "text/plain": [
       "Finding coords in dataset for ('forecast_reference_time', 'step'):   0%|          | 0.00/8.00 [00:00<?, ?B/s]"
      ]
     },
     "metadata": {},
     "output_type": "display_data"
    },
    {
     "data": {
      "application/vnd.jupyter.widget-view+json": {
       "model_id": "",
       "version_major": 2,
       "version_minor": 0
      },
      "text/plain": [
       "Finding coords in dataset for ('forecast_reference_time', 'step'):   0%|          | 0.00/8.00 [00:00<?, ?B/s]"
      ]
     },
     "metadata": {},
     "output_type": "display_data"
    },
    {
     "data": {
      "application/vnd.jupyter.widget-view+json": {
       "model_id": "",
       "version_major": 2,
       "version_minor": 0
      },
      "text/plain": [
       "Finding coords in dataset for ('forecast_reference_time', 'step', 'levelist'):   0%|          | 0.00/48.0 [00:…"
      ]
     },
     "metadata": {},
     "output_type": "display_data"
    },
    {
     "data": {
      "application/vnd.jupyter.widget-view+json": {
       "model_id": "",
       "version_major": 2,
       "version_minor": 0
      },
      "text/plain": [
       "Finding coords in dataset for ('forecast_reference_time', 'step', 'levelist'):   0%|          | 0.00/48.0 [00:…"
      ]
     },
     "metadata": {},
     "output_type": "display_data"
    },
    {
     "data": {
      "application/vnd.jupyter.widget-view+json": {
       "model_id": "",
       "version_major": 2,
       "version_minor": 0
      },
      "text/plain": [
       "Finding coords in dataset for ('forecast_reference_time', 'step', 'levelist'):   0%|          | 0.00/48.0 [00:…"
      ]
     },
     "metadata": {},
     "output_type": "display_data"
    },
    {
     "data": {
      "application/vnd.jupyter.widget-view+json": {
       "model_id": "",
       "version_major": 2,
       "version_minor": 0
      },
      "text/plain": [
       "Finding coords in dataset for ('forecast_reference_time', 'step', 'levelist'):   0%|          | 0.00/48.0 [00:…"
      ]
     },
     "metadata": {},
     "output_type": "display_data"
    },
    {
     "data": {
      "application/vnd.jupyter.widget-view+json": {
       "model_id": "",
       "version_major": 2,
       "version_minor": 0
      },
      "text/plain": [
       "Finding coords in dataset for ('forecast_reference_time', 'step', 'levelist'):   0%|          | 0.00/48.0 [00:…"
      ]
     },
     "metadata": {},
     "output_type": "display_data"
    },
    {
     "data": {
      "text/html": [
       "<div><svg style=\"position: absolute; width: 0; height: 0; overflow: hidden\">\n",
       "<defs>\n",
       "<symbol id=\"icon-database\" viewBox=\"0 0 32 32\">\n",
       "<path d=\"M16 0c-8.837 0-16 2.239-16 5v4c0 2.761 7.163 5 16 5s16-2.239 16-5v-4c0-2.761-7.163-5-16-5z\"></path>\n",
       "<path d=\"M16 17c-8.837 0-16-2.239-16-5v6c0 2.761 7.163 5 16 5s16-2.239 16-5v-6c0 2.761-7.163 5-16 5z\"></path>\n",
       "<path d=\"M16 26c-8.837 0-16-2.239-16-5v6c0 2.761 7.163 5 16 5s16-2.239 16-5v-6c0 2.761-7.163 5-16 5z\"></path>\n",
       "</symbol>\n",
       "<symbol id=\"icon-file-text2\" viewBox=\"0 0 32 32\">\n",
       "<path d=\"M28.681 7.159c-0.694-0.947-1.662-2.053-2.724-3.116s-2.169-2.030-3.116-2.724c-1.612-1.182-2.393-1.319-2.841-1.319h-15.5c-1.378 0-2.5 1.121-2.5 2.5v27c0 1.378 1.122 2.5 2.5 2.5h23c1.378 0 2.5-1.122 2.5-2.5v-19.5c0-0.448-0.137-1.23-1.319-2.841zM24.543 5.457c0.959 0.959 1.712 1.825 2.268 2.543h-4.811v-4.811c0.718 0.556 1.584 1.309 2.543 2.268zM28 29.5c0 0.271-0.229 0.5-0.5 0.5h-23c-0.271 0-0.5-0.229-0.5-0.5v-27c0-0.271 0.229-0.5 0.5-0.5 0 0 15.499-0 15.5 0v7c0 0.552 0.448 1 1 1h7v19.5z\"></path>\n",
       "<path d=\"M23 26h-14c-0.552 0-1-0.448-1-1s0.448-1 1-1h14c0.552 0 1 0.448 1 1s-0.448 1-1 1z\"></path>\n",
       "<path d=\"M23 22h-14c-0.552 0-1-0.448-1-1s0.448-1 1-1h14c0.552 0 1 0.448 1 1s-0.448 1-1 1z\"></path>\n",
       "<path d=\"M23 18h-14c-0.552 0-1-0.448-1-1s0.448-1 1-1h14c0.552 0 1 0.448 1 1s-0.448 1-1 1z\"></path>\n",
       "</symbol>\n",
       "</defs>\n",
       "</svg>\n",
       "<style>/* CSS stylesheet for displaying xarray objects in jupyterlab.\n",
       " *\n",
       " */\n",
       "\n",
       ":root {\n",
       "  --xr-font-color0: var(--jp-content-font-color0, rgba(0, 0, 0, 1));\n",
       "  --xr-font-color2: var(--jp-content-font-color2, rgba(0, 0, 0, 0.54));\n",
       "  --xr-font-color3: var(--jp-content-font-color3, rgba(0, 0, 0, 0.38));\n",
       "  --xr-border-color: var(--jp-border-color2, #e0e0e0);\n",
       "  --xr-disabled-color: var(--jp-layout-color3, #bdbdbd);\n",
       "  --xr-background-color: var(--jp-layout-color0, white);\n",
       "  --xr-background-color-row-even: var(--jp-layout-color1, white);\n",
       "  --xr-background-color-row-odd: var(--jp-layout-color2, #eeeeee);\n",
       "}\n",
       "\n",
       "html[theme=dark],\n",
       "html[data-theme=dark],\n",
       "body[data-theme=dark],\n",
       "body.vscode-dark {\n",
       "  --xr-font-color0: rgba(255, 255, 255, 1);\n",
       "  --xr-font-color2: rgba(255, 255, 255, 0.54);\n",
       "  --xr-font-color3: rgba(255, 255, 255, 0.38);\n",
       "  --xr-border-color: #1F1F1F;\n",
       "  --xr-disabled-color: #515151;\n",
       "  --xr-background-color: #111111;\n",
       "  --xr-background-color-row-even: #111111;\n",
       "  --xr-background-color-row-odd: #313131;\n",
       "}\n",
       "\n",
       ".xr-wrap {\n",
       "  display: block !important;\n",
       "  min-width: 300px;\n",
       "  max-width: 700px;\n",
       "}\n",
       "\n",
       ".xr-text-repr-fallback {\n",
       "  /* fallback to plain text repr when CSS is not injected (untrusted notebook) */\n",
       "  display: none;\n",
       "}\n",
       "\n",
       ".xr-header {\n",
       "  padding-top: 6px;\n",
       "  padding-bottom: 6px;\n",
       "  margin-bottom: 4px;\n",
       "  border-bottom: solid 1px var(--xr-border-color);\n",
       "}\n",
       "\n",
       ".xr-header > div,\n",
       ".xr-header > ul {\n",
       "  display: inline;\n",
       "  margin-top: 0;\n",
       "  margin-bottom: 0;\n",
       "}\n",
       "\n",
       ".xr-obj-type,\n",
       ".xr-array-name {\n",
       "  margin-left: 2px;\n",
       "  margin-right: 10px;\n",
       "}\n",
       "\n",
       ".xr-obj-type {\n",
       "  color: var(--xr-font-color2);\n",
       "}\n",
       "\n",
       ".xr-sections {\n",
       "  padding-left: 0 !important;\n",
       "  display: grid;\n",
       "  grid-template-columns: 150px auto auto 1fr 20px 20px;\n",
       "}\n",
       "\n",
       ".xr-section-item {\n",
       "  display: contents;\n",
       "}\n",
       "\n",
       ".xr-section-item input {\n",
       "  display: none;\n",
       "}\n",
       "\n",
       ".xr-section-item input + label {\n",
       "  color: var(--xr-disabled-color);\n",
       "}\n",
       "\n",
       ".xr-section-item input:enabled + label {\n",
       "  cursor: pointer;\n",
       "  color: var(--xr-font-color2);\n",
       "}\n",
       "\n",
       ".xr-section-item input:enabled + label:hover {\n",
       "  color: var(--xr-font-color0);\n",
       "}\n",
       "\n",
       ".xr-section-summary {\n",
       "  grid-column: 1;\n",
       "  color: var(--xr-font-color2);\n",
       "  font-weight: 500;\n",
       "}\n",
       "\n",
       ".xr-section-summary > span {\n",
       "  display: inline-block;\n",
       "  padding-left: 0.5em;\n",
       "}\n",
       "\n",
       ".xr-section-summary-in:disabled + label {\n",
       "  color: var(--xr-font-color2);\n",
       "}\n",
       "\n",
       ".xr-section-summary-in + label:before {\n",
       "  display: inline-block;\n",
       "  content: '►';\n",
       "  font-size: 11px;\n",
       "  width: 15px;\n",
       "  text-align: center;\n",
       "}\n",
       "\n",
       ".xr-section-summary-in:disabled + label:before {\n",
       "  color: var(--xr-disabled-color);\n",
       "}\n",
       "\n",
       ".xr-section-summary-in:checked + label:before {\n",
       "  content: '▼';\n",
       "}\n",
       "\n",
       ".xr-section-summary-in:checked + label > span {\n",
       "  display: none;\n",
       "}\n",
       "\n",
       ".xr-section-summary,\n",
       ".xr-section-inline-details {\n",
       "  padding-top: 4px;\n",
       "  padding-bottom: 4px;\n",
       "}\n",
       "\n",
       ".xr-section-inline-details {\n",
       "  grid-column: 2 / -1;\n",
       "}\n",
       "\n",
       ".xr-section-details {\n",
       "  display: none;\n",
       "  grid-column: 1 / -1;\n",
       "  margin-bottom: 5px;\n",
       "}\n",
       "\n",
       ".xr-section-summary-in:checked ~ .xr-section-details {\n",
       "  display: contents;\n",
       "}\n",
       "\n",
       ".xr-array-wrap {\n",
       "  grid-column: 1 / -1;\n",
       "  display: grid;\n",
       "  grid-template-columns: 20px auto;\n",
       "}\n",
       "\n",
       ".xr-array-wrap > label {\n",
       "  grid-column: 1;\n",
       "  vertical-align: top;\n",
       "}\n",
       "\n",
       ".xr-preview {\n",
       "  color: var(--xr-font-color3);\n",
       "}\n",
       "\n",
       ".xr-array-preview,\n",
       ".xr-array-data {\n",
       "  padding: 0 5px !important;\n",
       "  grid-column: 2;\n",
       "}\n",
       "\n",
       ".xr-array-data,\n",
       ".xr-array-in:checked ~ .xr-array-preview {\n",
       "  display: none;\n",
       "}\n",
       "\n",
       ".xr-array-in:checked ~ .xr-array-data,\n",
       ".xr-array-preview {\n",
       "  display: inline-block;\n",
       "}\n",
       "\n",
       ".xr-dim-list {\n",
       "  display: inline-block !important;\n",
       "  list-style: none;\n",
       "  padding: 0 !important;\n",
       "  margin: 0;\n",
       "}\n",
       "\n",
       ".xr-dim-list li {\n",
       "  display: inline-block;\n",
       "  padding: 0;\n",
       "  margin: 0;\n",
       "}\n",
       "\n",
       ".xr-dim-list:before {\n",
       "  content: '(';\n",
       "}\n",
       "\n",
       ".xr-dim-list:after {\n",
       "  content: ')';\n",
       "}\n",
       "\n",
       ".xr-dim-list li:not(:last-child):after {\n",
       "  content: ',';\n",
       "  padding-right: 5px;\n",
       "}\n",
       "\n",
       ".xr-has-index {\n",
       "  font-weight: bold;\n",
       "}\n",
       "\n",
       ".xr-var-list,\n",
       ".xr-var-item {\n",
       "  display: contents;\n",
       "}\n",
       "\n",
       ".xr-var-item > div,\n",
       ".xr-var-item label,\n",
       ".xr-var-item > .xr-var-name span {\n",
       "  background-color: var(--xr-background-color-row-even);\n",
       "  margin-bottom: 0;\n",
       "}\n",
       "\n",
       ".xr-var-item > .xr-var-name:hover span {\n",
       "  padding-right: 5px;\n",
       "}\n",
       "\n",
       ".xr-var-list > li:nth-child(odd) > div,\n",
       ".xr-var-list > li:nth-child(odd) > label,\n",
       ".xr-var-list > li:nth-child(odd) > .xr-var-name span {\n",
       "  background-color: var(--xr-background-color-row-odd);\n",
       "}\n",
       "\n",
       ".xr-var-name {\n",
       "  grid-column: 1;\n",
       "}\n",
       "\n",
       ".xr-var-dims {\n",
       "  grid-column: 2;\n",
       "}\n",
       "\n",
       ".xr-var-dtype {\n",
       "  grid-column: 3;\n",
       "  text-align: right;\n",
       "  color: var(--xr-font-color2);\n",
       "}\n",
       "\n",
       ".xr-var-preview {\n",
       "  grid-column: 4;\n",
       "}\n",
       "\n",
       ".xr-index-preview {\n",
       "  grid-column: 2 / 5;\n",
       "  color: var(--xr-font-color2);\n",
       "}\n",
       "\n",
       ".xr-var-name,\n",
       ".xr-var-dims,\n",
       ".xr-var-dtype,\n",
       ".xr-preview,\n",
       ".xr-attrs dt {\n",
       "  white-space: nowrap;\n",
       "  overflow: hidden;\n",
       "  text-overflow: ellipsis;\n",
       "  padding-right: 10px;\n",
       "}\n",
       "\n",
       ".xr-var-name:hover,\n",
       ".xr-var-dims:hover,\n",
       ".xr-var-dtype:hover,\n",
       ".xr-attrs dt:hover {\n",
       "  overflow: visible;\n",
       "  width: auto;\n",
       "  z-index: 1;\n",
       "}\n",
       "\n",
       ".xr-var-attrs,\n",
       ".xr-var-data,\n",
       ".xr-index-data {\n",
       "  display: none;\n",
       "  background-color: var(--xr-background-color) !important;\n",
       "  padding-bottom: 5px !important;\n",
       "}\n",
       "\n",
       ".xr-var-attrs-in:checked ~ .xr-var-attrs,\n",
       ".xr-var-data-in:checked ~ .xr-var-data,\n",
       ".xr-index-data-in:checked ~ .xr-index-data {\n",
       "  display: block;\n",
       "}\n",
       "\n",
       ".xr-var-data > table {\n",
       "  float: right;\n",
       "}\n",
       "\n",
       ".xr-var-name span,\n",
       ".xr-var-data,\n",
       ".xr-index-name div,\n",
       ".xr-index-data,\n",
       ".xr-attrs {\n",
       "  padding-left: 25px !important;\n",
       "}\n",
       "\n",
       ".xr-attrs,\n",
       ".xr-var-attrs,\n",
       ".xr-var-data,\n",
       ".xr-index-data {\n",
       "  grid-column: 1 / -1;\n",
       "}\n",
       "\n",
       "dl.xr-attrs {\n",
       "  padding: 0;\n",
       "  margin: 0;\n",
       "  display: grid;\n",
       "  grid-template-columns: 125px auto;\n",
       "}\n",
       "\n",
       ".xr-attrs dt,\n",
       ".xr-attrs dd {\n",
       "  padding: 0;\n",
       "  margin: 0;\n",
       "  float: left;\n",
       "  padding-right: 10px;\n",
       "  width: auto;\n",
       "}\n",
       "\n",
       ".xr-attrs dt {\n",
       "  font-weight: normal;\n",
       "  grid-column: 1;\n",
       "}\n",
       "\n",
       ".xr-attrs dt:hover span {\n",
       "  display: inline-block;\n",
       "  background: var(--xr-background-color);\n",
       "  padding-right: 10px;\n",
       "}\n",
       "\n",
       ".xr-attrs dd {\n",
       "  grid-column: 2;\n",
       "  white-space: pre-wrap;\n",
       "  word-break: break-all;\n",
       "}\n",
       "\n",
       ".xr-icon-database,\n",
       ".xr-icon-file-text2,\n",
       ".xr-no-icon {\n",
       "  display: inline-block;\n",
       "  vertical-align: middle;\n",
       "  width: 1em;\n",
       "  height: 1.5em !important;\n",
       "  stroke-width: 0;\n",
       "  stroke: currentColor;\n",
       "  fill: currentColor;\n",
       "}\n",
       "</style><pre class='xr-text-repr-fallback'>&lt;xarray.Dataset&gt; Size: 1MB\n",
       "Dimensions:                  (forecast_reference_time: 4, step: 2,\n",
       "                              latitude: 19, longitude: 36, levelist: 6)\n",
       "Coordinates:\n",
       "  * forecast_reference_time  (forecast_reference_time) datetime64[ns] 32B 202...\n",
       "  * step                     (step) timedelta64[ns] 16B 00:00:00 06:00:00\n",
       "  * levelist                 (levelist) int64 48B 300 400 500 700 850 1000\n",
       "  * latitude                 (latitude) float64 152B 90.0 80.0 ... -80.0 -90.0\n",
       "  * longitude                (longitude) float64 288B 0.0 10.0 ... 340.0 350.0\n",
       "Data variables:\n",
       "    2t                       (forecast_reference_time, step, latitude, longitude) float64 44kB ...\n",
       "    msl                      (forecast_reference_time, step, latitude, longitude) float64 44kB ...\n",
       "    r                        (forecast_reference_time, step, levelist, latitude, longitude) float64 263kB ...\n",
       "    t                        (forecast_reference_time, step, levelist, latitude, longitude) float64 263kB ...\n",
       "    u                        (forecast_reference_time, step, levelist, latitude, longitude) float64 263kB ...\n",
       "    v                        (forecast_reference_time, step, levelist, latitude, longitude) float64 263kB ...\n",
       "    z                        (forecast_reference_time, step, levelist, latitude, longitude) float64 263kB ...</pre><div class='xr-wrap' style='display:none'><div class='xr-header'><div class='xr-obj-type'>xarray.Dataset</div></div><ul class='xr-sections'><li class='xr-section-item'><input id='section-8ad48d0c-2983-4662-95f2-60541d3532f4' class='xr-section-summary-in' type='checkbox' disabled ><label for='section-8ad48d0c-2983-4662-95f2-60541d3532f4' class='xr-section-summary'  title='Expand/collapse section'>Dimensions:</label><div class='xr-section-inline-details'><ul class='xr-dim-list'><li><span class='xr-has-index'>forecast_reference_time</span>: 4</li><li><span class='xr-has-index'>step</span>: 2</li><li><span class='xr-has-index'>latitude</span>: 19</li><li><span class='xr-has-index'>longitude</span>: 36</li><li><span class='xr-has-index'>levelist</span>: 6</li></ul></div><div class='xr-section-details'></div></li><li class='xr-section-item'><input id='section-5994f958-8d7f-4e9a-962b-7d919099bde6' class='xr-section-summary-in' type='checkbox'  checked><label for='section-5994f958-8d7f-4e9a-962b-7d919099bde6' class='xr-section-summary' >Coordinates: <span>(5)</span></label><div class='xr-section-inline-details'></div><div class='xr-section-details'><ul class='xr-var-list'><li class='xr-var-item'><div class='xr-var-name'><span class='xr-has-index'>forecast_reference_time</span></div><div class='xr-var-dims'>(forecast_reference_time)</div><div class='xr-var-dtype'>datetime64[ns]</div><div class='xr-var-preview xr-preview'>2024-06-03 ... 2024-06-04T12:00:00</div><input id='attrs-450ec17a-0073-403f-96c9-741a34a79487' class='xr-var-attrs-in' type='checkbox' ><label for='attrs-450ec17a-0073-403f-96c9-741a34a79487' title='Show/Hide attributes'><svg class='icon xr-icon-file-text2'><use xlink:href='#icon-file-text2'></use></svg></label><input id='data-d94c677f-b3ec-4350-8745-41cb559305f3' class='xr-var-data-in' type='checkbox'><label for='data-d94c677f-b3ec-4350-8745-41cb559305f3' title='Show/Hide data repr'><svg class='icon xr-icon-database'><use xlink:href='#icon-database'></use></svg></label><div class='xr-var-attrs'><dl class='xr-attrs'><dt><span>standard_name :</span></dt><dd>forecast_reference_time</dd><dt><span>long_name :</span></dt><dd>initial time of forecast</dd></dl></div><div class='xr-var-data'><pre>array([&#x27;2024-06-03T00:00:00.000000000&#x27;, &#x27;2024-06-03T12:00:00.000000000&#x27;,\n",
       "       &#x27;2024-06-04T00:00:00.000000000&#x27;, &#x27;2024-06-04T12:00:00.000000000&#x27;],\n",
       "      dtype=&#x27;datetime64[ns]&#x27;)</pre></div></li><li class='xr-var-item'><div class='xr-var-name'><span class='xr-has-index'>step</span></div><div class='xr-var-dims'>(step)</div><div class='xr-var-dtype'>timedelta64[ns]</div><div class='xr-var-preview xr-preview'>00:00:00 06:00:00</div><input id='attrs-f9a8d1e4-a28c-47fd-a7ca-aa8d1684213d' class='xr-var-attrs-in' type='checkbox' ><label for='attrs-f9a8d1e4-a28c-47fd-a7ca-aa8d1684213d' title='Show/Hide attributes'><svg class='icon xr-icon-file-text2'><use xlink:href='#icon-file-text2'></use></svg></label><input id='data-8804e47d-08ae-4e2d-adb3-64647a2a1c4d' class='xr-var-data-in' type='checkbox'><label for='data-8804e47d-08ae-4e2d-adb3-64647a2a1c4d' title='Show/Hide data repr'><svg class='icon xr-icon-database'><use xlink:href='#icon-database'></use></svg></label><div class='xr-var-attrs'><dl class='xr-attrs'><dt><span>standard_name :</span></dt><dd>forecast_period</dd><dt><span>long_name :</span></dt><dd>time since forecast_reference_time</dd></dl></div><div class='xr-var-data'><pre>array([             0, 21600000000000], dtype=&#x27;timedelta64[ns]&#x27;)</pre></div></li><li class='xr-var-item'><div class='xr-var-name'><span class='xr-has-index'>levelist</span></div><div class='xr-var-dims'>(levelist)</div><div class='xr-var-dtype'>int64</div><div class='xr-var-preview xr-preview'>300 400 500 700 850 1000</div><input id='attrs-c89071b4-960c-40c4-9ce4-93a32e2ed9ea' class='xr-var-attrs-in' type='checkbox' ><label for='attrs-c89071b4-960c-40c4-9ce4-93a32e2ed9ea' title='Show/Hide attributes'><svg class='icon xr-icon-file-text2'><use xlink:href='#icon-file-text2'></use></svg></label><input id='data-075a706b-1b96-4e57-bf3f-8a5ac1ea82cc' class='xr-var-data-in' type='checkbox'><label for='data-075a706b-1b96-4e57-bf3f-8a5ac1ea82cc' title='Show/Hide data repr'><svg class='icon xr-icon-database'><use xlink:href='#icon-database'></use></svg></label><div class='xr-var-attrs'><dl class='xr-attrs'><dt><span>units :</span></dt><dd>hPa</dd><dt><span>positive :</span></dt><dd>down</dd><dt><span>stored_direction :</span></dt><dd>decreasing</dd><dt><span>standard_name :</span></dt><dd>air_pressure</dd><dt><span>long_name :</span></dt><dd>pressure</dd></dl></div><div class='xr-var-data'><pre>array([ 300,  400,  500,  700,  850, 1000])</pre></div></li><li class='xr-var-item'><div class='xr-var-name'><span class='xr-has-index'>latitude</span></div><div class='xr-var-dims'>(latitude)</div><div class='xr-var-dtype'>float64</div><div class='xr-var-preview xr-preview'>90.0 80.0 70.0 ... -80.0 -90.0</div><input id='attrs-fb45a808-03d2-4845-9d2f-197294e83eb3' class='xr-var-attrs-in' type='checkbox' ><label for='attrs-fb45a808-03d2-4845-9d2f-197294e83eb3' title='Show/Hide attributes'><svg class='icon xr-icon-file-text2'><use xlink:href='#icon-file-text2'></use></svg></label><input id='data-1eacb63e-0b6b-425d-ac43-20527b181426' class='xr-var-data-in' type='checkbox'><label for='data-1eacb63e-0b6b-425d-ac43-20527b181426' title='Show/Hide data repr'><svg class='icon xr-icon-database'><use xlink:href='#icon-database'></use></svg></label><div class='xr-var-attrs'><dl class='xr-attrs'><dt><span>units :</span></dt><dd>degrees_north</dd><dt><span>standard_name :</span></dt><dd>latitude</dd><dt><span>long_name :</span></dt><dd>latitude</dd></dl></div><div class='xr-var-data'><pre>array([ 90.,  80.,  70.,  60.,  50.,  40.,  30.,  20.,  10.,   0., -10., -20.,\n",
       "       -30., -40., -50., -60., -70., -80., -90.])</pre></div></li><li class='xr-var-item'><div class='xr-var-name'><span class='xr-has-index'>longitude</span></div><div class='xr-var-dims'>(longitude)</div><div class='xr-var-dtype'>float64</div><div class='xr-var-preview xr-preview'>0.0 10.0 20.0 ... 330.0 340.0 350.0</div><input id='attrs-7d5f7f54-4d4f-43e8-8ccc-2e7b3c5256e6' class='xr-var-attrs-in' type='checkbox' ><label for='attrs-7d5f7f54-4d4f-43e8-8ccc-2e7b3c5256e6' title='Show/Hide attributes'><svg class='icon xr-icon-file-text2'><use xlink:href='#icon-file-text2'></use></svg></label><input id='data-4265fbed-d97d-4ad9-98c8-19fac1380223' class='xr-var-data-in' type='checkbox'><label for='data-4265fbed-d97d-4ad9-98c8-19fac1380223' title='Show/Hide data repr'><svg class='icon xr-icon-database'><use xlink:href='#icon-database'></use></svg></label><div class='xr-var-attrs'><dl class='xr-attrs'><dt><span>units :</span></dt><dd>degrees_east</dd><dt><span>standard_name :</span></dt><dd>longitude</dd><dt><span>long_name :</span></dt><dd>longitude</dd></dl></div><div class='xr-var-data'><pre>array([  0.,  10.,  20.,  30.,  40.,  50.,  60.,  70.,  80.,  90., 100., 110.,\n",
       "       120., 130., 140., 150., 160., 170., 180., 190., 200., 210., 220., 230.,\n",
       "       240., 250., 260., 270., 280., 290., 300., 310., 320., 330., 340., 350.])</pre></div></li></ul></div></li><li class='xr-section-item'><input id='section-4c6c7224-fa58-4ffd-bf84-3509e3d2ddd7' class='xr-section-summary-in' type='checkbox'  checked><label for='section-4c6c7224-fa58-4ffd-bf84-3509e3d2ddd7' class='xr-section-summary' >Data variables: <span>(7)</span></label><div class='xr-section-inline-details'></div><div class='xr-section-details'><ul class='xr-var-list'><li class='xr-var-item'><div class='xr-var-name'><span>2t</span></div><div class='xr-var-dims'>(forecast_reference_time, step, latitude, longitude)</div><div class='xr-var-dtype'>float64</div><div class='xr-var-preview xr-preview'>...</div><input id='attrs-5de0e3ea-63d7-444b-8fc4-1f8c95866480' class='xr-var-attrs-in' type='checkbox' ><label for='attrs-5de0e3ea-63d7-444b-8fc4-1f8c95866480' title='Show/Hide attributes'><svg class='icon xr-icon-file-text2'><use xlink:href='#icon-file-text2'></use></svg></label><input id='data-789ed09e-51ce-4848-b132-016487c58b44' class='xr-var-data-in' type='checkbox'><label for='data-789ed09e-51ce-4848-b132-016487c58b44' title='Show/Hide data repr'><svg class='icon xr-icon-database'><use xlink:href='#icon-database'></use></svg></label><div class='xr-var-attrs'><dl class='xr-attrs'><dt><span>units :</span></dt><dd>K</dd></dl></div><div class='xr-var-data'><pre>[5472 values with dtype=float64]</pre></div></li><li class='xr-var-item'><div class='xr-var-name'><span>msl</span></div><div class='xr-var-dims'>(forecast_reference_time, step, latitude, longitude)</div><div class='xr-var-dtype'>float64</div><div class='xr-var-preview xr-preview'>...</div><input id='attrs-0db7ee29-1f90-4420-a9f6-f72ca67c53a7' class='xr-var-attrs-in' type='checkbox' ><label for='attrs-0db7ee29-1f90-4420-a9f6-f72ca67c53a7' title='Show/Hide attributes'><svg class='icon xr-icon-file-text2'><use xlink:href='#icon-file-text2'></use></svg></label><input id='data-753cee24-90b6-47ff-ba59-2d7ba7838307' class='xr-var-data-in' type='checkbox'><label for='data-753cee24-90b6-47ff-ba59-2d7ba7838307' title='Show/Hide data repr'><svg class='icon xr-icon-database'><use xlink:href='#icon-database'></use></svg></label><div class='xr-var-attrs'><dl class='xr-attrs'><dt><span>units :</span></dt><dd>Pa</dd></dl></div><div class='xr-var-data'><pre>[5472 values with dtype=float64]</pre></div></li><li class='xr-var-item'><div class='xr-var-name'><span>r</span></div><div class='xr-var-dims'>(forecast_reference_time, step, levelist, latitude, longitude)</div><div class='xr-var-dtype'>float64</div><div class='xr-var-preview xr-preview'>...</div><input id='attrs-43a01307-c4b9-4f54-a441-7dc3d327537e' class='xr-var-attrs-in' type='checkbox' ><label for='attrs-43a01307-c4b9-4f54-a441-7dc3d327537e' title='Show/Hide attributes'><svg class='icon xr-icon-file-text2'><use xlink:href='#icon-file-text2'></use></svg></label><input id='data-a555d20b-6c45-491b-9de2-0f45cbe95a7b' class='xr-var-data-in' type='checkbox'><label for='data-a555d20b-6c45-491b-9de2-0f45cbe95a7b' title='Show/Hide data repr'><svg class='icon xr-icon-database'><use xlink:href='#icon-database'></use></svg></label><div class='xr-var-attrs'><dl class='xr-attrs'><dt><span>units :</span></dt><dd>%</dd></dl></div><div class='xr-var-data'><pre>[32832 values with dtype=float64]</pre></div></li><li class='xr-var-item'><div class='xr-var-name'><span>t</span></div><div class='xr-var-dims'>(forecast_reference_time, step, levelist, latitude, longitude)</div><div class='xr-var-dtype'>float64</div><div class='xr-var-preview xr-preview'>...</div><input id='attrs-491aa870-1868-4c34-928e-ef6758078646' class='xr-var-attrs-in' type='checkbox' ><label for='attrs-491aa870-1868-4c34-928e-ef6758078646' title='Show/Hide attributes'><svg class='icon xr-icon-file-text2'><use xlink:href='#icon-file-text2'></use></svg></label><input id='data-44b1050a-1b01-40ec-874a-2df29ac1e42f' class='xr-var-data-in' type='checkbox'><label for='data-44b1050a-1b01-40ec-874a-2df29ac1e42f' title='Show/Hide data repr'><svg class='icon xr-icon-database'><use xlink:href='#icon-database'></use></svg></label><div class='xr-var-attrs'><dl class='xr-attrs'><dt><span>units :</span></dt><dd>K</dd></dl></div><div class='xr-var-data'><pre>[32832 values with dtype=float64]</pre></div></li><li class='xr-var-item'><div class='xr-var-name'><span>u</span></div><div class='xr-var-dims'>(forecast_reference_time, step, levelist, latitude, longitude)</div><div class='xr-var-dtype'>float64</div><div class='xr-var-preview xr-preview'>...</div><input id='attrs-41899df7-b7f8-4114-a96d-50de55f6b390' class='xr-var-attrs-in' type='checkbox' ><label for='attrs-41899df7-b7f8-4114-a96d-50de55f6b390' title='Show/Hide attributes'><svg class='icon xr-icon-file-text2'><use xlink:href='#icon-file-text2'></use></svg></label><input id='data-58acc44a-01dc-42c6-aac9-4d2cde4351d9' class='xr-var-data-in' type='checkbox'><label for='data-58acc44a-01dc-42c6-aac9-4d2cde4351d9' title='Show/Hide data repr'><svg class='icon xr-icon-database'><use xlink:href='#icon-database'></use></svg></label><div class='xr-var-attrs'><dl class='xr-attrs'><dt><span>units :</span></dt><dd>m s**-1</dd></dl></div><div class='xr-var-data'><pre>[32832 values with dtype=float64]</pre></div></li><li class='xr-var-item'><div class='xr-var-name'><span>v</span></div><div class='xr-var-dims'>(forecast_reference_time, step, levelist, latitude, longitude)</div><div class='xr-var-dtype'>float64</div><div class='xr-var-preview xr-preview'>...</div><input id='attrs-506d2652-e4d1-4861-8442-87376e3a58dc' class='xr-var-attrs-in' type='checkbox' ><label for='attrs-506d2652-e4d1-4861-8442-87376e3a58dc' title='Show/Hide attributes'><svg class='icon xr-icon-file-text2'><use xlink:href='#icon-file-text2'></use></svg></label><input id='data-7ab528f2-200f-4cc8-9140-b2e9fdc48328' class='xr-var-data-in' type='checkbox'><label for='data-7ab528f2-200f-4cc8-9140-b2e9fdc48328' title='Show/Hide data repr'><svg class='icon xr-icon-database'><use xlink:href='#icon-database'></use></svg></label><div class='xr-var-attrs'><dl class='xr-attrs'><dt><span>units :</span></dt><dd>m s**-1</dd></dl></div><div class='xr-var-data'><pre>[32832 values with dtype=float64]</pre></div></li><li class='xr-var-item'><div class='xr-var-name'><span>z</span></div><div class='xr-var-dims'>(forecast_reference_time, step, levelist, latitude, longitude)</div><div class='xr-var-dtype'>float64</div><div class='xr-var-preview xr-preview'>...</div><input id='attrs-8afa176a-49df-463f-bb5d-7a8ee2a7991e' class='xr-var-attrs-in' type='checkbox' ><label for='attrs-8afa176a-49df-463f-bb5d-7a8ee2a7991e' title='Show/Hide attributes'><svg class='icon xr-icon-file-text2'><use xlink:href='#icon-file-text2'></use></svg></label><input id='data-99cc9a9b-de11-4a21-bfbb-a847da9ab932' class='xr-var-data-in' type='checkbox'><label for='data-99cc9a9b-de11-4a21-bfbb-a847da9ab932' title='Show/Hide data repr'><svg class='icon xr-icon-database'><use xlink:href='#icon-database'></use></svg></label><div class='xr-var-attrs'><dl class='xr-attrs'><dt><span>units :</span></dt><dd>m**2 s**-2</dd></dl></div><div class='xr-var-data'><pre>[32832 values with dtype=float64]</pre></div></li></ul></div></li><li class='xr-section-item'><input id='section-bbeac7b4-2739-4a16-b7ca-0937c535ff7d' class='xr-section-summary-in' type='checkbox'  ><label for='section-bbeac7b4-2739-4a16-b7ca-0937c535ff7d' class='xr-section-summary' >Indexes: <span>(5)</span></label><div class='xr-section-inline-details'></div><div class='xr-section-details'><ul class='xr-var-list'><li class='xr-var-item'><div class='xr-index-name'><div>forecast_reference_time</div></div><div class='xr-index-preview'>PandasIndex</div><div></div><input id='index-0daa0f89-578b-4918-b971-e21aac0ef025' class='xr-index-data-in' type='checkbox'/><label for='index-0daa0f89-578b-4918-b971-e21aac0ef025' title='Show/Hide index repr'><svg class='icon xr-icon-database'><use xlink:href='#icon-database'></use></svg></label><div class='xr-index-data'><pre>PandasIndex(DatetimeIndex([&#x27;2024-06-03 00:00:00&#x27;, &#x27;2024-06-03 12:00:00&#x27;,\n",
       "               &#x27;2024-06-04 00:00:00&#x27;, &#x27;2024-06-04 12:00:00&#x27;],\n",
       "              dtype=&#x27;datetime64[ns]&#x27;, name=&#x27;forecast_reference_time&#x27;, freq=None))</pre></div></li><li class='xr-var-item'><div class='xr-index-name'><div>step</div></div><div class='xr-index-preview'>PandasIndex</div><div></div><input id='index-0b68243c-5cc5-49ca-b019-dfea5736116d' class='xr-index-data-in' type='checkbox'/><label for='index-0b68243c-5cc5-49ca-b019-dfea5736116d' title='Show/Hide index repr'><svg class='icon xr-icon-database'><use xlink:href='#icon-database'></use></svg></label><div class='xr-index-data'><pre>PandasIndex(TimedeltaIndex([&#x27;0 days 00:00:00&#x27;, &#x27;0 days 06:00:00&#x27;], dtype=&#x27;timedelta64[ns]&#x27;, name=&#x27;step&#x27;, freq=None))</pre></div></li><li class='xr-var-item'><div class='xr-index-name'><div>levelist</div></div><div class='xr-index-preview'>PandasIndex</div><div></div><input id='index-8a7eb15b-45ad-46b7-b91b-9b8d96d1a3e3' class='xr-index-data-in' type='checkbox'/><label for='index-8a7eb15b-45ad-46b7-b91b-9b8d96d1a3e3' title='Show/Hide index repr'><svg class='icon xr-icon-database'><use xlink:href='#icon-database'></use></svg></label><div class='xr-index-data'><pre>PandasIndex(Index([300, 400, 500, 700, 850, 1000], dtype=&#x27;int64&#x27;, name=&#x27;levelist&#x27;))</pre></div></li><li class='xr-var-item'><div class='xr-index-name'><div>latitude</div></div><div class='xr-index-preview'>PandasIndex</div><div></div><input id='index-fecbdb90-0f67-4740-bb1b-1cb521dedb03' class='xr-index-data-in' type='checkbox'/><label for='index-fecbdb90-0f67-4740-bb1b-1cb521dedb03' title='Show/Hide index repr'><svg class='icon xr-icon-database'><use xlink:href='#icon-database'></use></svg></label><div class='xr-index-data'><pre>PandasIndex(Index([ 90.0,  80.0,  70.0,  60.0,  50.0,  40.0,  30.0,  20.0,  10.0,   0.0,\n",
       "       -10.0, -20.0, -30.0, -40.0, -50.0, -60.0, -70.0, -80.0, -90.0],\n",
       "      dtype=&#x27;float64&#x27;, name=&#x27;latitude&#x27;))</pre></div></li><li class='xr-var-item'><div class='xr-index-name'><div>longitude</div></div><div class='xr-index-preview'>PandasIndex</div><div></div><input id='index-f85f0ce9-b990-49e0-b0e7-6e5c0ee1f4d6' class='xr-index-data-in' type='checkbox'/><label for='index-f85f0ce9-b990-49e0-b0e7-6e5c0ee1f4d6' title='Show/Hide index repr'><svg class='icon xr-icon-database'><use xlink:href='#icon-database'></use></svg></label><div class='xr-index-data'><pre>PandasIndex(Index([  0.0,  10.0,  20.0,  30.0,  40.0,  50.0,  60.0,  70.0,  80.0,  90.0,\n",
       "       100.0, 110.0, 120.0, 130.0, 140.0, 150.0, 160.0, 170.0, 180.0, 190.0,\n",
       "       200.0, 210.0, 220.0, 230.0, 240.0, 250.0, 260.0, 270.0, 280.0, 290.0,\n",
       "       300.0, 310.0, 320.0, 330.0, 340.0, 350.0],\n",
       "      dtype=&#x27;float64&#x27;, name=&#x27;longitude&#x27;))</pre></div></li></ul></div></li><li class='xr-section-item'><input id='section-65f1b194-bf3e-4232-9af1-c0232f02fdb0' class='xr-section-summary-in' type='checkbox' disabled ><label for='section-65f1b194-bf3e-4232-9af1-c0232f02fdb0' class='xr-section-summary'  title='Expand/collapse section'>Attributes: <span>(0)</span></label><div class='xr-section-inline-details'></div><div class='xr-section-details'><dl class='xr-attrs'></dl></div></li></ul></div></div>"
      ],
      "text/plain": [
       "<xarray.Dataset> Size: 1MB\n",
       "Dimensions:                  (forecast_reference_time: 4, step: 2,\n",
       "                              latitude: 19, longitude: 36, levelist: 6)\n",
       "Coordinates:\n",
       "  * forecast_reference_time  (forecast_reference_time) datetime64[ns] 32B 202...\n",
       "  * step                     (step) timedelta64[ns] 16B 00:00:00 06:00:00\n",
       "  * levelist                 (levelist) int64 48B 300 400 500 700 850 1000\n",
       "  * latitude                 (latitude) float64 152B 90.0 80.0 ... -80.0 -90.0\n",
       "  * longitude                (longitude) float64 288B 0.0 10.0 ... 340.0 350.0\n",
       "Data variables:\n",
       "    2t                       (forecast_reference_time, step, latitude, longitude) float64 44kB ...\n",
       "    msl                      (forecast_reference_time, step, latitude, longitude) float64 44kB ...\n",
       "    r                        (forecast_reference_time, step, levelist, latitude, longitude) float64 263kB ...\n",
       "    t                        (forecast_reference_time, step, levelist, latitude, longitude) float64 263kB ...\n",
       "    u                        (forecast_reference_time, step, levelist, latitude, longitude) float64 263kB ...\n",
       "    v                        (forecast_reference_time, step, levelist, latitude, longitude) float64 263kB ...\n",
       "    z                        (forecast_reference_time, step, levelist, latitude, longitude) float64 263kB ..."
      ]
     },
     "execution_count": 2,
     "metadata": {},
     "output_type": "execute_result"
    }
   ],
   "source": [
    "ds = ds_ek.to_xarray()\n",
    "ds"
   ]
  },
  {
   "cell_type": "code",
   "execution_count": 4,
   "id": "aec71ff9-4921-409f-b18b-1fd818ca60f7",
   "metadata": {},
   "outputs": [
    {
     "data": {
      "application/vnd.jupyter.widget-view+json": {
       "model_id": "",
       "version_major": 2,
       "version_minor": 0
      },
      "text/plain": [
       "Finding coords in dataset for ('forecast_reference_time', 'step'):   0%|          | 0.00/8.00 [00:00<?, ?B/s]"
      ]
     },
     "metadata": {},
     "output_type": "display_data"
    },
    {
     "data": {
      "application/vnd.jupyter.widget-view+json": {
       "model_id": "",
       "version_major": 2,
       "version_minor": 0
      },
      "text/plain": [
       "Finding coords in dataset for ('forecast_reference_time', 'step'):   0%|          | 0.00/8.00 [00:00<?, ?B/s]"
      ]
     },
     "metadata": {},
     "output_type": "display_data"
    },
    {
     "data": {
      "application/vnd.jupyter.widget-view+json": {
       "model_id": "",
       "version_major": 2,
       "version_minor": 0
      },
      "text/plain": [
       "Finding coords in dataset for ('forecast_reference_time', 'step'):   0%|          | 0.00/8.00 [00:00<?, ?B/s]"
      ]
     },
     "metadata": {},
     "output_type": "display_data"
    },
    {
     "data": {
      "application/vnd.jupyter.widget-view+json": {
       "model_id": "",
       "version_major": 2,
       "version_minor": 0
      },
      "text/plain": [
       "Finding coords in dataset for ('forecast_reference_time', 'step'):   0%|          | 0.00/8.00 [00:00<?, ?B/s]"
      ]
     },
     "metadata": {},
     "output_type": "display_data"
    },
    {
     "data": {
      "application/vnd.jupyter.widget-view+json": {
       "model_id": "",
       "version_major": 2,
       "version_minor": 0
      },
      "text/plain": [
       "Finding coords in dataset for ('forecast_reference_time', 'step'):   0%|          | 0.00/8.00 [00:00<?, ?B/s]"
      ]
     },
     "metadata": {},
     "output_type": "display_data"
    },
    {
     "data": {
      "application/vnd.jupyter.widget-view+json": {
       "model_id": "",
       "version_major": 2,
       "version_minor": 0
      },
      "text/plain": [
       "Finding coords in dataset for ('forecast_reference_time', 'step'):   0%|          | 0.00/8.00 [00:00<?, ?B/s]"
      ]
     },
     "metadata": {},
     "output_type": "display_data"
    },
    {
     "data": {
      "application/vnd.jupyter.widget-view+json": {
       "model_id": "",
       "version_major": 2,
       "version_minor": 0
      },
      "text/plain": [
       "Finding coords in dataset for ('forecast_reference_time', 'step'):   0%|          | 0.00/8.00 [00:00<?, ?B/s]"
      ]
     },
     "metadata": {},
     "output_type": "display_data"
    },
    {
     "data": {
      "application/vnd.jupyter.widget-view+json": {
       "model_id": "",
       "version_major": 2,
       "version_minor": 0
      },
      "text/plain": [
       "Finding coords in dataset for ('forecast_reference_time', 'step'):   0%|          | 0.00/8.00 [00:00<?, ?B/s]"
      ]
     },
     "metadata": {},
     "output_type": "display_data"
    },
    {
     "data": {
      "application/vnd.jupyter.widget-view+json": {
       "model_id": "",
       "version_major": 2,
       "version_minor": 0
      },
      "text/plain": [
       "Finding coords in dataset for ('forecast_reference_time', 'step'):   0%|          | 0.00/8.00 [00:00<?, ?B/s]"
      ]
     },
     "metadata": {},
     "output_type": "display_data"
    },
    {
     "data": {
      "application/vnd.jupyter.widget-view+json": {
       "model_id": "",
       "version_major": 2,
       "version_minor": 0
      },
      "text/plain": [
       "Finding coords in dataset for ('forecast_reference_time', 'step'):   0%|          | 0.00/8.00 [00:00<?, ?B/s]"
      ]
     },
     "metadata": {},
     "output_type": "display_data"
    },
    {
     "data": {
      "application/vnd.jupyter.widget-view+json": {
       "model_id": "",
       "version_major": 2,
       "version_minor": 0
      },
      "text/plain": [
       "Finding coords in dataset for ('forecast_reference_time', 'step'):   0%|          | 0.00/8.00 [00:00<?, ?B/s]"
      ]
     },
     "metadata": {},
     "output_type": "display_data"
    },
    {
     "data": {
      "application/vnd.jupyter.widget-view+json": {
       "model_id": "",
       "version_major": 2,
       "version_minor": 0
      },
      "text/plain": [
       "Finding coords in dataset for ('forecast_reference_time', 'step'):   0%|          | 0.00/8.00 [00:00<?, ?B/s]"
      ]
     },
     "metadata": {},
     "output_type": "display_data"
    },
    {
     "data": {
      "application/vnd.jupyter.widget-view+json": {
       "model_id": "",
       "version_major": 2,
       "version_minor": 0
      },
      "text/plain": [
       "Finding coords in dataset for ('forecast_reference_time', 'step'):   0%|          | 0.00/8.00 [00:00<?, ?B/s]"
      ]
     },
     "metadata": {},
     "output_type": "display_data"
    },
    {
     "data": {
      "application/vnd.jupyter.widget-view+json": {
       "model_id": "",
       "version_major": 2,
       "version_minor": 0
      },
      "text/plain": [
       "Finding coords in dataset for ('forecast_reference_time', 'step'):   0%|          | 0.00/8.00 [00:00<?, ?B/s]"
      ]
     },
     "metadata": {},
     "output_type": "display_data"
    },
    {
     "data": {
      "application/vnd.jupyter.widget-view+json": {
       "model_id": "",
       "version_major": 2,
       "version_minor": 0
      },
      "text/plain": [
       "Finding coords in dataset for ('forecast_reference_time', 'step'):   0%|          | 0.00/8.00 [00:00<?, ?B/s]"
      ]
     },
     "metadata": {},
     "output_type": "display_data"
    },
    {
     "data": {
      "application/vnd.jupyter.widget-view+json": {
       "model_id": "",
       "version_major": 2,
       "version_minor": 0
      },
      "text/plain": [
       "Finding coords in dataset for ('forecast_reference_time', 'step'):   0%|          | 0.00/8.00 [00:00<?, ?B/s]"
      ]
     },
     "metadata": {},
     "output_type": "display_data"
    },
    {
     "data": {
      "application/vnd.jupyter.widget-view+json": {
       "model_id": "",
       "version_major": 2,
       "version_minor": 0
      },
      "text/plain": [
       "Finding coords in dataset for ('forecast_reference_time', 'step'):   0%|          | 0.00/8.00 [00:00<?, ?B/s]"
      ]
     },
     "metadata": {},
     "output_type": "display_data"
    },
    {
     "data": {
      "application/vnd.jupyter.widget-view+json": {
       "model_id": "",
       "version_major": 2,
       "version_minor": 0
      },
      "text/plain": [
       "Finding coords in dataset for ('forecast_reference_time', 'step'):   0%|          | 0.00/8.00 [00:00<?, ?B/s]"
      ]
     },
     "metadata": {},
     "output_type": "display_data"
    },
    {
     "data": {
      "application/vnd.jupyter.widget-view+json": {
       "model_id": "",
       "version_major": 2,
       "version_minor": 0
      },
      "text/plain": [
       "Finding coords in dataset for ('forecast_reference_time', 'step'):   0%|          | 0.00/8.00 [00:00<?, ?B/s]"
      ]
     },
     "metadata": {},
     "output_type": "display_data"
    },
    {
     "data": {
      "application/vnd.jupyter.widget-view+json": {
       "model_id": "",
       "version_major": 2,
       "version_minor": 0
      },
      "text/plain": [
       "Finding coords in dataset for ('forecast_reference_time', 'step'):   0%|          | 0.00/8.00 [00:00<?, ?B/s]"
      ]
     },
     "metadata": {},
     "output_type": "display_data"
    },
    {
     "data": {
      "application/vnd.jupyter.widget-view+json": {
       "model_id": "",
       "version_major": 2,
       "version_minor": 0
      },
      "text/plain": [
       "Finding coords in dataset for ('forecast_reference_time', 'step'):   0%|          | 0.00/8.00 [00:00<?, ?B/s]"
      ]
     },
     "metadata": {},
     "output_type": "display_data"
    },
    {
     "data": {
      "application/vnd.jupyter.widget-view+json": {
       "model_id": "",
       "version_major": 2,
       "version_minor": 0
      },
      "text/plain": [
       "Finding coords in dataset for ('forecast_reference_time', 'step'):   0%|          | 0.00/8.00 [00:00<?, ?B/s]"
      ]
     },
     "metadata": {},
     "output_type": "display_data"
    },
    {
     "data": {
      "application/vnd.jupyter.widget-view+json": {
       "model_id": "",
       "version_major": 2,
       "version_minor": 0
      },
      "text/plain": [
       "Finding coords in dataset for ('forecast_reference_time', 'step'):   0%|          | 0.00/8.00 [00:00<?, ?B/s]"
      ]
     },
     "metadata": {},
     "output_type": "display_data"
    },
    {
     "data": {
      "application/vnd.jupyter.widget-view+json": {
       "model_id": "",
       "version_major": 2,
       "version_minor": 0
      },
      "text/plain": [
       "Finding coords in dataset for ('forecast_reference_time', 'step'):   0%|          | 0.00/8.00 [00:00<?, ?B/s]"
      ]
     },
     "metadata": {},
     "output_type": "display_data"
    },
    {
     "data": {
      "application/vnd.jupyter.widget-view+json": {
       "model_id": "",
       "version_major": 2,
       "version_minor": 0
      },
      "text/plain": [
       "Finding coords in dataset for ('forecast_reference_time', 'step'):   0%|          | 0.00/8.00 [00:00<?, ?B/s]"
      ]
     },
     "metadata": {},
     "output_type": "display_data"
    },
    {
     "data": {
      "application/vnd.jupyter.widget-view+json": {
       "model_id": "",
       "version_major": 2,
       "version_minor": 0
      },
      "text/plain": [
       "Finding coords in dataset for ('forecast_reference_time', 'step'):   0%|          | 0.00/8.00 [00:00<?, ?B/s]"
      ]
     },
     "metadata": {},
     "output_type": "display_data"
    },
    {
     "data": {
      "application/vnd.jupyter.widget-view+json": {
       "model_id": "",
       "version_major": 2,
       "version_minor": 0
      },
      "text/plain": [
       "Finding coords in dataset for ('forecast_reference_time', 'step'):   0%|          | 0.00/8.00 [00:00<?, ?B/s]"
      ]
     },
     "metadata": {},
     "output_type": "display_data"
    },
    {
     "data": {
      "application/vnd.jupyter.widget-view+json": {
       "model_id": "",
       "version_major": 2,
       "version_minor": 0
      },
      "text/plain": [
       "Finding coords in dataset for ('forecast_reference_time', 'step'):   0%|          | 0.00/8.00 [00:00<?, ?B/s]"
      ]
     },
     "metadata": {},
     "output_type": "display_data"
    },
    {
     "data": {
      "application/vnd.jupyter.widget-view+json": {
       "model_id": "",
       "version_major": 2,
       "version_minor": 0
      },
      "text/plain": [
       "Finding coords in dataset for ('forecast_reference_time', 'step'):   0%|          | 0.00/8.00 [00:00<?, ?B/s]"
      ]
     },
     "metadata": {},
     "output_type": "display_data"
    },
    {
     "data": {
      "application/vnd.jupyter.widget-view+json": {
       "model_id": "",
       "version_major": 2,
       "version_minor": 0
      },
      "text/plain": [
       "Finding coords in dataset for ('forecast_reference_time', 'step'):   0%|          | 0.00/8.00 [00:00<?, ?B/s]"
      ]
     },
     "metadata": {},
     "output_type": "display_data"
    },
    {
     "data": {
      "application/vnd.jupyter.widget-view+json": {
       "model_id": "",
       "version_major": 2,
       "version_minor": 0
      },
      "text/plain": [
       "Finding coords in dataset for ('forecast_reference_time', 'step'):   0%|          | 0.00/8.00 [00:00<?, ?B/s]"
      ]
     },
     "metadata": {},
     "output_type": "display_data"
    },
    {
     "data": {
      "application/vnd.jupyter.widget-view+json": {
       "model_id": "",
       "version_major": 2,
       "version_minor": 0
      },
      "text/plain": [
       "Finding coords in dataset for ('forecast_reference_time', 'step'):   0%|          | 0.00/8.00 [00:00<?, ?B/s]"
      ]
     },
     "metadata": {},
     "output_type": "display_data"
    },
    {
     "data": {
      "text/html": [
       "<div><svg style=\"position: absolute; width: 0; height: 0; overflow: hidden\">\n",
       "<defs>\n",
       "<symbol id=\"icon-database\" viewBox=\"0 0 32 32\">\n",
       "<path d=\"M16 0c-8.837 0-16 2.239-16 5v4c0 2.761 7.163 5 16 5s16-2.239 16-5v-4c0-2.761-7.163-5-16-5z\"></path>\n",
       "<path d=\"M16 17c-8.837 0-16-2.239-16-5v6c0 2.761 7.163 5 16 5s16-2.239 16-5v-6c0 2.761-7.163 5-16 5z\"></path>\n",
       "<path d=\"M16 26c-8.837 0-16-2.239-16-5v6c0 2.761 7.163 5 16 5s16-2.239 16-5v-6c0 2.761-7.163 5-16 5z\"></path>\n",
       "</symbol>\n",
       "<symbol id=\"icon-file-text2\" viewBox=\"0 0 32 32\">\n",
       "<path d=\"M28.681 7.159c-0.694-0.947-1.662-2.053-2.724-3.116s-2.169-2.030-3.116-2.724c-1.612-1.182-2.393-1.319-2.841-1.319h-15.5c-1.378 0-2.5 1.121-2.5 2.5v27c0 1.378 1.122 2.5 2.5 2.5h23c1.378 0 2.5-1.122 2.5-2.5v-19.5c0-0.448-0.137-1.23-1.319-2.841zM24.543 5.457c0.959 0.959 1.712 1.825 2.268 2.543h-4.811v-4.811c0.718 0.556 1.584 1.309 2.543 2.268zM28 29.5c0 0.271-0.229 0.5-0.5 0.5h-23c-0.271 0-0.5-0.229-0.5-0.5v-27c0-0.271 0.229-0.5 0.5-0.5 0 0 15.499-0 15.5 0v7c0 0.552 0.448 1 1 1h7v19.5z\"></path>\n",
       "<path d=\"M23 26h-14c-0.552 0-1-0.448-1-1s0.448-1 1-1h14c0.552 0 1 0.448 1 1s-0.448 1-1 1z\"></path>\n",
       "<path d=\"M23 22h-14c-0.552 0-1-0.448-1-1s0.448-1 1-1h14c0.552 0 1 0.448 1 1s-0.448 1-1 1z\"></path>\n",
       "<path d=\"M23 18h-14c-0.552 0-1-0.448-1-1s0.448-1 1-1h14c0.552 0 1 0.448 1 1s-0.448 1-1 1z\"></path>\n",
       "</symbol>\n",
       "</defs>\n",
       "</svg>\n",
       "<style>/* CSS stylesheet for displaying xarray objects in jupyterlab.\n",
       " *\n",
       " */\n",
       "\n",
       ":root {\n",
       "  --xr-font-color0: var(--jp-content-font-color0, rgba(0, 0, 0, 1));\n",
       "  --xr-font-color2: var(--jp-content-font-color2, rgba(0, 0, 0, 0.54));\n",
       "  --xr-font-color3: var(--jp-content-font-color3, rgba(0, 0, 0, 0.38));\n",
       "  --xr-border-color: var(--jp-border-color2, #e0e0e0);\n",
       "  --xr-disabled-color: var(--jp-layout-color3, #bdbdbd);\n",
       "  --xr-background-color: var(--jp-layout-color0, white);\n",
       "  --xr-background-color-row-even: var(--jp-layout-color1, white);\n",
       "  --xr-background-color-row-odd: var(--jp-layout-color2, #eeeeee);\n",
       "}\n",
       "\n",
       "html[theme=dark],\n",
       "html[data-theme=dark],\n",
       "body[data-theme=dark],\n",
       "body.vscode-dark {\n",
       "  --xr-font-color0: rgba(255, 255, 255, 1);\n",
       "  --xr-font-color2: rgba(255, 255, 255, 0.54);\n",
       "  --xr-font-color3: rgba(255, 255, 255, 0.38);\n",
       "  --xr-border-color: #1F1F1F;\n",
       "  --xr-disabled-color: #515151;\n",
       "  --xr-background-color: #111111;\n",
       "  --xr-background-color-row-even: #111111;\n",
       "  --xr-background-color-row-odd: #313131;\n",
       "}\n",
       "\n",
       ".xr-wrap {\n",
       "  display: block !important;\n",
       "  min-width: 300px;\n",
       "  max-width: 700px;\n",
       "}\n",
       "\n",
       ".xr-text-repr-fallback {\n",
       "  /* fallback to plain text repr when CSS is not injected (untrusted notebook) */\n",
       "  display: none;\n",
       "}\n",
       "\n",
       ".xr-header {\n",
       "  padding-top: 6px;\n",
       "  padding-bottom: 6px;\n",
       "  margin-bottom: 4px;\n",
       "  border-bottom: solid 1px var(--xr-border-color);\n",
       "}\n",
       "\n",
       ".xr-header > div,\n",
       ".xr-header > ul {\n",
       "  display: inline;\n",
       "  margin-top: 0;\n",
       "  margin-bottom: 0;\n",
       "}\n",
       "\n",
       ".xr-obj-type,\n",
       ".xr-array-name {\n",
       "  margin-left: 2px;\n",
       "  margin-right: 10px;\n",
       "}\n",
       "\n",
       ".xr-obj-type {\n",
       "  color: var(--xr-font-color2);\n",
       "}\n",
       "\n",
       ".xr-sections {\n",
       "  padding-left: 0 !important;\n",
       "  display: grid;\n",
       "  grid-template-columns: 150px auto auto 1fr 20px 20px;\n",
       "}\n",
       "\n",
       ".xr-section-item {\n",
       "  display: contents;\n",
       "}\n",
       "\n",
       ".xr-section-item input {\n",
       "  display: none;\n",
       "}\n",
       "\n",
       ".xr-section-item input + label {\n",
       "  color: var(--xr-disabled-color);\n",
       "}\n",
       "\n",
       ".xr-section-item input:enabled + label {\n",
       "  cursor: pointer;\n",
       "  color: var(--xr-font-color2);\n",
       "}\n",
       "\n",
       ".xr-section-item input:enabled + label:hover {\n",
       "  color: var(--xr-font-color0);\n",
       "}\n",
       "\n",
       ".xr-section-summary {\n",
       "  grid-column: 1;\n",
       "  color: var(--xr-font-color2);\n",
       "  font-weight: 500;\n",
       "}\n",
       "\n",
       ".xr-section-summary > span {\n",
       "  display: inline-block;\n",
       "  padding-left: 0.5em;\n",
       "}\n",
       "\n",
       ".xr-section-summary-in:disabled + label {\n",
       "  color: var(--xr-font-color2);\n",
       "}\n",
       "\n",
       ".xr-section-summary-in + label:before {\n",
       "  display: inline-block;\n",
       "  content: '►';\n",
       "  font-size: 11px;\n",
       "  width: 15px;\n",
       "  text-align: center;\n",
       "}\n",
       "\n",
       ".xr-section-summary-in:disabled + label:before {\n",
       "  color: var(--xr-disabled-color);\n",
       "}\n",
       "\n",
       ".xr-section-summary-in:checked + label:before {\n",
       "  content: '▼';\n",
       "}\n",
       "\n",
       ".xr-section-summary-in:checked + label > span {\n",
       "  display: none;\n",
       "}\n",
       "\n",
       ".xr-section-summary,\n",
       ".xr-section-inline-details {\n",
       "  padding-top: 4px;\n",
       "  padding-bottom: 4px;\n",
       "}\n",
       "\n",
       ".xr-section-inline-details {\n",
       "  grid-column: 2 / -1;\n",
       "}\n",
       "\n",
       ".xr-section-details {\n",
       "  display: none;\n",
       "  grid-column: 1 / -1;\n",
       "  margin-bottom: 5px;\n",
       "}\n",
       "\n",
       ".xr-section-summary-in:checked ~ .xr-section-details {\n",
       "  display: contents;\n",
       "}\n",
       "\n",
       ".xr-array-wrap {\n",
       "  grid-column: 1 / -1;\n",
       "  display: grid;\n",
       "  grid-template-columns: 20px auto;\n",
       "}\n",
       "\n",
       ".xr-array-wrap > label {\n",
       "  grid-column: 1;\n",
       "  vertical-align: top;\n",
       "}\n",
       "\n",
       ".xr-preview {\n",
       "  color: var(--xr-font-color3);\n",
       "}\n",
       "\n",
       ".xr-array-preview,\n",
       ".xr-array-data {\n",
       "  padding: 0 5px !important;\n",
       "  grid-column: 2;\n",
       "}\n",
       "\n",
       ".xr-array-data,\n",
       ".xr-array-in:checked ~ .xr-array-preview {\n",
       "  display: none;\n",
       "}\n",
       "\n",
       ".xr-array-in:checked ~ .xr-array-data,\n",
       ".xr-array-preview {\n",
       "  display: inline-block;\n",
       "}\n",
       "\n",
       ".xr-dim-list {\n",
       "  display: inline-block !important;\n",
       "  list-style: none;\n",
       "  padding: 0 !important;\n",
       "  margin: 0;\n",
       "}\n",
       "\n",
       ".xr-dim-list li {\n",
       "  display: inline-block;\n",
       "  padding: 0;\n",
       "  margin: 0;\n",
       "}\n",
       "\n",
       ".xr-dim-list:before {\n",
       "  content: '(';\n",
       "}\n",
       "\n",
       ".xr-dim-list:after {\n",
       "  content: ')';\n",
       "}\n",
       "\n",
       ".xr-dim-list li:not(:last-child):after {\n",
       "  content: ',';\n",
       "  padding-right: 5px;\n",
       "}\n",
       "\n",
       ".xr-has-index {\n",
       "  font-weight: bold;\n",
       "}\n",
       "\n",
       ".xr-var-list,\n",
       ".xr-var-item {\n",
       "  display: contents;\n",
       "}\n",
       "\n",
       ".xr-var-item > div,\n",
       ".xr-var-item label,\n",
       ".xr-var-item > .xr-var-name span {\n",
       "  background-color: var(--xr-background-color-row-even);\n",
       "  margin-bottom: 0;\n",
       "}\n",
       "\n",
       ".xr-var-item > .xr-var-name:hover span {\n",
       "  padding-right: 5px;\n",
       "}\n",
       "\n",
       ".xr-var-list > li:nth-child(odd) > div,\n",
       ".xr-var-list > li:nth-child(odd) > label,\n",
       ".xr-var-list > li:nth-child(odd) > .xr-var-name span {\n",
       "  background-color: var(--xr-background-color-row-odd);\n",
       "}\n",
       "\n",
       ".xr-var-name {\n",
       "  grid-column: 1;\n",
       "}\n",
       "\n",
       ".xr-var-dims {\n",
       "  grid-column: 2;\n",
       "}\n",
       "\n",
       ".xr-var-dtype {\n",
       "  grid-column: 3;\n",
       "  text-align: right;\n",
       "  color: var(--xr-font-color2);\n",
       "}\n",
       "\n",
       ".xr-var-preview {\n",
       "  grid-column: 4;\n",
       "}\n",
       "\n",
       ".xr-index-preview {\n",
       "  grid-column: 2 / 5;\n",
       "  color: var(--xr-font-color2);\n",
       "}\n",
       "\n",
       ".xr-var-name,\n",
       ".xr-var-dims,\n",
       ".xr-var-dtype,\n",
       ".xr-preview,\n",
       ".xr-attrs dt {\n",
       "  white-space: nowrap;\n",
       "  overflow: hidden;\n",
       "  text-overflow: ellipsis;\n",
       "  padding-right: 10px;\n",
       "}\n",
       "\n",
       ".xr-var-name:hover,\n",
       ".xr-var-dims:hover,\n",
       ".xr-var-dtype:hover,\n",
       ".xr-attrs dt:hover {\n",
       "  overflow: visible;\n",
       "  width: auto;\n",
       "  z-index: 1;\n",
       "}\n",
       "\n",
       ".xr-var-attrs,\n",
       ".xr-var-data,\n",
       ".xr-index-data {\n",
       "  display: none;\n",
       "  background-color: var(--xr-background-color) !important;\n",
       "  padding-bottom: 5px !important;\n",
       "}\n",
       "\n",
       ".xr-var-attrs-in:checked ~ .xr-var-attrs,\n",
       ".xr-var-data-in:checked ~ .xr-var-data,\n",
       ".xr-index-data-in:checked ~ .xr-index-data {\n",
       "  display: block;\n",
       "}\n",
       "\n",
       ".xr-var-data > table {\n",
       "  float: right;\n",
       "}\n",
       "\n",
       ".xr-var-name span,\n",
       ".xr-var-data,\n",
       ".xr-index-name div,\n",
       ".xr-index-data,\n",
       ".xr-attrs {\n",
       "  padding-left: 25px !important;\n",
       "}\n",
       "\n",
       ".xr-attrs,\n",
       ".xr-var-attrs,\n",
       ".xr-var-data,\n",
       ".xr-index-data {\n",
       "  grid-column: 1 / -1;\n",
       "}\n",
       "\n",
       "dl.xr-attrs {\n",
       "  padding: 0;\n",
       "  margin: 0;\n",
       "  display: grid;\n",
       "  grid-template-columns: 125px auto;\n",
       "}\n",
       "\n",
       ".xr-attrs dt,\n",
       ".xr-attrs dd {\n",
       "  padding: 0;\n",
       "  margin: 0;\n",
       "  float: left;\n",
       "  padding-right: 10px;\n",
       "  width: auto;\n",
       "}\n",
       "\n",
       ".xr-attrs dt {\n",
       "  font-weight: normal;\n",
       "  grid-column: 1;\n",
       "}\n",
       "\n",
       ".xr-attrs dt:hover span {\n",
       "  display: inline-block;\n",
       "  background: var(--xr-background-color);\n",
       "  padding-right: 10px;\n",
       "}\n",
       "\n",
       ".xr-attrs dd {\n",
       "  grid-column: 2;\n",
       "  white-space: pre-wrap;\n",
       "  word-break: break-all;\n",
       "}\n",
       "\n",
       ".xr-icon-database,\n",
       ".xr-icon-file-text2,\n",
       ".xr-no-icon {\n",
       "  display: inline-block;\n",
       "  vertical-align: middle;\n",
       "  width: 1em;\n",
       "  height: 1.5em !important;\n",
       "  stroke-width: 0;\n",
       "  stroke: currentColor;\n",
       "  fill: currentColor;\n",
       "}\n",
       "</style><pre class='xr-text-repr-fallback'>&lt;xarray.Dataset&gt; Size: 1MB\n",
       "Dimensions:                  (forecast_reference_time: 4, step: 2,\n",
       "                              latitude: 19, longitude: 36)\n",
       "Coordinates:\n",
       "  * forecast_reference_time  (forecast_reference_time) datetime64[ns] 32B 202...\n",
       "  * step                     (step) timedelta64[ns] 16B 00:00:00 06:00:00\n",
       "  * latitude                 (latitude) float64 152B 90.0 80.0 ... -80.0 -90.0\n",
       "  * longitude                (longitude) float64 288B 0.0 10.0 ... 340.0 350.0\n",
       "Data variables: (12/32)\n",
       "    2t_sfc                   (forecast_reference_time, step, latitude, longitude) float64 44kB ...\n",
       "    msl_sfc                  (forecast_reference_time, step, latitude, longitude) float64 44kB ...\n",
       "    r_1000_pl                (forecast_reference_time, step, latitude, longitude) float64 44kB ...\n",
       "    r_300_pl                 (forecast_reference_time, step, latitude, longitude) float64 44kB ...\n",
       "    r_400_pl                 (forecast_reference_time, step, latitude, longitude) float64 44kB ...\n",
       "    r_500_pl                 (forecast_reference_time, step, latitude, longitude) float64 44kB ...\n",
       "    ...                       ...\n",
       "    z_1000_pl                (forecast_reference_time, step, latitude, longitude) float64 44kB ...\n",
       "    z_300_pl                 (forecast_reference_time, step, latitude, longitude) float64 44kB ...\n",
       "    z_400_pl                 (forecast_reference_time, step, latitude, longitude) float64 44kB ...\n",
       "    z_500_pl                 (forecast_reference_time, step, latitude, longitude) float64 44kB ...\n",
       "    z_700_pl                 (forecast_reference_time, step, latitude, longitude) float64 44kB ...\n",
       "    z_850_pl                 (forecast_reference_time, step, latitude, longitude) float64 44kB ...</pre><div class='xr-wrap' style='display:none'><div class='xr-header'><div class='xr-obj-type'>xarray.Dataset</div></div><ul class='xr-sections'><li class='xr-section-item'><input id='section-4cd0c05f-c6da-4260-987d-07fd4c242b32' class='xr-section-summary-in' type='checkbox' disabled ><label for='section-4cd0c05f-c6da-4260-987d-07fd4c242b32' class='xr-section-summary'  title='Expand/collapse section'>Dimensions:</label><div class='xr-section-inline-details'><ul class='xr-dim-list'><li><span class='xr-has-index'>forecast_reference_time</span>: 4</li><li><span class='xr-has-index'>step</span>: 2</li><li><span class='xr-has-index'>latitude</span>: 19</li><li><span class='xr-has-index'>longitude</span>: 36</li></ul></div><div class='xr-section-details'></div></li><li class='xr-section-item'><input id='section-4e73f4e1-7d41-4ab2-8357-811e17b31f4a' class='xr-section-summary-in' type='checkbox'  checked><label for='section-4e73f4e1-7d41-4ab2-8357-811e17b31f4a' class='xr-section-summary' >Coordinates: <span>(4)</span></label><div class='xr-section-inline-details'></div><div class='xr-section-details'><ul class='xr-var-list'><li class='xr-var-item'><div class='xr-var-name'><span class='xr-has-index'>forecast_reference_time</span></div><div class='xr-var-dims'>(forecast_reference_time)</div><div class='xr-var-dtype'>datetime64[ns]</div><div class='xr-var-preview xr-preview'>2024-06-03 ... 2024-06-04T12:00:00</div><input id='attrs-b91fc6e3-6e73-4735-988e-6038213ac093' class='xr-var-attrs-in' type='checkbox' ><label for='attrs-b91fc6e3-6e73-4735-988e-6038213ac093' title='Show/Hide attributes'><svg class='icon xr-icon-file-text2'><use xlink:href='#icon-file-text2'></use></svg></label><input id='data-6ee17966-5cd6-4907-be6f-be49bddd8444' class='xr-var-data-in' type='checkbox'><label for='data-6ee17966-5cd6-4907-be6f-be49bddd8444' title='Show/Hide data repr'><svg class='icon xr-icon-database'><use xlink:href='#icon-database'></use></svg></label><div class='xr-var-attrs'><dl class='xr-attrs'><dt><span>standard_name :</span></dt><dd>forecast_reference_time</dd><dt><span>long_name :</span></dt><dd>initial time of forecast</dd></dl></div><div class='xr-var-data'><pre>array([&#x27;2024-06-03T00:00:00.000000000&#x27;, &#x27;2024-06-03T12:00:00.000000000&#x27;,\n",
       "       &#x27;2024-06-04T00:00:00.000000000&#x27;, &#x27;2024-06-04T12:00:00.000000000&#x27;],\n",
       "      dtype=&#x27;datetime64[ns]&#x27;)</pre></div></li><li class='xr-var-item'><div class='xr-var-name'><span class='xr-has-index'>step</span></div><div class='xr-var-dims'>(step)</div><div class='xr-var-dtype'>timedelta64[ns]</div><div class='xr-var-preview xr-preview'>00:00:00 06:00:00</div><input id='attrs-c731836a-ce29-425d-bdf8-bb2a9231e005' class='xr-var-attrs-in' type='checkbox' ><label for='attrs-c731836a-ce29-425d-bdf8-bb2a9231e005' title='Show/Hide attributes'><svg class='icon xr-icon-file-text2'><use xlink:href='#icon-file-text2'></use></svg></label><input id='data-55e43a7f-1c74-4963-a3bf-30aff03ad0a2' class='xr-var-data-in' type='checkbox'><label for='data-55e43a7f-1c74-4963-a3bf-30aff03ad0a2' title='Show/Hide data repr'><svg class='icon xr-icon-database'><use xlink:href='#icon-database'></use></svg></label><div class='xr-var-attrs'><dl class='xr-attrs'><dt><span>standard_name :</span></dt><dd>forecast_period</dd><dt><span>long_name :</span></dt><dd>time since forecast_reference_time</dd></dl></div><div class='xr-var-data'><pre>array([             0, 21600000000000], dtype=&#x27;timedelta64[ns]&#x27;)</pre></div></li><li class='xr-var-item'><div class='xr-var-name'><span class='xr-has-index'>latitude</span></div><div class='xr-var-dims'>(latitude)</div><div class='xr-var-dtype'>float64</div><div class='xr-var-preview xr-preview'>90.0 80.0 70.0 ... -80.0 -90.0</div><input id='attrs-a76240ce-1c33-4b84-b546-82ea87790cfb' class='xr-var-attrs-in' type='checkbox' ><label for='attrs-a76240ce-1c33-4b84-b546-82ea87790cfb' title='Show/Hide attributes'><svg class='icon xr-icon-file-text2'><use xlink:href='#icon-file-text2'></use></svg></label><input id='data-af3d8f87-42aa-4886-87b5-d2867b17f042' class='xr-var-data-in' type='checkbox'><label for='data-af3d8f87-42aa-4886-87b5-d2867b17f042' title='Show/Hide data repr'><svg class='icon xr-icon-database'><use xlink:href='#icon-database'></use></svg></label><div class='xr-var-attrs'><dl class='xr-attrs'><dt><span>units :</span></dt><dd>degrees_north</dd><dt><span>standard_name :</span></dt><dd>latitude</dd><dt><span>long_name :</span></dt><dd>latitude</dd></dl></div><div class='xr-var-data'><pre>array([ 90.,  80.,  70.,  60.,  50.,  40.,  30.,  20.,  10.,   0., -10., -20.,\n",
       "       -30., -40., -50., -60., -70., -80., -90.])</pre></div></li><li class='xr-var-item'><div class='xr-var-name'><span class='xr-has-index'>longitude</span></div><div class='xr-var-dims'>(longitude)</div><div class='xr-var-dtype'>float64</div><div class='xr-var-preview xr-preview'>0.0 10.0 20.0 ... 330.0 340.0 350.0</div><input id='attrs-46931e72-e89e-43e5-a4cd-e109e69be4d0' class='xr-var-attrs-in' type='checkbox' ><label for='attrs-46931e72-e89e-43e5-a4cd-e109e69be4d0' title='Show/Hide attributes'><svg class='icon xr-icon-file-text2'><use xlink:href='#icon-file-text2'></use></svg></label><input id='data-946a59bc-acb0-4f72-a0e3-3dc81c3ead23' class='xr-var-data-in' type='checkbox'><label for='data-946a59bc-acb0-4f72-a0e3-3dc81c3ead23' title='Show/Hide data repr'><svg class='icon xr-icon-database'><use xlink:href='#icon-database'></use></svg></label><div class='xr-var-attrs'><dl class='xr-attrs'><dt><span>units :</span></dt><dd>degrees_east</dd><dt><span>standard_name :</span></dt><dd>longitude</dd><dt><span>long_name :</span></dt><dd>longitude</dd></dl></div><div class='xr-var-data'><pre>array([  0.,  10.,  20.,  30.,  40.,  50.,  60.,  70.,  80.,  90., 100., 110.,\n",
       "       120., 130., 140., 150., 160., 170., 180., 190., 200., 210., 220., 230.,\n",
       "       240., 250., 260., 270., 280., 290., 300., 310., 320., 330., 340., 350.])</pre></div></li></ul></div></li><li class='xr-section-item'><input id='section-30535a45-3935-45a8-b7d3-bc32666a71b1' class='xr-section-summary-in' type='checkbox'  ><label for='section-30535a45-3935-45a8-b7d3-bc32666a71b1' class='xr-section-summary' >Data variables: <span>(32)</span></label><div class='xr-section-inline-details'></div><div class='xr-section-details'><ul class='xr-var-list'><li class='xr-var-item'><div class='xr-var-name'><span>2t_sfc</span></div><div class='xr-var-dims'>(forecast_reference_time, step, latitude, longitude)</div><div class='xr-var-dtype'>float64</div><div class='xr-var-preview xr-preview'>...</div><input id='attrs-d30f497d-5be2-48af-a673-8bbd3b9932b6' class='xr-var-attrs-in' type='checkbox' ><label for='attrs-d30f497d-5be2-48af-a673-8bbd3b9932b6' title='Show/Hide attributes'><svg class='icon xr-icon-file-text2'><use xlink:href='#icon-file-text2'></use></svg></label><input id='data-4a127ed5-2c03-4297-bfed-f82f7017843d' class='xr-var-data-in' type='checkbox'><label for='data-4a127ed5-2c03-4297-bfed-f82f7017843d' title='Show/Hide data repr'><svg class='icon xr-icon-database'><use xlink:href='#icon-database'></use></svg></label><div class='xr-var-attrs'><dl class='xr-attrs'><dt><span>units :</span></dt><dd>K</dd></dl></div><div class='xr-var-data'><pre>[5472 values with dtype=float64]</pre></div></li><li class='xr-var-item'><div class='xr-var-name'><span>msl_sfc</span></div><div class='xr-var-dims'>(forecast_reference_time, step, latitude, longitude)</div><div class='xr-var-dtype'>float64</div><div class='xr-var-preview xr-preview'>...</div><input id='attrs-a41d414d-b56a-456b-965b-0de7cca5c677' class='xr-var-attrs-in' type='checkbox' ><label for='attrs-a41d414d-b56a-456b-965b-0de7cca5c677' title='Show/Hide attributes'><svg class='icon xr-icon-file-text2'><use xlink:href='#icon-file-text2'></use></svg></label><input id='data-9d9f2364-23f9-4fb1-b64b-ee4c2a929973' class='xr-var-data-in' type='checkbox'><label for='data-9d9f2364-23f9-4fb1-b64b-ee4c2a929973' title='Show/Hide data repr'><svg class='icon xr-icon-database'><use xlink:href='#icon-database'></use></svg></label><div class='xr-var-attrs'><dl class='xr-attrs'><dt><span>units :</span></dt><dd>Pa</dd></dl></div><div class='xr-var-data'><pre>[5472 values with dtype=float64]</pre></div></li><li class='xr-var-item'><div class='xr-var-name'><span>r_1000_pl</span></div><div class='xr-var-dims'>(forecast_reference_time, step, latitude, longitude)</div><div class='xr-var-dtype'>float64</div><div class='xr-var-preview xr-preview'>...</div><input id='attrs-f12cdf4a-6167-4f3e-843d-bead1bd7b7e4' class='xr-var-attrs-in' type='checkbox' ><label for='attrs-f12cdf4a-6167-4f3e-843d-bead1bd7b7e4' title='Show/Hide attributes'><svg class='icon xr-icon-file-text2'><use xlink:href='#icon-file-text2'></use></svg></label><input id='data-bc1f2f3f-2ec0-4dd4-bbc2-b8e6c87c688a' class='xr-var-data-in' type='checkbox'><label for='data-bc1f2f3f-2ec0-4dd4-bbc2-b8e6c87c688a' title='Show/Hide data repr'><svg class='icon xr-icon-database'><use xlink:href='#icon-database'></use></svg></label><div class='xr-var-attrs'><dl class='xr-attrs'><dt><span>units :</span></dt><dd>%</dd></dl></div><div class='xr-var-data'><pre>[5472 values with dtype=float64]</pre></div></li><li class='xr-var-item'><div class='xr-var-name'><span>r_300_pl</span></div><div class='xr-var-dims'>(forecast_reference_time, step, latitude, longitude)</div><div class='xr-var-dtype'>float64</div><div class='xr-var-preview xr-preview'>...</div><input id='attrs-e2ce7cd4-dbfc-4448-b32f-5be190616a0c' class='xr-var-attrs-in' type='checkbox' ><label for='attrs-e2ce7cd4-dbfc-4448-b32f-5be190616a0c' title='Show/Hide attributes'><svg class='icon xr-icon-file-text2'><use xlink:href='#icon-file-text2'></use></svg></label><input id='data-cc28b2fa-b892-43ce-8f82-6f9636fb3dd6' class='xr-var-data-in' type='checkbox'><label for='data-cc28b2fa-b892-43ce-8f82-6f9636fb3dd6' title='Show/Hide data repr'><svg class='icon xr-icon-database'><use xlink:href='#icon-database'></use></svg></label><div class='xr-var-attrs'><dl class='xr-attrs'><dt><span>units :</span></dt><dd>%</dd></dl></div><div class='xr-var-data'><pre>[5472 values with dtype=float64]</pre></div></li><li class='xr-var-item'><div class='xr-var-name'><span>r_400_pl</span></div><div class='xr-var-dims'>(forecast_reference_time, step, latitude, longitude)</div><div class='xr-var-dtype'>float64</div><div class='xr-var-preview xr-preview'>...</div><input id='attrs-ec2c6759-b3e0-4047-bae9-ee65f8b55265' class='xr-var-attrs-in' type='checkbox' ><label for='attrs-ec2c6759-b3e0-4047-bae9-ee65f8b55265' title='Show/Hide attributes'><svg class='icon xr-icon-file-text2'><use xlink:href='#icon-file-text2'></use></svg></label><input id='data-049a2280-1389-4e9d-a595-20e4079864b2' class='xr-var-data-in' type='checkbox'><label for='data-049a2280-1389-4e9d-a595-20e4079864b2' title='Show/Hide data repr'><svg class='icon xr-icon-database'><use xlink:href='#icon-database'></use></svg></label><div class='xr-var-attrs'><dl class='xr-attrs'><dt><span>units :</span></dt><dd>%</dd></dl></div><div class='xr-var-data'><pre>[5472 values with dtype=float64]</pre></div></li><li class='xr-var-item'><div class='xr-var-name'><span>r_500_pl</span></div><div class='xr-var-dims'>(forecast_reference_time, step, latitude, longitude)</div><div class='xr-var-dtype'>float64</div><div class='xr-var-preview xr-preview'>...</div><input id='attrs-8adcd742-dc7a-4bd0-81b8-78d89358cc1c' class='xr-var-attrs-in' type='checkbox' ><label for='attrs-8adcd742-dc7a-4bd0-81b8-78d89358cc1c' title='Show/Hide attributes'><svg class='icon xr-icon-file-text2'><use xlink:href='#icon-file-text2'></use></svg></label><input id='data-5139949e-80a3-4a83-98fd-3a86732e53c6' class='xr-var-data-in' type='checkbox'><label for='data-5139949e-80a3-4a83-98fd-3a86732e53c6' title='Show/Hide data repr'><svg class='icon xr-icon-database'><use xlink:href='#icon-database'></use></svg></label><div class='xr-var-attrs'><dl class='xr-attrs'><dt><span>units :</span></dt><dd>%</dd></dl></div><div class='xr-var-data'><pre>[5472 values with dtype=float64]</pre></div></li><li class='xr-var-item'><div class='xr-var-name'><span>r_700_pl</span></div><div class='xr-var-dims'>(forecast_reference_time, step, latitude, longitude)</div><div class='xr-var-dtype'>float64</div><div class='xr-var-preview xr-preview'>...</div><input id='attrs-52de38c7-8819-4ab4-b0ce-98e8a623842b' class='xr-var-attrs-in' type='checkbox' ><label for='attrs-52de38c7-8819-4ab4-b0ce-98e8a623842b' title='Show/Hide attributes'><svg class='icon xr-icon-file-text2'><use xlink:href='#icon-file-text2'></use></svg></label><input id='data-ef5eecf9-0722-4965-a8c5-5946cc427236' class='xr-var-data-in' type='checkbox'><label for='data-ef5eecf9-0722-4965-a8c5-5946cc427236' title='Show/Hide data repr'><svg class='icon xr-icon-database'><use xlink:href='#icon-database'></use></svg></label><div class='xr-var-attrs'><dl class='xr-attrs'><dt><span>units :</span></dt><dd>%</dd></dl></div><div class='xr-var-data'><pre>[5472 values with dtype=float64]</pre></div></li><li class='xr-var-item'><div class='xr-var-name'><span>r_850_pl</span></div><div class='xr-var-dims'>(forecast_reference_time, step, latitude, longitude)</div><div class='xr-var-dtype'>float64</div><div class='xr-var-preview xr-preview'>...</div><input id='attrs-47e401e9-e3af-460f-a20c-7532b68863fe' class='xr-var-attrs-in' type='checkbox' ><label for='attrs-47e401e9-e3af-460f-a20c-7532b68863fe' title='Show/Hide attributes'><svg class='icon xr-icon-file-text2'><use xlink:href='#icon-file-text2'></use></svg></label><input id='data-a0e87ce2-296c-4fc8-9509-157f4ba787b3' class='xr-var-data-in' type='checkbox'><label for='data-a0e87ce2-296c-4fc8-9509-157f4ba787b3' title='Show/Hide data repr'><svg class='icon xr-icon-database'><use xlink:href='#icon-database'></use></svg></label><div class='xr-var-attrs'><dl class='xr-attrs'><dt><span>units :</span></dt><dd>%</dd></dl></div><div class='xr-var-data'><pre>[5472 values with dtype=float64]</pre></div></li><li class='xr-var-item'><div class='xr-var-name'><span>t_1000_pl</span></div><div class='xr-var-dims'>(forecast_reference_time, step, latitude, longitude)</div><div class='xr-var-dtype'>float64</div><div class='xr-var-preview xr-preview'>...</div><input id='attrs-ac84a03c-7751-4c78-b7be-85c17cd004c9' class='xr-var-attrs-in' type='checkbox' ><label for='attrs-ac84a03c-7751-4c78-b7be-85c17cd004c9' title='Show/Hide attributes'><svg class='icon xr-icon-file-text2'><use xlink:href='#icon-file-text2'></use></svg></label><input id='data-a11b844c-13e3-4a98-89c9-8caea4c01856' class='xr-var-data-in' type='checkbox'><label for='data-a11b844c-13e3-4a98-89c9-8caea4c01856' title='Show/Hide data repr'><svg class='icon xr-icon-database'><use xlink:href='#icon-database'></use></svg></label><div class='xr-var-attrs'><dl class='xr-attrs'><dt><span>units :</span></dt><dd>K</dd></dl></div><div class='xr-var-data'><pre>[5472 values with dtype=float64]</pre></div></li><li class='xr-var-item'><div class='xr-var-name'><span>t_300_pl</span></div><div class='xr-var-dims'>(forecast_reference_time, step, latitude, longitude)</div><div class='xr-var-dtype'>float64</div><div class='xr-var-preview xr-preview'>...</div><input id='attrs-466a1695-3023-4ffc-9021-9021df4dbd15' class='xr-var-attrs-in' type='checkbox' ><label for='attrs-466a1695-3023-4ffc-9021-9021df4dbd15' title='Show/Hide attributes'><svg class='icon xr-icon-file-text2'><use xlink:href='#icon-file-text2'></use></svg></label><input id='data-b1f3b87b-d250-4386-b6b0-0ac08c20ecfb' class='xr-var-data-in' type='checkbox'><label for='data-b1f3b87b-d250-4386-b6b0-0ac08c20ecfb' title='Show/Hide data repr'><svg class='icon xr-icon-database'><use xlink:href='#icon-database'></use></svg></label><div class='xr-var-attrs'><dl class='xr-attrs'><dt><span>units :</span></dt><dd>K</dd></dl></div><div class='xr-var-data'><pre>[5472 values with dtype=float64]</pre></div></li><li class='xr-var-item'><div class='xr-var-name'><span>t_400_pl</span></div><div class='xr-var-dims'>(forecast_reference_time, step, latitude, longitude)</div><div class='xr-var-dtype'>float64</div><div class='xr-var-preview xr-preview'>...</div><input id='attrs-cea5468d-42fb-4a37-a70a-93df0b6245dc' class='xr-var-attrs-in' type='checkbox' ><label for='attrs-cea5468d-42fb-4a37-a70a-93df0b6245dc' title='Show/Hide attributes'><svg class='icon xr-icon-file-text2'><use xlink:href='#icon-file-text2'></use></svg></label><input id='data-bbabce6d-9aca-4f8b-906d-6dc57bec9174' class='xr-var-data-in' type='checkbox'><label for='data-bbabce6d-9aca-4f8b-906d-6dc57bec9174' title='Show/Hide data repr'><svg class='icon xr-icon-database'><use xlink:href='#icon-database'></use></svg></label><div class='xr-var-attrs'><dl class='xr-attrs'><dt><span>units :</span></dt><dd>K</dd></dl></div><div class='xr-var-data'><pre>[5472 values with dtype=float64]</pre></div></li><li class='xr-var-item'><div class='xr-var-name'><span>t_500_pl</span></div><div class='xr-var-dims'>(forecast_reference_time, step, latitude, longitude)</div><div class='xr-var-dtype'>float64</div><div class='xr-var-preview xr-preview'>...</div><input id='attrs-a18abc60-be95-4e91-8c5a-d6e084ac9be6' class='xr-var-attrs-in' type='checkbox' ><label for='attrs-a18abc60-be95-4e91-8c5a-d6e084ac9be6' title='Show/Hide attributes'><svg class='icon xr-icon-file-text2'><use xlink:href='#icon-file-text2'></use></svg></label><input id='data-7d339f9c-12a5-4e70-9fd9-2750dffc04ed' class='xr-var-data-in' type='checkbox'><label for='data-7d339f9c-12a5-4e70-9fd9-2750dffc04ed' title='Show/Hide data repr'><svg class='icon xr-icon-database'><use xlink:href='#icon-database'></use></svg></label><div class='xr-var-attrs'><dl class='xr-attrs'><dt><span>units :</span></dt><dd>K</dd></dl></div><div class='xr-var-data'><pre>[5472 values with dtype=float64]</pre></div></li><li class='xr-var-item'><div class='xr-var-name'><span>t_700_pl</span></div><div class='xr-var-dims'>(forecast_reference_time, step, latitude, longitude)</div><div class='xr-var-dtype'>float64</div><div class='xr-var-preview xr-preview'>...</div><input id='attrs-f1f40c83-031f-459a-ac34-33db729679dd' class='xr-var-attrs-in' type='checkbox' ><label for='attrs-f1f40c83-031f-459a-ac34-33db729679dd' title='Show/Hide attributes'><svg class='icon xr-icon-file-text2'><use xlink:href='#icon-file-text2'></use></svg></label><input id='data-5cbadde9-a7b9-4bbb-978e-65e5d285a01d' class='xr-var-data-in' type='checkbox'><label for='data-5cbadde9-a7b9-4bbb-978e-65e5d285a01d' title='Show/Hide data repr'><svg class='icon xr-icon-database'><use xlink:href='#icon-database'></use></svg></label><div class='xr-var-attrs'><dl class='xr-attrs'><dt><span>units :</span></dt><dd>K</dd></dl></div><div class='xr-var-data'><pre>[5472 values with dtype=float64]</pre></div></li><li class='xr-var-item'><div class='xr-var-name'><span>t_850_pl</span></div><div class='xr-var-dims'>(forecast_reference_time, step, latitude, longitude)</div><div class='xr-var-dtype'>float64</div><div class='xr-var-preview xr-preview'>...</div><input id='attrs-1a5b5919-6eb0-46fd-94b4-b564e0940da1' class='xr-var-attrs-in' type='checkbox' ><label for='attrs-1a5b5919-6eb0-46fd-94b4-b564e0940da1' title='Show/Hide attributes'><svg class='icon xr-icon-file-text2'><use xlink:href='#icon-file-text2'></use></svg></label><input id='data-49f449ad-0385-47a1-95a6-df917da3b493' class='xr-var-data-in' type='checkbox'><label for='data-49f449ad-0385-47a1-95a6-df917da3b493' title='Show/Hide data repr'><svg class='icon xr-icon-database'><use xlink:href='#icon-database'></use></svg></label><div class='xr-var-attrs'><dl class='xr-attrs'><dt><span>units :</span></dt><dd>K</dd></dl></div><div class='xr-var-data'><pre>[5472 values with dtype=float64]</pre></div></li><li class='xr-var-item'><div class='xr-var-name'><span>u_1000_pl</span></div><div class='xr-var-dims'>(forecast_reference_time, step, latitude, longitude)</div><div class='xr-var-dtype'>float64</div><div class='xr-var-preview xr-preview'>...</div><input id='attrs-97e15d99-5e90-457d-804e-6afb95ca4a0a' class='xr-var-attrs-in' type='checkbox' ><label for='attrs-97e15d99-5e90-457d-804e-6afb95ca4a0a' title='Show/Hide attributes'><svg class='icon xr-icon-file-text2'><use xlink:href='#icon-file-text2'></use></svg></label><input id='data-384748a0-e897-46d8-bdb6-469366b82091' class='xr-var-data-in' type='checkbox'><label for='data-384748a0-e897-46d8-bdb6-469366b82091' title='Show/Hide data repr'><svg class='icon xr-icon-database'><use xlink:href='#icon-database'></use></svg></label><div class='xr-var-attrs'><dl class='xr-attrs'><dt><span>units :</span></dt><dd>m s**-1</dd></dl></div><div class='xr-var-data'><pre>[5472 values with dtype=float64]</pre></div></li><li class='xr-var-item'><div class='xr-var-name'><span>u_300_pl</span></div><div class='xr-var-dims'>(forecast_reference_time, step, latitude, longitude)</div><div class='xr-var-dtype'>float64</div><div class='xr-var-preview xr-preview'>...</div><input id='attrs-4c5290ec-24e9-4459-84b1-67ce9b1e45b9' class='xr-var-attrs-in' type='checkbox' ><label for='attrs-4c5290ec-24e9-4459-84b1-67ce9b1e45b9' title='Show/Hide attributes'><svg class='icon xr-icon-file-text2'><use xlink:href='#icon-file-text2'></use></svg></label><input id='data-67fbd9af-a410-4725-ae79-bf309661a2bd' class='xr-var-data-in' type='checkbox'><label for='data-67fbd9af-a410-4725-ae79-bf309661a2bd' title='Show/Hide data repr'><svg class='icon xr-icon-database'><use xlink:href='#icon-database'></use></svg></label><div class='xr-var-attrs'><dl class='xr-attrs'><dt><span>units :</span></dt><dd>m s**-1</dd></dl></div><div class='xr-var-data'><pre>[5472 values with dtype=float64]</pre></div></li><li class='xr-var-item'><div class='xr-var-name'><span>u_400_pl</span></div><div class='xr-var-dims'>(forecast_reference_time, step, latitude, longitude)</div><div class='xr-var-dtype'>float64</div><div class='xr-var-preview xr-preview'>...</div><input id='attrs-8f105ffe-d49d-4ee5-acbf-44b0d4b4a408' class='xr-var-attrs-in' type='checkbox' ><label for='attrs-8f105ffe-d49d-4ee5-acbf-44b0d4b4a408' title='Show/Hide attributes'><svg class='icon xr-icon-file-text2'><use xlink:href='#icon-file-text2'></use></svg></label><input id='data-a0a16961-1691-4edb-8eda-fdc6e3c058d6' class='xr-var-data-in' type='checkbox'><label for='data-a0a16961-1691-4edb-8eda-fdc6e3c058d6' title='Show/Hide data repr'><svg class='icon xr-icon-database'><use xlink:href='#icon-database'></use></svg></label><div class='xr-var-attrs'><dl class='xr-attrs'><dt><span>units :</span></dt><dd>m s**-1</dd></dl></div><div class='xr-var-data'><pre>[5472 values with dtype=float64]</pre></div></li><li class='xr-var-item'><div class='xr-var-name'><span>u_500_pl</span></div><div class='xr-var-dims'>(forecast_reference_time, step, latitude, longitude)</div><div class='xr-var-dtype'>float64</div><div class='xr-var-preview xr-preview'>...</div><input id='attrs-90daf784-0122-4719-955b-b016f85fe149' class='xr-var-attrs-in' type='checkbox' ><label for='attrs-90daf784-0122-4719-955b-b016f85fe149' title='Show/Hide attributes'><svg class='icon xr-icon-file-text2'><use xlink:href='#icon-file-text2'></use></svg></label><input id='data-20b1e2ba-f0ec-4597-a404-a966edf69736' class='xr-var-data-in' type='checkbox'><label for='data-20b1e2ba-f0ec-4597-a404-a966edf69736' title='Show/Hide data repr'><svg class='icon xr-icon-database'><use xlink:href='#icon-database'></use></svg></label><div class='xr-var-attrs'><dl class='xr-attrs'><dt><span>units :</span></dt><dd>m s**-1</dd></dl></div><div class='xr-var-data'><pre>[5472 values with dtype=float64]</pre></div></li><li class='xr-var-item'><div class='xr-var-name'><span>u_700_pl</span></div><div class='xr-var-dims'>(forecast_reference_time, step, latitude, longitude)</div><div class='xr-var-dtype'>float64</div><div class='xr-var-preview xr-preview'>...</div><input id='attrs-233fd1d8-5b3d-4450-aa9b-81d7db5fb86c' class='xr-var-attrs-in' type='checkbox' ><label for='attrs-233fd1d8-5b3d-4450-aa9b-81d7db5fb86c' title='Show/Hide attributes'><svg class='icon xr-icon-file-text2'><use xlink:href='#icon-file-text2'></use></svg></label><input id='data-da484e1a-dac7-4aee-9a42-27b1bdb79fea' class='xr-var-data-in' type='checkbox'><label for='data-da484e1a-dac7-4aee-9a42-27b1bdb79fea' title='Show/Hide data repr'><svg class='icon xr-icon-database'><use xlink:href='#icon-database'></use></svg></label><div class='xr-var-attrs'><dl class='xr-attrs'><dt><span>units :</span></dt><dd>m s**-1</dd></dl></div><div class='xr-var-data'><pre>[5472 values with dtype=float64]</pre></div></li><li class='xr-var-item'><div class='xr-var-name'><span>u_850_pl</span></div><div class='xr-var-dims'>(forecast_reference_time, step, latitude, longitude)</div><div class='xr-var-dtype'>float64</div><div class='xr-var-preview xr-preview'>...</div><input id='attrs-cc2935fe-7d71-4b2e-9aa0-f08d7b7c74c1' class='xr-var-attrs-in' type='checkbox' ><label for='attrs-cc2935fe-7d71-4b2e-9aa0-f08d7b7c74c1' title='Show/Hide attributes'><svg class='icon xr-icon-file-text2'><use xlink:href='#icon-file-text2'></use></svg></label><input id='data-de979bf2-3f31-4b59-95d3-f3ae9fca5937' class='xr-var-data-in' type='checkbox'><label for='data-de979bf2-3f31-4b59-95d3-f3ae9fca5937' title='Show/Hide data repr'><svg class='icon xr-icon-database'><use xlink:href='#icon-database'></use></svg></label><div class='xr-var-attrs'><dl class='xr-attrs'><dt><span>units :</span></dt><dd>m s**-1</dd></dl></div><div class='xr-var-data'><pre>[5472 values with dtype=float64]</pre></div></li><li class='xr-var-item'><div class='xr-var-name'><span>v_1000_pl</span></div><div class='xr-var-dims'>(forecast_reference_time, step, latitude, longitude)</div><div class='xr-var-dtype'>float64</div><div class='xr-var-preview xr-preview'>...</div><input id='attrs-48865b95-6040-4a1d-83f4-358d25c3fb28' class='xr-var-attrs-in' type='checkbox' ><label for='attrs-48865b95-6040-4a1d-83f4-358d25c3fb28' title='Show/Hide attributes'><svg class='icon xr-icon-file-text2'><use xlink:href='#icon-file-text2'></use></svg></label><input id='data-204285a4-8f76-4797-91eb-960329274c79' class='xr-var-data-in' type='checkbox'><label for='data-204285a4-8f76-4797-91eb-960329274c79' title='Show/Hide data repr'><svg class='icon xr-icon-database'><use xlink:href='#icon-database'></use></svg></label><div class='xr-var-attrs'><dl class='xr-attrs'><dt><span>units :</span></dt><dd>m s**-1</dd></dl></div><div class='xr-var-data'><pre>[5472 values with dtype=float64]</pre></div></li><li class='xr-var-item'><div class='xr-var-name'><span>v_300_pl</span></div><div class='xr-var-dims'>(forecast_reference_time, step, latitude, longitude)</div><div class='xr-var-dtype'>float64</div><div class='xr-var-preview xr-preview'>...</div><input id='attrs-acb6c98e-76a2-4b3d-9e13-4bb5005409aa' class='xr-var-attrs-in' type='checkbox' ><label for='attrs-acb6c98e-76a2-4b3d-9e13-4bb5005409aa' title='Show/Hide attributes'><svg class='icon xr-icon-file-text2'><use xlink:href='#icon-file-text2'></use></svg></label><input id='data-27c072ba-e369-4393-a7a2-013f2af86480' class='xr-var-data-in' type='checkbox'><label for='data-27c072ba-e369-4393-a7a2-013f2af86480' title='Show/Hide data repr'><svg class='icon xr-icon-database'><use xlink:href='#icon-database'></use></svg></label><div class='xr-var-attrs'><dl class='xr-attrs'><dt><span>units :</span></dt><dd>m s**-1</dd></dl></div><div class='xr-var-data'><pre>[5472 values with dtype=float64]</pre></div></li><li class='xr-var-item'><div class='xr-var-name'><span>v_400_pl</span></div><div class='xr-var-dims'>(forecast_reference_time, step, latitude, longitude)</div><div class='xr-var-dtype'>float64</div><div class='xr-var-preview xr-preview'>...</div><input id='attrs-a13e5b97-6d31-49be-a355-718bcfc8c16f' class='xr-var-attrs-in' type='checkbox' ><label for='attrs-a13e5b97-6d31-49be-a355-718bcfc8c16f' title='Show/Hide attributes'><svg class='icon xr-icon-file-text2'><use xlink:href='#icon-file-text2'></use></svg></label><input id='data-b79ca1be-6e31-46c8-a92e-2024ac22977f' class='xr-var-data-in' type='checkbox'><label for='data-b79ca1be-6e31-46c8-a92e-2024ac22977f' title='Show/Hide data repr'><svg class='icon xr-icon-database'><use xlink:href='#icon-database'></use></svg></label><div class='xr-var-attrs'><dl class='xr-attrs'><dt><span>units :</span></dt><dd>m s**-1</dd></dl></div><div class='xr-var-data'><pre>[5472 values with dtype=float64]</pre></div></li><li class='xr-var-item'><div class='xr-var-name'><span>v_500_pl</span></div><div class='xr-var-dims'>(forecast_reference_time, step, latitude, longitude)</div><div class='xr-var-dtype'>float64</div><div class='xr-var-preview xr-preview'>...</div><input id='attrs-775dccdc-aea7-4621-8f7d-7eb8f48ead4d' class='xr-var-attrs-in' type='checkbox' ><label for='attrs-775dccdc-aea7-4621-8f7d-7eb8f48ead4d' title='Show/Hide attributes'><svg class='icon xr-icon-file-text2'><use xlink:href='#icon-file-text2'></use></svg></label><input id='data-724906d9-ee36-4385-bbbe-e1dd09f02c9d' class='xr-var-data-in' type='checkbox'><label for='data-724906d9-ee36-4385-bbbe-e1dd09f02c9d' title='Show/Hide data repr'><svg class='icon xr-icon-database'><use xlink:href='#icon-database'></use></svg></label><div class='xr-var-attrs'><dl class='xr-attrs'><dt><span>units :</span></dt><dd>m s**-1</dd></dl></div><div class='xr-var-data'><pre>[5472 values with dtype=float64]</pre></div></li><li class='xr-var-item'><div class='xr-var-name'><span>v_700_pl</span></div><div class='xr-var-dims'>(forecast_reference_time, step, latitude, longitude)</div><div class='xr-var-dtype'>float64</div><div class='xr-var-preview xr-preview'>...</div><input id='attrs-3e4d4846-b8bb-4bf5-ad7a-2a7f77d6a389' class='xr-var-attrs-in' type='checkbox' ><label for='attrs-3e4d4846-b8bb-4bf5-ad7a-2a7f77d6a389' title='Show/Hide attributes'><svg class='icon xr-icon-file-text2'><use xlink:href='#icon-file-text2'></use></svg></label><input id='data-8ec4214b-bdee-469f-9c6a-352af239ca54' class='xr-var-data-in' type='checkbox'><label for='data-8ec4214b-bdee-469f-9c6a-352af239ca54' title='Show/Hide data repr'><svg class='icon xr-icon-database'><use xlink:href='#icon-database'></use></svg></label><div class='xr-var-attrs'><dl class='xr-attrs'><dt><span>units :</span></dt><dd>m s**-1</dd></dl></div><div class='xr-var-data'><pre>[5472 values with dtype=float64]</pre></div></li><li class='xr-var-item'><div class='xr-var-name'><span>v_850_pl</span></div><div class='xr-var-dims'>(forecast_reference_time, step, latitude, longitude)</div><div class='xr-var-dtype'>float64</div><div class='xr-var-preview xr-preview'>...</div><input id='attrs-c71ec461-e134-42e0-a9b9-70ea5925f38b' class='xr-var-attrs-in' type='checkbox' ><label for='attrs-c71ec461-e134-42e0-a9b9-70ea5925f38b' title='Show/Hide attributes'><svg class='icon xr-icon-file-text2'><use xlink:href='#icon-file-text2'></use></svg></label><input id='data-7e89a00b-8648-46cf-9547-542463092543' class='xr-var-data-in' type='checkbox'><label for='data-7e89a00b-8648-46cf-9547-542463092543' title='Show/Hide data repr'><svg class='icon xr-icon-database'><use xlink:href='#icon-database'></use></svg></label><div class='xr-var-attrs'><dl class='xr-attrs'><dt><span>units :</span></dt><dd>m s**-1</dd></dl></div><div class='xr-var-data'><pre>[5472 values with dtype=float64]</pre></div></li><li class='xr-var-item'><div class='xr-var-name'><span>z_1000_pl</span></div><div class='xr-var-dims'>(forecast_reference_time, step, latitude, longitude)</div><div class='xr-var-dtype'>float64</div><div class='xr-var-preview xr-preview'>...</div><input id='attrs-5d16faee-6545-4ba0-92ec-d7b016a652a6' class='xr-var-attrs-in' type='checkbox' ><label for='attrs-5d16faee-6545-4ba0-92ec-d7b016a652a6' title='Show/Hide attributes'><svg class='icon xr-icon-file-text2'><use xlink:href='#icon-file-text2'></use></svg></label><input id='data-c02321a6-ac67-4648-9f6a-092f7be9d28c' class='xr-var-data-in' type='checkbox'><label for='data-c02321a6-ac67-4648-9f6a-092f7be9d28c' title='Show/Hide data repr'><svg class='icon xr-icon-database'><use xlink:href='#icon-database'></use></svg></label><div class='xr-var-attrs'><dl class='xr-attrs'><dt><span>units :</span></dt><dd>m**2 s**-2</dd></dl></div><div class='xr-var-data'><pre>[5472 values with dtype=float64]</pre></div></li><li class='xr-var-item'><div class='xr-var-name'><span>z_300_pl</span></div><div class='xr-var-dims'>(forecast_reference_time, step, latitude, longitude)</div><div class='xr-var-dtype'>float64</div><div class='xr-var-preview xr-preview'>...</div><input id='attrs-849d8c4b-2cc2-4e04-be73-13a212acd857' class='xr-var-attrs-in' type='checkbox' ><label for='attrs-849d8c4b-2cc2-4e04-be73-13a212acd857' title='Show/Hide attributes'><svg class='icon xr-icon-file-text2'><use xlink:href='#icon-file-text2'></use></svg></label><input id='data-0f75dc3d-f24d-49a2-91a0-c44833c909d8' class='xr-var-data-in' type='checkbox'><label for='data-0f75dc3d-f24d-49a2-91a0-c44833c909d8' title='Show/Hide data repr'><svg class='icon xr-icon-database'><use xlink:href='#icon-database'></use></svg></label><div class='xr-var-attrs'><dl class='xr-attrs'><dt><span>units :</span></dt><dd>m**2 s**-2</dd></dl></div><div class='xr-var-data'><pre>[5472 values with dtype=float64]</pre></div></li><li class='xr-var-item'><div class='xr-var-name'><span>z_400_pl</span></div><div class='xr-var-dims'>(forecast_reference_time, step, latitude, longitude)</div><div class='xr-var-dtype'>float64</div><div class='xr-var-preview xr-preview'>...</div><input id='attrs-0c5aa6ff-bccc-4930-a272-709c1b9384da' class='xr-var-attrs-in' type='checkbox' ><label for='attrs-0c5aa6ff-bccc-4930-a272-709c1b9384da' title='Show/Hide attributes'><svg class='icon xr-icon-file-text2'><use xlink:href='#icon-file-text2'></use></svg></label><input id='data-8d4511f0-e386-4728-985a-9b6c86fd46ad' class='xr-var-data-in' type='checkbox'><label for='data-8d4511f0-e386-4728-985a-9b6c86fd46ad' title='Show/Hide data repr'><svg class='icon xr-icon-database'><use xlink:href='#icon-database'></use></svg></label><div class='xr-var-attrs'><dl class='xr-attrs'><dt><span>units :</span></dt><dd>m**2 s**-2</dd></dl></div><div class='xr-var-data'><pre>[5472 values with dtype=float64]</pre></div></li><li class='xr-var-item'><div class='xr-var-name'><span>z_500_pl</span></div><div class='xr-var-dims'>(forecast_reference_time, step, latitude, longitude)</div><div class='xr-var-dtype'>float64</div><div class='xr-var-preview xr-preview'>...</div><input id='attrs-3f8502a4-acbe-4ad6-8ac5-63cf803bf87c' class='xr-var-attrs-in' type='checkbox' ><label for='attrs-3f8502a4-acbe-4ad6-8ac5-63cf803bf87c' title='Show/Hide attributes'><svg class='icon xr-icon-file-text2'><use xlink:href='#icon-file-text2'></use></svg></label><input id='data-ceec9171-a8a9-4c2f-9e78-ce9a86767c86' class='xr-var-data-in' type='checkbox'><label for='data-ceec9171-a8a9-4c2f-9e78-ce9a86767c86' title='Show/Hide data repr'><svg class='icon xr-icon-database'><use xlink:href='#icon-database'></use></svg></label><div class='xr-var-attrs'><dl class='xr-attrs'><dt><span>units :</span></dt><dd>m**2 s**-2</dd></dl></div><div class='xr-var-data'><pre>[5472 values with dtype=float64]</pre></div></li><li class='xr-var-item'><div class='xr-var-name'><span>z_700_pl</span></div><div class='xr-var-dims'>(forecast_reference_time, step, latitude, longitude)</div><div class='xr-var-dtype'>float64</div><div class='xr-var-preview xr-preview'>...</div><input id='attrs-11b5e8b4-07b8-40bd-8624-35fb978783cc' class='xr-var-attrs-in' type='checkbox' ><label for='attrs-11b5e8b4-07b8-40bd-8624-35fb978783cc' title='Show/Hide attributes'><svg class='icon xr-icon-file-text2'><use xlink:href='#icon-file-text2'></use></svg></label><input id='data-8ac33185-1df4-436a-9d0b-1c6fc65344a4' class='xr-var-data-in' type='checkbox'><label for='data-8ac33185-1df4-436a-9d0b-1c6fc65344a4' title='Show/Hide data repr'><svg class='icon xr-icon-database'><use xlink:href='#icon-database'></use></svg></label><div class='xr-var-attrs'><dl class='xr-attrs'><dt><span>units :</span></dt><dd>m**2 s**-2</dd></dl></div><div class='xr-var-data'><pre>[5472 values with dtype=float64]</pre></div></li><li class='xr-var-item'><div class='xr-var-name'><span>z_850_pl</span></div><div class='xr-var-dims'>(forecast_reference_time, step, latitude, longitude)</div><div class='xr-var-dtype'>float64</div><div class='xr-var-preview xr-preview'>...</div><input id='attrs-69763f4a-113c-45f9-8193-4e9bd4deabc1' class='xr-var-attrs-in' type='checkbox' ><label for='attrs-69763f4a-113c-45f9-8193-4e9bd4deabc1' title='Show/Hide attributes'><svg class='icon xr-icon-file-text2'><use xlink:href='#icon-file-text2'></use></svg></label><input id='data-f2b27f8d-5cdb-40ab-8b1f-9457a90779b3' class='xr-var-data-in' type='checkbox'><label for='data-f2b27f8d-5cdb-40ab-8b1f-9457a90779b3' title='Show/Hide data repr'><svg class='icon xr-icon-database'><use xlink:href='#icon-database'></use></svg></label><div class='xr-var-attrs'><dl class='xr-attrs'><dt><span>units :</span></dt><dd>m**2 s**-2</dd></dl></div><div class='xr-var-data'><pre>[5472 values with dtype=float64]</pre></div></li></ul></div></li><li class='xr-section-item'><input id='section-3b0f23fb-090a-42d2-8cf3-e5a882cdc172' class='xr-section-summary-in' type='checkbox'  ><label for='section-3b0f23fb-090a-42d2-8cf3-e5a882cdc172' class='xr-section-summary' >Indexes: <span>(4)</span></label><div class='xr-section-inline-details'></div><div class='xr-section-details'><ul class='xr-var-list'><li class='xr-var-item'><div class='xr-index-name'><div>forecast_reference_time</div></div><div class='xr-index-preview'>PandasIndex</div><div></div><input id='index-b2526273-9818-4f7d-a460-8ff0c6612533' class='xr-index-data-in' type='checkbox'/><label for='index-b2526273-9818-4f7d-a460-8ff0c6612533' title='Show/Hide index repr'><svg class='icon xr-icon-database'><use xlink:href='#icon-database'></use></svg></label><div class='xr-index-data'><pre>PandasIndex(DatetimeIndex([&#x27;2024-06-03 00:00:00&#x27;, &#x27;2024-06-03 12:00:00&#x27;,\n",
       "               &#x27;2024-06-04 00:00:00&#x27;, &#x27;2024-06-04 12:00:00&#x27;],\n",
       "              dtype=&#x27;datetime64[ns]&#x27;, name=&#x27;forecast_reference_time&#x27;, freq=None))</pre></div></li><li class='xr-var-item'><div class='xr-index-name'><div>step</div></div><div class='xr-index-preview'>PandasIndex</div><div></div><input id='index-129947f2-d84e-4b8d-91a5-a8998b5bbc51' class='xr-index-data-in' type='checkbox'/><label for='index-129947f2-d84e-4b8d-91a5-a8998b5bbc51' title='Show/Hide index repr'><svg class='icon xr-icon-database'><use xlink:href='#icon-database'></use></svg></label><div class='xr-index-data'><pre>PandasIndex(TimedeltaIndex([&#x27;0 days 00:00:00&#x27;, &#x27;0 days 06:00:00&#x27;], dtype=&#x27;timedelta64[ns]&#x27;, name=&#x27;step&#x27;, freq=None))</pre></div></li><li class='xr-var-item'><div class='xr-index-name'><div>latitude</div></div><div class='xr-index-preview'>PandasIndex</div><div></div><input id='index-d4a3b46a-68c7-4cdb-bfc2-530cbe26cc1d' class='xr-index-data-in' type='checkbox'/><label for='index-d4a3b46a-68c7-4cdb-bfc2-530cbe26cc1d' title='Show/Hide index repr'><svg class='icon xr-icon-database'><use xlink:href='#icon-database'></use></svg></label><div class='xr-index-data'><pre>PandasIndex(Index([ 90.0,  80.0,  70.0,  60.0,  50.0,  40.0,  30.0,  20.0,  10.0,   0.0,\n",
       "       -10.0, -20.0, -30.0, -40.0, -50.0, -60.0, -70.0, -80.0, -90.0],\n",
       "      dtype=&#x27;float64&#x27;, name=&#x27;latitude&#x27;))</pre></div></li><li class='xr-var-item'><div class='xr-index-name'><div>longitude</div></div><div class='xr-index-preview'>PandasIndex</div><div></div><input id='index-9005f719-c004-4c84-845d-8affa84c36fc' class='xr-index-data-in' type='checkbox'/><label for='index-9005f719-c004-4c84-845d-8affa84c36fc' title='Show/Hide index repr'><svg class='icon xr-icon-database'><use xlink:href='#icon-database'></use></svg></label><div class='xr-index-data'><pre>PandasIndex(Index([  0.0,  10.0,  20.0,  30.0,  40.0,  50.0,  60.0,  70.0,  80.0,  90.0,\n",
       "       100.0, 110.0, 120.0, 130.0, 140.0, 150.0, 160.0, 170.0, 180.0, 190.0,\n",
       "       200.0, 210.0, 220.0, 230.0, 240.0, 250.0, 260.0, 270.0, 280.0, 290.0,\n",
       "       300.0, 310.0, 320.0, 330.0, 340.0, 350.0],\n",
       "      dtype=&#x27;float64&#x27;, name=&#x27;longitude&#x27;))</pre></div></li></ul></div></li><li class='xr-section-item'><input id='section-a748e161-3eac-4ce3-92ea-ada4ecc4d04a' class='xr-section-summary-in' type='checkbox' disabled ><label for='section-a748e161-3eac-4ce3-92ea-ada4ecc4d04a' class='xr-section-summary'  title='Expand/collapse section'>Attributes: <span>(0)</span></label><div class='xr-section-inline-details'></div><div class='xr-section-details'><dl class='xr-attrs'></dl></div></li></ul></div></div>"
      ],
      "text/plain": [
       "<xarray.Dataset> Size: 1MB\n",
       "Dimensions:                  (forecast_reference_time: 4, step: 2,\n",
       "                              latitude: 19, longitude: 36)\n",
       "Coordinates:\n",
       "  * forecast_reference_time  (forecast_reference_time) datetime64[ns] 32B 202...\n",
       "  * step                     (step) timedelta64[ns] 16B 00:00:00 06:00:00\n",
       "  * latitude                 (latitude) float64 152B 90.0 80.0 ... -80.0 -90.0\n",
       "  * longitude                (longitude) float64 288B 0.0 10.0 ... 340.0 350.0\n",
       "Data variables: (12/32)\n",
       "    2t_sfc                   (forecast_reference_time, step, latitude, longitude) float64 44kB ...\n",
       "    msl_sfc                  (forecast_reference_time, step, latitude, longitude) float64 44kB ...\n",
       "    r_1000_pl                (forecast_reference_time, step, latitude, longitude) float64 44kB ...\n",
       "    r_300_pl                 (forecast_reference_time, step, latitude, longitude) float64 44kB ...\n",
       "    r_400_pl                 (forecast_reference_time, step, latitude, longitude) float64 44kB ...\n",
       "    r_500_pl                 (forecast_reference_time, step, latitude, longitude) float64 44kB ...\n",
       "    ...                       ...\n",
       "    z_1000_pl                (forecast_reference_time, step, latitude, longitude) float64 44kB ...\n",
       "    z_300_pl                 (forecast_reference_time, step, latitude, longitude) float64 44kB ...\n",
       "    z_400_pl                 (forecast_reference_time, step, latitude, longitude) float64 44kB ...\n",
       "    z_500_pl                 (forecast_reference_time, step, latitude, longitude) float64 44kB ...\n",
       "    z_700_pl                 (forecast_reference_time, step, latitude, longitude) float64 44kB ...\n",
       "    z_850_pl                 (forecast_reference_time, step, latitude, longitude) float64 44kB ..."
      ]
     },
     "execution_count": 4,
     "metadata": {},
     "output_type": "execute_result"
    }
   ],
   "source": [
    "ds = ds_ek.to_xarray(variable_key=\"param_level_type\", \n",
    "                     remapping={\"param_level_type\": \"{param}_{levelist}_{levtype}\"})\n",
    "ds"
   ]
  },
  {
   "cell_type": "code",
   "execution_count": null,
   "id": "c6eec682-683a-44d1-a785-7d2219fdbe4e",
   "metadata": {},
   "outputs": [],
   "source": []
  }
 ],
 "metadata": {
  "kernelspec": {
   "display_name": "dev_ecc",
   "language": "python",
   "name": "dev_ecc"
  },
  "language_info": {
   "codemirror_mode": {
    "name": "ipython",
    "version": 3
   },
   "file_extension": ".py",
   "mimetype": "text/x-python",
   "name": "python",
   "nbconvert_exporter": "python",
   "pygments_lexer": "ipython3",
   "version": "3.10.13"
  }
 },
 "nbformat": 4,
 "nbformat_minor": 5
}
