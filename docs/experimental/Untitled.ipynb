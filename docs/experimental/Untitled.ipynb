{
 "cells": [
  {
   "cell_type": "code",
   "execution_count": 1,
   "id": "faef35aa-1d4f-4916-b217-a5f15ddcdcbb",
   "metadata": {},
   "outputs": [
    {
     "name": "stdout",
     "output_type": "stream",
     "text": [
      "Relative humidity from dewpoint: 6.843026046385588%\n",
      "Relative humidity from specific humidty: 6.84302604638558%\n",
      "Original dewpoint: 244.39660249320949 K\n",
      "Dewpoint from RH from dewpoint: 244.39660249320949 K\n",
      "Dewpoint from RH from specific humidity: 244.39660249320949 K\n"
     ]
    }
   ],
   "source": [
    "from earthkit.meteo import thermo\n",
    "\n",
    "p = 101325\n",
    "q = 0.00035\n",
    "t = 247.5\n",
    "t = 277.5\n",
    "d = thermo.dewpoint_from_specific_humidity(q=q,p=p)\n",
    "\n",
    "rh_from_dp = thermo.relative_humidity_from_dewpoint(t=t,td=d)\n",
    "rh_from_q = thermo.relative_humidity_from_specific_humidity(t=t,q=q,p=p)\n",
    "print(f\"Relative humidity from dewpoint: {rh_from_dp}%\")\n",
    "print(f\"Relative humidity from specific humidty: {rh_from_q}%\")\n",
    "\n",
    "dp_from_rh_from_dp = thermo.dewpoint_from_relative_humidity(t=t,r=rh_from_dp)\n",
    "dp_from_rh_from_q = thermo.dewpoint_from_relative_humidity(t=t,r=rh_from_q)\n",
    "print(f\"Original dewpoint: {d} K\")\n",
    "print(f\"Dewpoint from RH from dewpoint: {dp_from_rh_from_dp} K\")\n",
    "print(f\"Dewpoint from RH from specific humidity: {dp_from_rh_from_q} K\")\n",
    "\n"
   ]
  },
  {
   "cell_type": "code",
   "execution_count": 2,
   "id": "995560ef-aae8-4fc2-a6d1-eed3a55ca546",
   "metadata": {},
   "outputs": [
    {
     "ename": "TypeError",
     "evalue": "relative_humidity_from_specific_humidity() got an unexpected keyword argument 'phase'",
     "output_type": "error",
     "traceback": [
      "\u001b[0;31m---------------------------------------------------------------------------\u001b[0m",
      "\u001b[0;31mTypeError\u001b[0m                                 Traceback (most recent call last)",
      "Cell \u001b[0;32mIn[2], line 7\u001b[0m\n\u001b[1;32m      4\u001b[0m d \u001b[38;5;241m=\u001b[39m thermo\u001b[38;5;241m.\u001b[39mdewpoint_from_specific_humidity(q\u001b[38;5;241m=\u001b[39mq,p\u001b[38;5;241m=\u001b[39mp)\n\u001b[1;32m      6\u001b[0m rh_from_dp \u001b[38;5;241m=\u001b[39m thermo\u001b[38;5;241m.\u001b[39mrelative_humidity_from_dewpoint(t\u001b[38;5;241m=\u001b[39mt,td\u001b[38;5;241m=\u001b[39md)\n\u001b[0;32m----> 7\u001b[0m rh_from_q \u001b[38;5;241m=\u001b[39m \u001b[43mthermo\u001b[49m\u001b[38;5;241;43m.\u001b[39;49m\u001b[43mrelative_humidity_from_specific_humidity\u001b[49m\u001b[43m(\u001b[49m\u001b[43mt\u001b[49m\u001b[38;5;241;43m=\u001b[39;49m\u001b[43mt\u001b[49m\u001b[43m,\u001b[49m\u001b[43mq\u001b[49m\u001b[38;5;241;43m=\u001b[39;49m\u001b[43mq\u001b[49m\u001b[43m,\u001b[49m\u001b[43mp\u001b[49m\u001b[38;5;241;43m=\u001b[39;49m\u001b[43mp\u001b[49m\u001b[43m,\u001b[49m\u001b[43m \u001b[49m\u001b[43mphase\u001b[49m\u001b[38;5;241;43m=\u001b[39;49m\u001b[38;5;124;43m\"\u001b[39;49m\u001b[38;5;124;43mwater\u001b[39;49m\u001b[38;5;124;43m\"\u001b[39;49m\u001b[43m)\u001b[49m\n\u001b[1;32m      8\u001b[0m \u001b[38;5;28mprint\u001b[39m(\u001b[38;5;124mf\u001b[39m\u001b[38;5;124m\"\u001b[39m\u001b[38;5;124mRelative humidity from dewpoint: \u001b[39m\u001b[38;5;132;01m{\u001b[39;00mrh_from_dp\u001b[38;5;132;01m}\u001b[39;00m\u001b[38;5;124m%\u001b[39m\u001b[38;5;124m\"\u001b[39m)\n\u001b[1;32m      9\u001b[0m \u001b[38;5;28mprint\u001b[39m(\u001b[38;5;124mf\u001b[39m\u001b[38;5;124m\"\u001b[39m\u001b[38;5;124mRelative humidity from specific humidty: \u001b[39m\u001b[38;5;132;01m{\u001b[39;00mrh_from_q\u001b[38;5;132;01m}\u001b[39;00m\u001b[38;5;124m%\u001b[39m\u001b[38;5;124m\"\u001b[39m)\n",
      "File \u001b[0;32m~/git/earthkit-meteo/src/earthkit/meteo/thermo/thermo.py:78\u001b[0m, in \u001b[0;36mrelative_humidity_from_specific_humidity\u001b[0;34m(*args, **kwargs)\u001b[0m\n\u001b[1;32m     77\u001b[0m \u001b[38;5;28;01mdef\u001b[39;00m \u001b[38;5;21mrelative_humidity_from_specific_humidity\u001b[39m(\u001b[38;5;241m*\u001b[39margs, \u001b[38;5;241m*\u001b[39m\u001b[38;5;241m*\u001b[39mkwargs):\n\u001b[0;32m---> 78\u001b[0m     \u001b[38;5;28;01mreturn\u001b[39;00m \u001b[43marray\u001b[49m\u001b[38;5;241;43m.\u001b[39;49m\u001b[43mrelative_humidity_from_specific_humidity\u001b[49m\u001b[43m(\u001b[49m\u001b[38;5;241;43m*\u001b[39;49m\u001b[43margs\u001b[49m\u001b[43m,\u001b[49m\u001b[43m \u001b[49m\u001b[38;5;241;43m*\u001b[39;49m\u001b[38;5;241;43m*\u001b[39;49m\u001b[43mkwargs\u001b[49m\u001b[43m)\u001b[49m\n",
      "\u001b[0;31mTypeError\u001b[0m: relative_humidity_from_specific_humidity() got an unexpected keyword argument 'phase'"
     ]
    }
   ],
   "source": [
    "p = 101325\n",
    "q = 0.00035\n",
    "t = 247.5\n",
    "d = thermo.dewpoint_from_specific_humidity(q=q,p=p)\n",
    "\n",
    "rh_from_dp = thermo.relative_humidity_from_dewpoint(t=t,td=d)\n",
    "rh_from_q = thermo.relative_humidity_from_specific_humidity(t=t,q=q,p=p, phase=\"water\")\n",
    "print(f\"Relative humidity from dewpoint: {rh_from_dp}%\")\n",
    "print(f\"Relative humidity from specific humidty: {rh_from_q}%\")\n",
    "\n",
    "dp_from_rh_from_dp = thermo.dewpoint_from_relative_humidity(t=t,r=rh_from_dp)\n",
    "dp_from_rh_from_q = thermo.dewpoint_from_relative_humidity(t=t,r=rh_from_q)\n",
    "print(f\"Original dewpoint: {d} K\")\n",
    "print(f\"Dewpoint from RH from dewpoint: {dp_from_rh_from_dp} K\")\n",
    "print(f\"Dewpoint from RH from specific humidity: {dp_from_rh_from_q} K\")\n",
    "\n"
   ]
  },
  {
   "cell_type": "code",
   "execution_count": null,
   "id": "d709b080-a69c-4b07-8945-b89e96be9046",
   "metadata": {},
   "outputs": [],
   "source": []
  },
  {
   "cell_type": "code",
   "execution_count": null,
   "id": "7da3bd63-55b1-4835-ad52-1c3f34141974",
   "metadata": {},
   "outputs": [],
   "source": []
  }
 ],
 "metadata": {
  "kernelspec": {
   "display_name": "dev_ecc",
   "language": "python",
   "name": "dev_ecc"
  },
  "language_info": {
   "codemirror_mode": {
    "name": "ipython",
    "version": 3
   },
   "file_extension": ".py",
   "mimetype": "text/x-python",
   "name": "python",
   "nbconvert_exporter": "python",
   "pygments_lexer": "ipython3",
   "version": "3.10.13"
  }
 },
 "nbformat": 4,
 "nbformat_minor": 5
}
