{
 "cells": [
  {
   "cell_type": "markdown",
   "id": "4aa32c69-0936-495b-8235-a8c266eeda9c",
   "metadata": {},
   "source": [
    "## In memory fieldlist"
   ]
  },
  {
   "cell_type": "code",
   "execution_count": 3,
   "id": "4459c17f-9ecc-4bbf-9bd9-77a06c3a8d5c",
   "metadata": {},
   "outputs": [
    {
     "data": {
      "text/plain": [
       "earthkit.data.readers.grib.memory.GribFieldListInMemory"
      ]
     },
     "execution_count": 3,
     "metadata": {},
     "output_type": "execute_result"
    }
   ],
   "source": [
    "import earthkit.data\n",
    "\n",
    "ds_ek = earthkit.data.from_source(\n",
    "        \"url\",\n",
    "        \"https://get.ecmwf.int/repository/test-data/earthkit-data/examples/test6.grib\",\n",
    "        stream=True, read_all=True)\n",
    "type(ds_ek)"
   ]
  },
  {
   "cell_type": "code",
   "execution_count": 2,
   "id": "b4857180-ca11-49cb-9148-bccc828e9d5b",
   "metadata": {},
   "outputs": [
    {
     "name": "stdout",
     "output_type": "stream",
     "text": [
      "CPU times: user 1.86 s, sys: 729 ms, total: 2.59 s\n",
      "Wall time: 7.88 s\n"
     ]
    }
   ],
   "source": [
    "%time ds = ds_ek.to_xarray()"
   ]
  },
  {
   "cell_type": "code",
   "execution_count": null,
   "id": "24dd216d-a91c-47c2-9999-839182117909",
   "metadata": {},
   "outputs": [],
   "source": []
  }
 ],
 "metadata": {
  "kernelspec": {
   "display_name": "dev_ecc",
   "language": "python",
   "name": "dev_ecc"
  },
  "language_info": {
   "codemirror_mode": {
    "name": "ipython",
    "version": 3
   },
   "file_extension": ".py",
   "mimetype": "text/x-python",
   "name": "python",
   "nbconvert_exporter": "python",
   "pygments_lexer": "ipython3",
   "version": "3.10.13"
  }
 },
 "nbformat": 4,
 "nbformat_minor": 5
}
