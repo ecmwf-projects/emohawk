{
 "cells": [
  {
   "cell_type": "markdown",
   "id": "dbe77fa6-233f-4e97-bd66-a1b7ce568073",
   "metadata": {},
   "source": [
    "## Monthly forecast"
   ]
  },
  {
   "cell_type": "code",
   "execution_count": 2,
   "id": "889245a7-be43-4f91-9e62-f3984a4ce960",
   "metadata": {},
   "outputs": [],
   "source": [
    "import earthkit.data\n",
    "\n",
    "fname = \"cams-egg4-monthly-mismatch-dataDate.grib\"\n",
    "earthkit.data.download_example_file(fname, remote_dir=\"test-data/xr_engine/date\")\n",
    "ds_ek = earthkit.data.from_source(\"file\", fname)"
   ]
  },
  {
   "cell_type": "code",
   "execution_count": null,
   "id": "1daeaa59-a4d0-4f11-8310-580fbb26b874",
   "metadata": {},
   "outputs": [],
   "source": [
    "ds = ds_ek.to_xarray()\n",
    "ds"
   ]
  }
 ],
 "metadata": {
  "kernelspec": {
   "display_name": "dev_ecc",
   "language": "python",
   "name": "dev_ecc"
  },
  "language_info": {
   "codemirror_mode": {
    "name": "ipython",
    "version": 3
   },
   "file_extension": ".py",
   "mimetype": "text/x-python",
   "name": "python",
   "nbconvert_exporter": "python",
   "pygments_lexer": "ipython3",
   "version": "3.10.13"
  }
 },
 "nbformat": 4,
 "nbformat_minor": 5
}
