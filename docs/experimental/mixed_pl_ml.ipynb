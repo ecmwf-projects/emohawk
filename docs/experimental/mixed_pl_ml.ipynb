{
 "cells": [
  {
   "cell_type": "markdown",
   "id": "9d8d1f9c-fd5e-46c0-9aa5-34c34e21e70c",
   "metadata": {},
   "source": [
    "## Mixed pressure and model level"
   ]
  },
  {
   "cell_type": "code",
   "execution_count": 1,
   "id": "8416f9f2-ea00-46d6-bf93-f4e6478cc5e2",
   "metadata": {},
   "outputs": [],
   "source": [
    "import earthkit.data\n",
    "\n",
    "fname = \"mixed_pl_ml.grib\"\n",
    "earthkit.data.download_example_file(fname, remote_dir=\"test-data/xr_engine/level\")\n",
    "ds_ek = earthkit.data.from_source(\"file\", fname)"
   ]
  },
  {
   "cell_type": "code",
   "execution_count": 2,
   "id": "6b10f006-6c5b-4bba-9884-49c04a7aa24d",
   "metadata": {},
   "outputs": [
    {
     "ename": "ValueError",
     "evalue": "Expected one grid, got 2",
     "output_type": "error",
     "traceback": [
      "\u001b[0;31m---------------------------------------------------------------------------\u001b[0m",
      "\u001b[0;31mValueError\u001b[0m                                Traceback (most recent call last)",
      "Cell \u001b[0;32mIn[2], line 1\u001b[0m\n\u001b[0;32m----> 1\u001b[0m ds \u001b[38;5;241m=\u001b[39m \u001b[43mds_ek\u001b[49m\u001b[38;5;241;43m.\u001b[39;49m\u001b[43mto_xarray\u001b[49m\u001b[43m(\u001b[49m\u001b[43m)\u001b[49m\n\u001b[1;32m      2\u001b[0m ds\n",
      "File \u001b[0;32m~/git/earthkit-data/src/earthkit/data/readers/grib/xarray.py:150\u001b[0m, in \u001b[0;36mXarrayMixIn.to_xarray\u001b[0;34m(self, engine, xarray_open_dataset_kwargs, **kwargs)\u001b[0m\n\u001b[1;32m    147\u001b[0m         backend_kwargs[key] \u001b[38;5;241m=\u001b[39m user_xarray_open_dataset_kwargs\u001b[38;5;241m.\u001b[39mpop(key)\n\u001b[1;32m    148\u001b[0m user_xarray_open_dataset_kwargs[\u001b[38;5;124m\"\u001b[39m\u001b[38;5;124mbackend_kwargs\u001b[39m\u001b[38;5;124m\"\u001b[39m] \u001b[38;5;241m=\u001b[39m backend_kwargs\n\u001b[0;32m--> 150\u001b[0m \u001b[38;5;28;01mreturn\u001b[39;00m \u001b[43mengines\u001b[49m\u001b[43m[\u001b[49m\u001b[43mengine\u001b[49m\u001b[43m]\u001b[49m\u001b[43m(\u001b[49m\u001b[43muser_xarray_open_dataset_kwargs\u001b[49m\u001b[43m)\u001b[49m\n",
      "File \u001b[0;32m~/git/earthkit-data/src/earthkit/data/readers/grib/xarray.py:187\u001b[0m, in \u001b[0;36mXarrayMixIn.to_xarray_earthkit\u001b[0;34m(self, user_kwargs)\u001b[0m\n\u001b[1;32m    182\u001b[0m \u001b[38;5;66;03m# print(f\"{kwargs=}\")\u001b[39;00m\n\u001b[1;32m    183\u001b[0m \u001b[38;5;66;03m# print(f\"{xarray_open_dataset_kwargs=}\")\u001b[39;00m\n\u001b[1;32m    185\u001b[0m \u001b[38;5;28;01mfrom\u001b[39;00m \u001b[38;5;21;01mearthkit\u001b[39;00m\u001b[38;5;21;01m.\u001b[39;00m\u001b[38;5;21;01mdata\u001b[39;00m\u001b[38;5;21;01m.\u001b[39;00m\u001b[38;5;21;01mutils\u001b[39;00m\u001b[38;5;21;01m.\u001b[39;00m\u001b[38;5;21;01mxarray\u001b[39;00m\u001b[38;5;21;01m.\u001b[39;00m\u001b[38;5;21;01mengine\u001b[39;00m \u001b[38;5;28;01mimport\u001b[39;00m from_earthkit\n\u001b[0;32m--> 187\u001b[0m \u001b[38;5;28;01mreturn\u001b[39;00m \u001b[43mfrom_earthkit\u001b[49m\u001b[43m(\u001b[49m\u001b[38;5;28;43mself\u001b[39;49m\u001b[43m,\u001b[49m\u001b[43m \u001b[49m\u001b[38;5;241;43m*\u001b[39;49m\u001b[38;5;241;43m*\u001b[39;49m\u001b[43mxarray_open_dataset_kwargs\u001b[49m\u001b[43m)\u001b[49m\n",
      "File \u001b[0;32m~/git/earthkit-data/src/earthkit/data/utils/xarray/engine.py:30\u001b[0m, in \u001b[0;36mfrom_earthkit\u001b[0;34m(ds, **kwargs)\u001b[0m\n\u001b[1;32m     28\u001b[0m     backend_kwargs\u001b[38;5;241m.\u001b[39mpop(\u001b[38;5;124m\"\u001b[39m\u001b[38;5;124mauto_split\u001b[39m\u001b[38;5;124m\"\u001b[39m, \u001b[38;5;28;01mNone\u001b[39;00m)\n\u001b[1;32m     29\u001b[0m     backend_kwargs\u001b[38;5;241m.\u001b[39mpop(\u001b[38;5;124m\"\u001b[39m\u001b[38;5;124msplit_dims\u001b[39m\u001b[38;5;124m\"\u001b[39m, \u001b[38;5;28;01mNone\u001b[39;00m)\n\u001b[0;32m---> 30\u001b[0m     \u001b[38;5;28;01mreturn\u001b[39;00m \u001b[43mxarray\u001b[49m\u001b[38;5;241;43m.\u001b[39;49m\u001b[43mopen_dataset\u001b[49m\u001b[43m(\u001b[49m\u001b[43mds\u001b[49m\u001b[43m,\u001b[49m\u001b[43m \u001b[49m\u001b[38;5;241;43m*\u001b[39;49m\u001b[38;5;241;43m*\u001b[39;49m\u001b[43mkwargs\u001b[49m\u001b[43m)\u001b[49m\n\u001b[1;32m     31\u001b[0m \u001b[38;5;28;01melse\u001b[39;00m:\n\u001b[1;32m     32\u001b[0m     \u001b[38;5;28;01mfrom\u001b[39;00m \u001b[38;5;21;01m.\u001b[39;00m\u001b[38;5;21;01mbuilder\u001b[39;00m \u001b[38;5;28;01mimport\u001b[39;00m SplitDatasetBuilder\n",
      "File \u001b[0;32m~/git/xarray/xarray/backends/api.py:578\u001b[0m, in \u001b[0;36mopen_dataset\u001b[0;34m(filename_or_obj, engine, chunks, cache, decode_cf, mask_and_scale, decode_times, decode_timedelta, use_cftime, concat_characters, decode_coords, drop_variables, inline_array, chunked_array_type, from_array_kwargs, backend_kwargs, **kwargs)\u001b[0m\n\u001b[1;32m    566\u001b[0m decoders \u001b[38;5;241m=\u001b[39m _resolve_decoders_kwargs(\n\u001b[1;32m    567\u001b[0m     decode_cf,\n\u001b[1;32m    568\u001b[0m     open_backend_dataset_parameters\u001b[38;5;241m=\u001b[39mbackend\u001b[38;5;241m.\u001b[39mopen_dataset_parameters,\n\u001b[0;32m   (...)\u001b[0m\n\u001b[1;32m    574\u001b[0m     decode_coords\u001b[38;5;241m=\u001b[39mdecode_coords,\n\u001b[1;32m    575\u001b[0m )\n\u001b[1;32m    577\u001b[0m overwrite_encoded_chunks \u001b[38;5;241m=\u001b[39m kwargs\u001b[38;5;241m.\u001b[39mpop(\u001b[38;5;124m\"\u001b[39m\u001b[38;5;124moverwrite_encoded_chunks\u001b[39m\u001b[38;5;124m\"\u001b[39m, \u001b[38;5;28;01mNone\u001b[39;00m)\n\u001b[0;32m--> 578\u001b[0m backend_ds \u001b[38;5;241m=\u001b[39m \u001b[43mbackend\u001b[49m\u001b[38;5;241;43m.\u001b[39;49m\u001b[43mopen_dataset\u001b[49m\u001b[43m(\u001b[49m\n\u001b[1;32m    579\u001b[0m \u001b[43m    \u001b[49m\u001b[43mfilename_or_obj\u001b[49m\u001b[43m,\u001b[49m\n\u001b[1;32m    580\u001b[0m \u001b[43m    \u001b[49m\u001b[43mdrop_variables\u001b[49m\u001b[38;5;241;43m=\u001b[39;49m\u001b[43mdrop_variables\u001b[49m\u001b[43m,\u001b[49m\n\u001b[1;32m    581\u001b[0m \u001b[43m    \u001b[49m\u001b[38;5;241;43m*\u001b[39;49m\u001b[38;5;241;43m*\u001b[39;49m\u001b[43mdecoders\u001b[49m\u001b[43m,\u001b[49m\n\u001b[1;32m    582\u001b[0m \u001b[43m    \u001b[49m\u001b[38;5;241;43m*\u001b[39;49m\u001b[38;5;241;43m*\u001b[39;49m\u001b[43mkwargs\u001b[49m\u001b[43m,\u001b[49m\n\u001b[1;32m    583\u001b[0m \u001b[43m\u001b[49m\u001b[43m)\u001b[49m\n\u001b[1;32m    584\u001b[0m ds \u001b[38;5;241m=\u001b[39m _dataset_from_backend_dataset(\n\u001b[1;32m    585\u001b[0m     backend_ds,\n\u001b[1;32m    586\u001b[0m     filename_or_obj,\n\u001b[0;32m   (...)\u001b[0m\n\u001b[1;32m    596\u001b[0m     \u001b[38;5;241m*\u001b[39m\u001b[38;5;241m*\u001b[39mkwargs,\n\u001b[1;32m    597\u001b[0m )\n\u001b[1;32m    598\u001b[0m \u001b[38;5;28;01mreturn\u001b[39;00m ds\n",
      "File \u001b[0;32m~/git/earthkit-data/src/earthkit/data/utils/xarray/engine.py:174\u001b[0m, in \u001b[0;36mEarthkitBackendEntrypoint.open_dataset\u001b[0;34m(self, filename_or_obj, source_type, variable_key, drop_variables, extra_variable_attrs, extra_global_attrs, extra_dims, drop_dims, ensure_dims, fixed_dims, flatten_values, remapping, profile, time_dim_mode, time_dim_mapping, add_valid_time_coord, decode_time, level_dim_mode, add_geo_coords, merge_cf_and_pf, errors, array_module)\u001b[0m\n\u001b[1;32m    172\u001b[0m \u001b[38;5;28;01melse\u001b[39;00m:\n\u001b[1;32m    173\u001b[0m     \u001b[38;5;28;01mfrom\u001b[39;00m \u001b[38;5;21;01m.\u001b[39;00m\u001b[38;5;21;01mbuilder\u001b[39;00m \u001b[38;5;28;01mimport\u001b[39;00m SingleDatasetBuilder\n\u001b[0;32m--> 174\u001b[0m \u001b[38;5;28;01mreturn\u001b[39;00m \u001b[43mSingleDatasetBuilder\u001b[49m\u001b[43m(\u001b[49m\u001b[43mfieldlist\u001b[49m\u001b[43m,\u001b[49m\u001b[43m \u001b[49m\u001b[38;5;241;43m*\u001b[39;49m\u001b[38;5;241;43m*\u001b[39;49m\u001b[43m_kwargs\u001b[49m\u001b[43m)\u001b[49m\u001b[38;5;241;43m.\u001b[39;49m\u001b[43mbuild\u001b[49m\u001b[43m(\u001b[49m\u001b[43m)\u001b[49m\n",
      "File \u001b[0;32m~/git/earthkit-data/src/earthkit/data/utils/xarray/builder.py:363\u001b[0m, in \u001b[0;36mSingleDatasetBuilder.build\u001b[0;34m(self)\u001b[0m\n\u001b[1;32m    356\u001b[0m ds, ds_sorted, profile, global_attrs \u001b[38;5;241m=\u001b[39m \u001b[38;5;28mself\u001b[39m\u001b[38;5;241m.\u001b[39mparse()\n\u001b[1;32m    357\u001b[0m dims \u001b[38;5;241m=\u001b[39m profile\u001b[38;5;241m.\u001b[39mdims\u001b[38;5;241m.\u001b[39mto_list()\n\u001b[1;32m    358\u001b[0m builder \u001b[38;5;241m=\u001b[39m TensorBackendBuilder(\n\u001b[1;32m    359\u001b[0m     ds_sorted,\n\u001b[1;32m    360\u001b[0m     profile,\n\u001b[1;32m    361\u001b[0m     dims,\n\u001b[1;32m    362\u001b[0m     global_attrs,\n\u001b[0;32m--> 363\u001b[0m     grid\u001b[38;5;241m=\u001b[39m\u001b[38;5;28;43mself\u001b[39;49m\u001b[38;5;241;43m.\u001b[39;49m\u001b[43mgrid\u001b[49m\u001b[43m(\u001b[49m\u001b[43mds\u001b[49m\u001b[43m)\u001b[49m,\n\u001b[1;32m    364\u001b[0m     flatten_values\u001b[38;5;241m=\u001b[39m\u001b[38;5;28mself\u001b[39m\u001b[38;5;241m.\u001b[39mflatten_values,\n\u001b[1;32m    365\u001b[0m     array_module\u001b[38;5;241m=\u001b[39mnumpy,\n\u001b[1;32m    366\u001b[0m )\n\u001b[1;32m    368\u001b[0m \u001b[38;5;28;01mreturn\u001b[39;00m builder\u001b[38;5;241m.\u001b[39mbuild()\n",
      "File \u001b[0;32m~/git/earthkit-data/src/earthkit/data/utils/xarray/builder.py:337\u001b[0m, in \u001b[0;36mDatasetBuilder.grid\u001b[0;34m(self, ds)\u001b[0m\n\u001b[1;32m    335\u001b[0m grids \u001b[38;5;241m=\u001b[39m ds\u001b[38;5;241m.\u001b[39mindex(\u001b[38;5;124m\"\u001b[39m\u001b[38;5;124mmd5GridSection\u001b[39m\u001b[38;5;124m\"\u001b[39m)\n\u001b[1;32m    336\u001b[0m \u001b[38;5;28;01mif\u001b[39;00m \u001b[38;5;28mlen\u001b[39m(grids) \u001b[38;5;241m!=\u001b[39m \u001b[38;5;241m1\u001b[39m:\n\u001b[0;32m--> 337\u001b[0m     \u001b[38;5;28;01mraise\u001b[39;00m \u001b[38;5;167;01mValueError\u001b[39;00m(\u001b[38;5;124mf\u001b[39m\u001b[38;5;124m\"\u001b[39m\u001b[38;5;124mExpected one grid, got \u001b[39m\u001b[38;5;132;01m{\u001b[39;00m\u001b[38;5;28mlen\u001b[39m(grids)\u001b[38;5;132;01m}\u001b[39;00m\u001b[38;5;124m\"\u001b[39m)\n\u001b[1;32m    338\u001b[0m grid \u001b[38;5;241m=\u001b[39m grids[\u001b[38;5;241m0\u001b[39m]\n\u001b[1;32m    339\u001b[0m key \u001b[38;5;241m=\u001b[39m (grid, \u001b[38;5;28mself\u001b[39m\u001b[38;5;241m.\u001b[39mflatten_values)\n",
      "\u001b[0;31mValueError\u001b[0m: Expected one grid, got 2"
     ]
    }
   ],
   "source": [
    "ds = ds_ek.to_xarray()\n",
    "ds"
   ]
  },
  {
   "cell_type": "code",
   "execution_count": null,
   "id": "7466e69a-f472-46e8-a6a3-8bbe4e07d7ae",
   "metadata": {},
   "outputs": [],
   "source": []
  }
 ],
 "metadata": {
  "kernelspec": {
   "display_name": "dev_ecc",
   "language": "python",
   "name": "dev_ecc"
  },
  "language_info": {
   "codemirror_mode": {
    "name": "ipython",
    "version": 3
   },
   "file_extension": ".py",
   "mimetype": "text/x-python",
   "name": "python",
   "nbconvert_exporter": "python",
   "pygments_lexer": "ipython3",
   "version": "3.10.13"
  }
 },
 "nbformat": 4,
 "nbformat_minor": 5
}
