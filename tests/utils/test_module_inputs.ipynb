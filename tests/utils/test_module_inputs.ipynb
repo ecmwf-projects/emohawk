{
 "cells": [
  {
   "cell_type": "code",
   "execution_count": 2,
   "metadata": {},
   "outputs": [],
   "source": [
    "\n",
    "\n",
    "import numpy as np\n",
    "import pandas as pd\n",
    "import xarray as xr\n",
    "\n",
    "from earthkit.data import from_object, from_source\n",
    "from earthkit.data.readers import Reader\n",
    "from earthkit.data.utils import module_inputs_wrapper\n",
    "\n",
    "import dummy_module\n",
    "from dummy_module import XR_TYPES"
   ]
  },
  {
   "cell_type": "code",
   "execution_count": 3,
   "metadata": {},
   "outputs": [],
   "source": [
    "\n",
    "TEST_NP = np.arange(10)\n",
    "TEST_NP2 = np.arange(10)\n",
    "\n",
    "TEST_DF = pd.DataFrame({\"index\": TEST_NP, \"data\": TEST_NP2}).set_index(\"index\")\n",
    "\n",
    "TEST_DA = xr.DataArray(TEST_NP, name=\"test\")\n",
    "TEST_DA2 = xr.DataArray(TEST_NP2, name=\"test2\")\n",
    "TEST_DS = TEST_DA.to_dataset()\n",
    "TEST_DS[\"test2\"] = TEST_DA2\n",
    "\n",
    "EK_GRIB_READER = from_source(\"file\", \"../data/test_single.grib\")\n",
    "EK_XARRAY_WRAPPER = from_object(TEST_DS)\n",
    "EK_NUMPY_WRAPPER = from_object(TEST_NP)\n",
    "\n",
    "WRAPPED_XR_ONES_LIKE = module_inputs_wrapper.transform_function_inputs(\n",
    "    xr.ones_like, kwarg_types={\"other\": XR_TYPES}\n",
    ")\n",
    "\n",
    "WRAPPED_XR_ONES_LIKE_TYPE_SETTING = module_inputs_wrapper.transform_function_inputs(\n",
    "    dummy_module.xarray_ones_like,\n",
    ")\n",
    "\n",
    "WRAPPED_NP_MEAN = module_inputs_wrapper.transform_function_inputs(\n",
    "    np.mean,\n",
    "    kwarg_types={\"a\": np.ndarray},\n",
    "    convert_types=(\n",
    "        Reader\n",
    "    ),  # Only convert Earthkit.data.Reader (np.mean can handle xarray and pandas)\n",
    ")\n",
    "\n",
    "# WRAPPED_NP_MEAN_TYPE_SETTING = module_inputs_wrapper.transform_function_inputs(\n",
    "#     dummy_module.numpy_mean,\n",
    "# )\n",
    "\n",
    "WRAPPED_DUMMY_MODULE = module_inputs_wrapper.transform_module_inputs(\n",
    "    dummy_module,\n",
    ")\n",
    "\n"
   ]
  },
  {
   "cell_type": "code",
   "execution_count": 11,
   "metadata": {},
   "outputs": [],
   "source": [
    "# np.mean(EK_GRIB_READER)\n",
    "result = WRAPPED_NP_MEAN_TYPE_SETTING(EK_GRIB_READER)\n",
    "assert result  == np.mean(EK_GRIB_READER.to_numpy())\n",
    "assert isinstance(result, np.float64)\n"
   ]
  },
  {
   "cell_type": "code",
   "execution_count": 6,
   "metadata": {},
   "outputs": [
    {
     "data": {
      "text/plain": [
       "xarray.core.dataset.Dataset"
      ]
     },
     "execution_count": 6,
     "metadata": {},
     "output_type": "execute_result"
    }
   ],
   "source": [
    "\n",
    "# Test with Earthkit.data XarrayWrapper object\n",
    "ek_object_result = WRAPPED_DUMMY_MODULE.numpy_mean(EK_XARRAY_WRAPPER)\n",
    "assert ek_object_result == np.mean(TEST_DS)\n",
    "# assert isinstance(ek_object_result, type(EK_XARRAY_WRAPPER.data))\n",
    "\n",
    "type(ek_object_result)"
   ]
  },
  {
   "cell_type": "code",
   "execution_count": null,
   "metadata": {},
   "outputs": [],
   "source": [
    "\n",
    "# Test with Earthkit.data NumpyWrapper object\n",
    "ek_object_result = WRAPPED_DUMMY_MODULE.numpy_mean(EK_NUMPY_WRAPPER)\n",
    "assert ek_object_result == np.mean(TEST_NP)\n",
    "assert isinstance(ek_object_result, np.float64)"
   ]
  }
 ],
 "metadata": {
  "kernelspec": {
   "display_name": "DEVELOP",
   "language": "python",
   "name": "python3"
  },
  "language_info": {
   "codemirror_mode": {
    "name": "ipython",
    "version": 3
   },
   "file_extension": ".py",
   "mimetype": "text/x-python",
   "name": "python",
   "nbconvert_exporter": "python",
   "pygments_lexer": "ipython3",
   "version": "3.10.8"
  },
  "orig_nbformat": 4
 },
 "nbformat": 4,
 "nbformat_minor": 2
}
